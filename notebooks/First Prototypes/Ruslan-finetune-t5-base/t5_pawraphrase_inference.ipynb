{
 "cells": [
  {
   "cell_type": "code",
   "execution_count": null,
   "metadata": {
    "colab": {
     "base_uri": "https://localhost:8080/"
    },
    "executionInfo": {
     "elapsed": 29472,
     "status": "ok",
     "timestamp": 1636207632864,
     "user": {
      "displayName": "Ruslan Mammadov",
      "photoUrl": "https://lh3.googleusercontent.com/a/default-user=s64",
      "userId": "03871087646573601592"
     },
     "user_tz": -60
    },
    "id": "RJWl3gIr1gKL",
    "outputId": "17d6242b-2f0c-4686-f7d5-3594b2766171"
   },
   "outputs": [
    {
     "name": "stdout",
     "output_type": "stream",
     "text": [
      "\u001b[K     |████████████████████████████████| 753.4 MB 6.7 kB/s \n",
      "\u001b[31mERROR: pip's dependency resolver does not currently take into account all the packages that are installed. This behaviour is the source of the following dependency conflicts.\n",
      "torchvision 0.10.0+cu111 requires torch==1.9.0, but you have torch 1.4.0 which is incompatible.\n",
      "torchtext 0.10.0 requires torch==1.9.0, but you have torch 1.4.0 which is incompatible.\u001b[0m\n",
      "\u001b[K     |████████████████████████████████| 635 kB 4.3 MB/s \n",
      "\u001b[K     |████████████████████████████████| 895 kB 65.4 MB/s \n",
      "\u001b[K     |████████████████████████████████| 1.2 MB 19.5 MB/s \n",
      "\u001b[K     |████████████████████████████████| 5.6 MB 13.2 MB/s \n",
      "\u001b[K     |████████████████████████████████| 233 kB 4.1 MB/s \n",
      "\u001b[K     |████████████████████████████████| 829 kB 29.6 MB/s \n",
      "\u001b[?25h  Building wheel for future (setup.py) ... \u001b[?25l\u001b[?25hdone\n"
     ]
    }
   ],
   "source": [
    "!pip3 install torch==1.4.0 -q\n",
    "!pip3 install transformers==2.9.0 -q\n",
    "!pip3 install pytorch_lightning==0.7.5 -q\n",
    "!pip3 install gdown -q"
   ]
  },
  {
   "cell_type": "code",
   "execution_count": null,
   "metadata": {
    "colab": {
     "base_uri": "https://localhost:8080/"
    },
    "executionInfo": {
     "elapsed": 20625,
     "status": "ok",
     "timestamp": 1636207809532,
     "user": {
      "displayName": "Ruslan Mammadov",
      "photoUrl": "https://lh3.googleusercontent.com/a/default-user=s64",
      "userId": "03871087646573601592"
     },
     "user_tz": -60
    },
    "id": "IlrKwxF2lXOO",
    "outputId": "20b1339a-08bf-483d-d79a-dba43718985a"
   },
   "outputs": [
    {
     "name": "stdout",
     "output_type": "stream",
     "text": [
      "Mounted at /content/drive\n"
     ]
    }
   ],
   "source": [
    "from google.colab import drive\n",
    "drive.mount('/content/drive')"
   ]
  },
  {
   "cell_type": "code",
   "execution_count": null,
   "metadata": {
    "id": "j6uyxYi-J8pz"
   },
   "outputs": [],
   "source": [
    "model_location = '/content/drive/MyDrive/Paraphrasing API/models/Ruslan-finetune-t5-base/'"
   ]
  },
  {
   "cell_type": "code",
   "execution_count": null,
   "metadata": {
    "id": "4JNmiqR6xtRJ"
   },
   "outputs": [],
   "source": [
    "import torch\n",
    "from transformers import T5ForConditionalGeneration,T5Tokenizer\n",
    " \n",
    "def set_seed(seed):\n",
    "  torch.manual_seed(seed)\n",
    "  if torch.cuda.is_available():\n",
    "    torch.cuda.manual_seed_all(seed)\n",
    "\n",
    "set_seed(42)\n",
    "\n",
    "tokenizer = T5Tokenizer.from_pretrained('t5-base')\n",
    "model = T5ForConditionalGeneration.from_pretrained(model_location)"
   ]
  },
  {
   "cell_type": "code",
   "execution_count": null,
   "metadata": {
    "colab": {
     "base_uri": "https://localhost:8080/"
    },
    "executionInfo": {
     "elapsed": 486,
     "status": "ok",
     "timestamp": 1636207849205,
     "user": {
      "displayName": "Ruslan Mammadov",
      "photoUrl": "https://lh3.googleusercontent.com/a/default-user=s64",
      "userId": "03871087646573601592"
     },
     "user_tz": -60
    },
    "id": "GACBZklk1drQ",
    "outputId": "e3303b25-990e-4dd4-e9e5-abcdf744bb7a"
   },
   "outputs": [
    {
     "name": "stdout",
     "output_type": "stream",
     "text": [
      "\n",
      "Original Phrase: \n",
      "Trump, Biden pitch dueling visions in final sprint.\n",
      "\n",
      "\n",
      "Paraphrased Phrase: \n",
      "0: After finishing the race, Trump and Biden pitch dueling visions.\n",
      "1: Trump and Biden bring dueling visions to the final sprint.\n",
      "2: In the final sprint, a contest between Trump and Biden to produce dueling visions.\n"
     ]
    }
   ],
   "source": [
    "device = torch.device(\"cuda\" if torch.cuda.is_available() else \"cpu\")\n",
    "model = model.to(device)\n",
    "\n",
    "def predict(sentence):\n",
    "  text =  \"paraphrase: \" + sentence + \" </s>\"\n",
    "\n",
    "  max_len = 256\n",
    "\n",
    "  encoding = tokenizer.encode_plus(text,pad_to_max_length=True, return_tensors=\"pt\")\n",
    "  input_ids, attention_masks = encoding[\"input_ids\"].to(device), encoding[\"attention_mask\"].to(device)\n",
    "\n",
    "\n",
    "  # set top_k = 50 and set top_p = 0.95 and num_return_sequences = 3\n",
    "  beam_outputs = model.generate(\n",
    "      input_ids=input_ids, attention_mask=attention_masks,\n",
    "      do_sample=True,\n",
    "      max_length=256,\n",
    "      top_k=120,\n",
    "      top_p=0.98,\n",
    "      early_stopping=True,\n",
    "      num_return_sequences=3\n",
    "  )\n",
    "\n",
    "  final_outputs = []\n",
    "  for beam_output in beam_outputs:\n",
    "    sent = tokenizer.decode(beam_output, skip_special_tokens=True,clean_up_tokenization_spaces=True)\n",
    "    if sent.lower() != sentence.lower() and sent not in final_outputs:\n",
    "        final_outputs.append(sent)\n",
    "  return final_outputs\n",
    "\n",
    "\n",
    "\n",
    "sentence = \"Trump, Biden pitch dueling visions in final sprint.\"\n",
    "print (\"\\nOriginal Phrase: \")\n",
    "print (sentence)\n",
    "print (\"\\n\")\n",
    "print (\"Paraphrased Phrase: \")\n",
    "final_outputs = predict(sentence)\n",
    "\n",
    "for i, final_output in enumerate(final_outputs):\n",
    "    print(\"{}: {}\".format(i, final_output))"
   ]
  },
  {
   "cell_type": "code",
   "execution_count": null,
   "metadata": {
    "colab": {
     "base_uri": "https://localhost:8080/"
    },
    "executionInfo": {
     "elapsed": 15911,
     "status": "ok",
     "timestamp": 1636207901526,
     "user": {
      "displayName": "Ruslan Mammadov",
      "photoUrl": "https://lh3.googleusercontent.com/a/default-user=s64",
      "userId": "03871087646573601592"
     },
     "user_tz": -60
    },
    "id": "tOgQ4C3SlH9m",
    "outputId": "4e0111ad-4b21-43fb-8c8c-d429d3998cc4"
   },
   "outputs": [
    {
     "name": "stdout",
     "output_type": "stream",
     "text": [
      "\n",
      "Original sentence: \n",
      "Washing your hands Properly will keep you away from COVID-19.\n",
      "-----------------\n",
      "Paraphrased sentences: \n",
      "0: Washing your hands properly keeps you away from COVID-19.\n",
      "1: Washing your hands properly will keep you from COVID-19.\n",
      "\n",
      "Original sentence: \n",
      "Wikipedia was launched on January 15, 2001, and was created by Jimmy Wales and Larry Sanger.\n",
      "-----------------\n",
      "Paraphrased sentences: \n",
      "0: Wikipedia was launched on January 15, 2001 and was created by Jimmy Wales and Larry Sanger.\n",
      "1: Wikipedia was launched on 15 January 2001 and was created by Jimmy Wales and Larry Sanger.\n",
      "2: Wikipedia was launched on January 15th, 2001 and was created by Jimmy Wales and Larry Sanger.\n",
      "\n",
      "Original sentence: \n",
      "NLP is one of the interesting fields for Data Scientists to focus on.\n",
      "-----------------\n",
      "Paraphrased sentences: \n",
      "0: NLP is one of the interesting fields to focus on for data scientists.\n",
      "\n",
      "Original sentence: \n",
      "Do I really need to take a flu shot if I’m healthy with few or no underlying conditions?\n",
      "-----------------\n",
      "Paraphrased sentences: \n",
      "0: Do I really need to take a flu shot when I am healthy with few or no underlying conditions?\n",
      "\n",
      "Original sentence: \n",
      "Which course should I take to get started in data science?\n",
      "-----------------\n",
      "Paraphrased sentences: \n",
      "0: Which course should I take to start in data science?\n",
      "\n",
      "Original sentence: \n",
      "There will be 3 Walmart Black Friday events held in November starting on November 4, November 11 and November 25!\n",
      "-----------------\n",
      "Paraphrased sentences: \n",
      "0: There will be 3 Walmart Black Friday events in November starting November 4, November 11 and November 25!\n",
      "1: In November, Walmart will hold 3 Black Friday events starting on November 4, November 11 and November 25!\n",
      "\n",
      "Original sentence: \n",
      "The FCC says the $200 million civil penalty is the largest fixed-amount penalty in the commission's history.\n",
      "-----------------\n",
      "Paraphrased sentences: \n",
      "0: The FCC says that the 200 million civil penalty is the largest fixed-amount penalty in Commission history.\n",
      "1: The FCC says that the $200 million civil penalty is the largest fixed-amount penalty in Commission history.\n",
      "2: The FCC says the $200 million civil penalty is the largest fixed-amount penalty in the history of the Commission.\n",
      "\n",
      "Original sentence: \n",
      "Southwest Airlines travelers can now fly directly from San Diego to Honolulu on a new service that took off Wednesday out of the San Diego International Airport.\n",
      "-----------------\n",
      "Paraphrased sentences: \n",
      "0: Travelers of Southwest Airlines can now fly direct from San Diego to Honolulu on a new service that took off from San Diego International Airport on Wednesday.\n",
      "1: Southwest Airlines travelers can now fly directly from San Diego to Honolulu on a new service that began from San Diego International Airport on Wednesday.\n",
      "2: Southwest Airlines travelers can now fly directly from San Diego to Honolulu on a new service that took off Wednesday from San Diego International Airport.\n",
      "\n",
      "Original sentence: \n",
      "Gasoline production averaged 9.1 million bpd last week, slightly down on the previous week.\n",
      "-----------------\n",
      "Paraphrased sentences: \n",
      "0: The gas production averaged 9.1 million bpd last week, slightly down from the previous week.\n",
      "1: Die 2014 fuel production averaged 9.1 million bpd, slightly lower than the previous week.\n",
      "2: The last week averaged 9.1 million bpd of gas, a slight decrease compared with the previous week.\n",
      "\n",
      "Original sentence: \n",
      "If you fall into the latter group, here’s how to replace Google’s new icons for Gmail, Calendar, and other apps with the older, arguably better versions on Android, iPhone, and Chrome.\n",
      "-----------------\n",
      "Paraphrased sentences: \n",
      "0: If you fall into the latter group, here’s how to replace Google’s new icons for Gmail, Calendar, and other apps with older, arguably better versions on Android, iPhone, and Chrome.\n",
      "1: If you fall into the latter group here's how to replace the new icons of Google for Gmail, Calendar and other apps with older, arguably better versions on Android, iPhone and Chrome.\n",
      "2: If you fall into the second group, here’s how to replace Google’s new icons for Gmail, Calendar, and other apps with older, arguably better versions on Android, iPhone and Chrome.\n",
      "\n",
      "Original sentence: \n",
      "Apple has been working on ARM-based Macs for some time, but only made them official at this year's WWDC.\n",
      "-----------------\n",
      "Paraphrased sentences: \n",
      "0: Apple has been working on ARM-based Macs for some time, but made them official only at WWDC in this year.\n",
      "1: For some time Apple has been working on ARM-based Macs, but made them official only at WWDC this year.\n",
      "2: Apple has been working on ARM-based Macs for some time, but only made them official at WWDC this year.\n",
      "\n",
      "Original sentence: \n",
      "Microsoft is investigating reports that some users are seeing error 0x80070426 when using their Microsoft account to sign into various apps.\n",
      "-----------------\n",
      "Paraphrased sentences: \n",
      "0: Microsoft is investigating reports that some users see an error 0x80070426 when using their Microsoft account to sign in to various apps.\n",
      "1: Microsoft is investigating reports that some users seeing the error 0x80070426 when using their Microsoft account to sign into various apps.\n",
      "2: Microsoft investigates reports that some users see the error 0x80070426 when they use their Microsoft account to sign into various apps.\n",
      "\n",
      "Original sentence: \n",
      "On Saturday, Connery’s family announced that the Oscar-winning Scottish actor died peacefully in his sleep at home in the Bahamas.\n",
      "-----------------\n",
      "Paraphrased sentences: \n",
      "0: Connery’s family announced on Saturday that the Oscar-winning Scottish actor died peacefully in his sleep at home in Bahamas.\n",
      "1: On Saturday, Connery's family announced that the Oscar winner died peacefully in his sleep in his home in Bahamas.\n",
      "2: On Saturday Connery’s family announced that the Oscar-winning Scottish actor died peacefully in his sleep at home in Bahamas.\n",
      "\n",
      "Original sentence: \n",
      "Baby Shark Dance, from South Korean brand Pinkfong, officially surpassed the song by Luis Fonsi as the most viewed YouTube video of all time, having racked up 7.05 billion views to 7.04 billion.\n",
      "-----------------\n",
      "Paraphrased sentences: \n",
      "0: Baby Shark Dance from the South Korean brand Pinkfong officially surpassed the song by Luis Fonsi as the most seen YouTube video of all time, racked up more than 7.05 billion views to 7.04 billion.\n",
      "1: Baby Shark Dance, from South Korean brand Pinkfong, officially surpassed the song by Luis Fonsi as the most watched YouTube video of all time, which had a cumulative 7.05 billion views to 7.04 billion.\n",
      "2: Baby Shark Dance, the South Korean brand Pinkfong, officially defeated the song by Luis Fonsi as the most viewed YouTube video of all time with 7.05 billion views to 7.04 billion.\n",
      "\n",
      "Original sentence: \n",
      "The University of Washington has informed the NFL office that due to an increase in COVID-19 infection rate and indications of increased community spread in the local area, NFL personnel are no longer allowed to attend games at Husky Stadium.\n",
      "-----------------\n",
      "Paraphrased sentences: \n",
      "0: The University of Washington has informed the NFL office that because of an increase in COVID-19 infection rate and indications of community spread in the local area, NFL personnel are no longer allowed to attend games at Husky Stadium.\n",
      "1: The University of Washington has informed the NFL office that due to an increase in the COVID-19 infection rate and to indications of an increased community spread in the local area, NFL personnel are no longer allowed to attend games at Husky Stadium.\n",
      "2: The University of Washington informed the NFL office that due to a growth in COVID-19 infection rate and indications of community spreading in the local area, NFL personnel are no longer allowed to attend games at Husky Stadium.\n",
      "\n",
      "Original sentence: \n",
      "The NBA's basketball-related income was down $1.5 billion last season, according to data provided to teams and obtained by ESPN.\n",
      "-----------------\n",
      "Paraphrased sentences: \n",
      "0: Basketball revenue from the NBA last season was down by $1.5 billion according to data provided to teams and obtained by ESPN.\n",
      "1: Basketball related income for the NBA was down by $1.5 billion last season, according to the data provided to teams by ESPN and analyzed.\n",
      "2: The NBA's basketball revenue was down by $1.5 billion last season according to data provided to teams and obtained by ESPN.\n",
      "\n",
      "Original sentence: \n",
      "Yesterday, the huge orbiting laboratory celebrated 20 years of continuous human occupation, a big milestone in humanity's push to extend its footprint into the final frontier.\n",
      "-----------------\n",
      "Paraphrased sentences: \n",
      "0: Yesterday, the gigantic orbiting laboratory celebrated 20 years of continuous human occupation - a big milestone in the human - push to extend its footprint into the final frontier.\n",
      "1: Yesterday, the enormous orbiting laboratory celebrated 20 years of continuous human occupation, a big milestone in the push of humankind to extend its footprint to the final frontier.\n",
      "2: Yesterday, the gigantic orbiting laboratory celebrated 20 years of continuous human occupation, a big milestone in the push of humanity to extend its footprint into the final frontier.\n",
      "\n",
      "Original sentence: \n",
      "A team of researchers led by Osaka University and National Taiwan University created a system of nanoscale silicon resonators that can act as logic gates for light pulses.\n",
      "-----------------\n",
      "Paraphrased sentences: \n",
      "0: A team of researchers led by the Osaka University and the Taiwan National University has created a system of nanoscale silicon resonators that can act as logic gates for light pulses.\n",
      "1: A team of researchers led by Osaka University and National Taiwan University created a system of nanoscale silicon resonators that can act as logic gates for light pulses\n",
      "2: A team of researchers led by Osaka University and National Taiwan University have created a system of nanoscale silicon resonators that can act as logic gates for light pulses.\n",
      "\n",
      "Original sentence: \n",
      "The research on 100 people shows that all had T-cell responses against a range of the coronavirus’s proteins, including the spike protein used as a marker in many vaccine studies, after half a year.\n",
      "-----------------\n",
      "Paraphrased sentences: \n",
      "0: Research on 100 people shows that after a half year all T-cell responses against a range of coronavirus proteins, including spike protein used in many vaccination studies as a marker, could occur.\n",
      "1: The research on 100 people shows that after a half year all of them had T-cell responses to a range of coronavirus proteins, including spike protein used as a marker in many vaccine trials.\n",
      "2: The research at 100 people showed that after half a year, all of them had T-cell responses against a range of coronavirus proteins, including spike protein, used as a marker in many vaccine studies.\n",
      "\n",
      "Original sentence: \n",
      "A group of researchers at MIT recently developed an artificial intelligence model that can detect asymptomatic COVID-19 cases by listening to subtle differences in coughs between healthy people and infected people.\n",
      "-----------------\n",
      "Paraphrased sentences: \n",
      "0: A group of researchers at the MIT have recently developed an artificial intelligence model that can detect COVID-19 cases that are asymptomatic by listening to subtle differences in the coughs between healthy and infected people.\n",
      "1: A group of MIT researchers vetoed recently an artificial intelligence model that can detect asymptomatic COVID-19 cases by listening to subtle differences in coughs between healthy people and infected people.\n"
     ]
    }
   ],
   "source": [
    "sentence_1 = \"Washing your hands Properly will keep you away from COVID-19.\"\n",
    "sentence_2 = \"Wikipedia was launched on January 15, 2001, and was created by Jimmy Wales and Larry Sanger.\"\n",
    "sentence_3 = \"NLP is one of the interesting fields for Data Scientists to focus on.\"\n",
    "sentence_4 = \"Do I really need to take a flu shot if I’m healthy with few or no underlying conditions?\"\n",
    "sentence_5 = \"Which course should I take to get started in data science?\"\n",
    "sentence_6 = \"There will be 3 Walmart Black Friday events held in November starting on November 4, November 11 and November 25!\"\n",
    "sentence_7 = \"The FCC says the $200 million civil penalty is the largest fixed-amount penalty in the commission's history.\"\n",
    "sentence_8 = \"Southwest Airlines travelers can now fly directly from San Diego to Honolulu on a new service that took off Wednesday out of the San Diego International Airport.\"\n",
    "sentence_9 = \"Gasoline production averaged 9.1 million bpd last week, slightly down on the previous week.\"\n",
    "sentence_10 = \"If you fall into the latter group, here’s how to replace Google’s new icons for Gmail, Calendar, and other apps with the older, arguably better versions on Android, iPhone, and Chrome.\"\n",
    "sentence_11 = \"Apple has been working on ARM-based Macs for some time, but only made them official at this year's WWDC.\"\n",
    "sentence_12 = \"Microsoft is investigating reports that some users are seeing error 0x80070426 when using their Microsoft account to sign into various apps.\"\n",
    "sentence_13 = \"On Saturday, Connery’s family announced that the Oscar-winning Scottish actor died peacefully in his sleep at home in the Bahamas.\"\n",
    "sentence_14 = \"Baby Shark Dance, from South Korean brand Pinkfong, officially surpassed the song by Luis Fonsi as the most viewed YouTube video of all time, having racked up 7.05 billion views to 7.04 billion.\"\n",
    "sentence_15 = \"The University of Washington has informed the NFL office that due to an increase in COVID-19 infection rate and indications of increased community spread in the local area, NFL personnel are no longer allowed to attend games at Husky Stadium.\"\n",
    "sentence_16 = \"The NBA's basketball-related income was down $1.5 billion last season, according to data provided to teams and obtained by ESPN.\"\n",
    "sentence_17 = \"Yesterday, the huge orbiting laboratory celebrated 20 years of continuous human occupation, a big milestone in humanity's push to extend its footprint into the final frontier.\"\n",
    "sentence_18 = \"A team of researchers led by Osaka University and National Taiwan University created a system of nanoscale silicon resonators that can act as logic gates for light pulses.\"\n",
    "sentence_19 = \"The research on 100 people shows that all had T-cell responses against a range of the coronavirus’s proteins, including the spike protein used as a marker in many vaccine studies, after half a year.\"\n",
    "sentence_20 = \"A group of researchers at MIT recently developed an artificial intelligence model that can detect asymptomatic COVID-19 cases by listening to subtle differences in coughs between healthy people and infected people.\"\n",
    "\n",
    "for sentence in [sentence_1, sentence_2, sentence_3, sentence_4, sentence_5, sentence_6, sentence_7, sentence_8,\n",
    "                 sentence_9, sentence_10, sentence_11, sentence_12, sentence_13, sentence_14, sentence_15,sentence_16, sentence_17, sentence_18,\n",
    "                 sentence_19, sentence_20]:\n",
    "  final_outputs = predict(sentence)\n",
    "  print()\n",
    "  print (\"Original sentence: \")\n",
    "  print (sentence)\n",
    "  print(\"-----------------\")\n",
    "  print (\"Paraphrased sentences: \")\n",
    "  for i, final_output in enumerate(final_outputs):\n",
    "      print(\"{}: {}\".format(i, final_output))"
   ]
  }
 ],
 "metadata": {
  "accelerator": "GPU",
  "colab": {
   "name": "t5_pawraphrase_inference.ipynb",
   "provenance": []
  },
  "kernelspec": {
   "display_name": "Python 3",
   "language": "python",
   "name": "python3"
  },
  "language_info": {
   "codemirror_mode": {
    "name": "ipython",
    "version": 3
   },
   "file_extension": ".py",
   "mimetype": "text/x-python",
   "name": "python",
   "nbconvert_exporter": "python",
   "pygments_lexer": "ipython3",
   "version": "3.8.8"
  }
 },
 "nbformat": 4,
 "nbformat_minor": 1
}
