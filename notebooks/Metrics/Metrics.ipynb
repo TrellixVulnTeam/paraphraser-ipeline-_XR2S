{
 "cells": [
  {
   "cell_type": "markdown",
   "metadata": {
    "id": "QSCkz5WkNQbi"
   },
   "source": [
    "# Metrics\n",
    "Authors: Ruslan Mammadov \\<ruslanmammadov48@gmail.com\\>, Flora Geske, David Francisco \\<Dfrancisco1998@gmail.com\\>\n",
    "\n",
    "Copyright (C) 2021 Ruslan Mammadov, Flora Geske, David Francisco, and DynaGroup i.T. GmbH"
   ]
  },
  {
   "cell_type": "markdown",
   "metadata": {
    "id": "GJ2TLy64AkCa"
   },
   "source": [
    "# Preparation"
   ]
  },
  {
   "cell_type": "code",
   "execution_count": null,
   "metadata": {
    "colab": {
     "base_uri": "https://localhost:8080/"
    },
    "executionInfo": {
     "elapsed": 20831,
     "status": "ok",
     "timestamp": 1637961257928,
     "user": {
      "displayName": "Ruslan Mammadov",
      "photoUrl": "https://lh3.googleusercontent.com/a/default-user=s64",
      "userId": "03871087646573601592"
     },
     "user_tz": -60
    },
    "id": "FOSNkyDrEhuz",
    "outputId": "db331447-30a4-478d-b0f2-48084ec9ce81"
   },
   "outputs": [
    {
     "name": "stdout",
     "output_type": "stream",
     "text": [
      "Mounted at /content/drive\n"
     ]
    }
   ],
   "source": [
    "from google.colab import drive\n",
    "drive.mount('/content/drive')"
   ]
  },
  {
   "cell_type": "code",
   "execution_count": null,
   "metadata": {
    "id": "g8iypYRykHV7"
   },
   "outputs": [],
   "source": [
    "!pip install sacrebleu > /dev/null\n",
    "!pip install rouge > /dev/null\n",
    "!pip install datasets > /dev/null\n",
    "!pip install rouge_score > /dev/null\n",
    "!pip install sentencepiece > /dev/null\n",
    "!pip install bert_score > /dev/null"
   ]
  },
  {
   "cell_type": "code",
   "execution_count": null,
   "metadata": {
    "id": "0vzh_-OkBstR"
   },
   "outputs": [],
   "source": [
    "# Example sentences\n",
    "references_batch = [['The dog bit the man.', 'The dog had bit the man.'],\n",
    "                    ['It was not unexpected.', 'No one was surprised.'],\n",
    "                    ['The man bit him first.', 'The man had bitten the dog.']]\n",
    "input_batch = one_reference_batch = [references[0] for references in references_batch]\n",
    "\n",
    "output_batch = ['The dog bit the man.', \"It wasn't surprising.\", 'The man had just bitten him.']\n",
    "\n",
    "reference = input = \"The man bit him first.\"\n",
    "output = \"The man had bitten the dog.\"\n",
    "\n",
    "dog_references = [\n",
    "    'this is a dog',\n",
    "    'it is dog truly',\n",
    "    'dog it is indeed',\n",
    "    'a dog, it is as fact' \n",
    "]\n",
    "dog_output = 'it is dog in fact'"
   ]
  },
  {
   "cell_type": "code",
   "execution_count": null,
   "metadata": {
    "id": "dEP-0FlMbr4K"
   },
   "outputs": [],
   "source": [
    "reference_tokenized = input_tokenized = \"the man bit him first\".split()\n",
    "output_tokenized = \"the man had bitten the dog\".split()\n",
    "\n",
    "input_batch_tokenized = one_reference_batch_tokenized = [text.replace(\".\", \"\").lower().split() for text in one_reference_batch]\n",
    "output_batch_tokenized = [text.replace(\".\", \"\").lower().split() for text in output_batch]\n",
    "\n",
    "references_batch_tokenized = [[text.replace(\".\", \"\").lower().split() for text in sample] for sample in references_batch]\n",
    "\n",
    "dog_references_tokenized = [text.replace(\",\", \"\").lower().split() for text in dog_references]\n",
    "dog_output_tokenized = 'it is dog in fact'.split()"
   ]
  },
  {
   "cell_type": "code",
   "execution_count": null,
   "metadata": {
    "colab": {
     "base_uri": "https://localhost:8080/",
     "height": 143
    },
    "executionInfo": {
     "elapsed": 1108,
     "status": "ok",
     "timestamp": 1637961284198,
     "user": {
      "displayName": "Ruslan Mammadov",
      "photoUrl": "https://lh3.googleusercontent.com/a/default-user=s64",
      "userId": "03871087646573601592"
     },
     "user_tz": -60
    },
    "id": "VOIv2c_mweIN",
    "outputId": "3a60383b-1505-4928-c77a-8708dfec7914"
   },
   "outputs": [
    {
     "data": {
      "text/html": [
       "<div>\n",
       "<style scoped>\n",
       "    .dataframe tbody tr th:only-of-type {\n",
       "        vertical-align: middle;\n",
       "    }\n",
       "\n",
       "    .dataframe tbody tr th {\n",
       "        vertical-align: top;\n",
       "    }\n",
       "\n",
       "    .dataframe thead th {\n",
       "        text-align: right;\n",
       "    }\n",
       "</style>\n",
       "<table border=\"1\" class=\"dataframe\">\n",
       "  <thead>\n",
       "    <tr style=\"text-align: right;\">\n",
       "      <th></th>\n",
       "      <th>Unnamed: 0</th>\n",
       "      <th>Unnamed: 0.1</th>\n",
       "      <th>string_1</th>\n",
       "      <th>string_2</th>\n",
       "      <th>prediction</th>\n",
       "    </tr>\n",
       "  </thead>\n",
       "  <tbody>\n",
       "    <tr>\n",
       "      <th>0</th>\n",
       "      <td>0</td>\n",
       "      <td>820</td>\n",
       "      <td>The department's position threatens to alienat...</td>\n",
       "      <td>The department's stance disappointed some abor...</td>\n",
       "      <td>The department's position threatens to alienat...</td>\n",
       "    </tr>\n",
       "    <tr>\n",
       "      <th>1</th>\n",
       "      <td>1</td>\n",
       "      <td>172</td>\n",
       "      <td>US District Judge William M. Hoeveler's remova...</td>\n",
       "      <td>U.S. District Judge William M. Hoeveler's remo...</td>\n",
       "      <td>US District Judge William Hoeveler's will by h...</td>\n",
       "    </tr>\n",
       "    <tr>\n",
       "      <th>2</th>\n",
       "      <td>2</td>\n",
       "      <td>817</td>\n",
       "      <td>The charges came after the federal government ...</td>\n",
       "      <td>The charges came after the federal government ...</td>\n",
       "      <td>The charges came after the federal government ...</td>\n",
       "    </tr>\n",
       "  </tbody>\n",
       "</table>\n",
       "</div>"
      ],
      "text/plain": [
       "   Unnamed: 0  ...                                         prediction\n",
       "0           0  ...  The department's position threatens to alienat...\n",
       "1           1  ...  US District Judge William Hoeveler's will by h...\n",
       "2           2  ...  The charges came after the federal government ...\n",
       "\n",
       "[3 rows x 5 columns]"
      ]
     },
     "execution_count": 6,
     "metadata": {},
     "output_type": "execute_result"
    }
   ],
   "source": [
    "import pandas as pd\n",
    "df = pd.read_csv(\"/content/drive/MyDrive/Paraphrasing API/datasets/msr_paraphrase_preds.csv\")\n",
    "df.string_1 = df.string_1.astype(str)\n",
    "df.string_2 = df.string_2.astype(str)\n",
    "df.prediction = df.prediction.astype(str)\n",
    "df.head(3)"
   ]
  },
  {
   "cell_type": "markdown",
   "metadata": {
    "id": "5W08HcGIWNJ_"
   },
   "source": [
    "# Wrappers"
   ]
  },
  {
   "cell_type": "code",
   "execution_count": null,
   "metadata": {
    "id": "VtwIo2ggWQcz"
   },
   "outputs": [],
   "source": [
    "import numpy as np\n",
    "\n",
    "def compute_for_every_sample(func, first_argument_batch, second_argument_batch):\n",
    "  return  [func(arg1, arg2) for arg1, arg2 in zip(first_argument_batch, second_argument_batch)]\n",
    "\n",
    "def average_over_corpus(sentence_metrics_func, first_argument_batch, second_argument_batch):\n",
    "  values = compute_for_every_sample(sentence_metrics_func, first_argument_batch, second_argument_batch)\n",
    "  return sum(values) / len(values)"
   ]
  },
  {
   "cell_type": "markdown",
   "metadata": {
    "id": "Z5JvNjc7Bu2L"
   },
   "source": [
    "# Reference based scores"
   ]
  },
  {
   "cell_type": "markdown",
   "metadata": {
    "id": "XKDtaUnV1bCR"
   },
   "source": [
    "## Bleu and Rouge score\n",
    "\n",
    "Bleu measures precision: how much the words (and/or n-grams) in the machine generated summaries appeared in the human reference summaries.\n",
    "\n",
    "Rouge measures recall: how much the words (and/or n-grams) in the human reference summaries appeared in the machine generated summaries."
   ]
  },
  {
   "cell_type": "markdown",
   "metadata": {
    "id": "F1e92dmgNmSM"
   },
   "source": [
    "#### Sacreblue: Use for not tokenized texts!"
   ]
  },
  {
   "cell_type": "code",
   "execution_count": null,
   "metadata": {
    "colab": {
     "base_uri": "https://localhost:8080/"
    },
    "executionInfo": {
     "elapsed": 36,
     "status": "ok",
     "timestamp": 1637961284202,
     "user": {
      "displayName": "Ruslan Mammadov",
      "photoUrl": "https://lh3.googleusercontent.com/a/default-user=s64",
      "userId": "03871087646573601592"
     },
     "user_tz": -60
    },
    "id": "UqAGw38tymin",
    "outputId": "d8da286c-d77e-4d9b-d12c-42d817557561"
   },
   "outputs": [
    {
     "name": "stdout",
     "output_type": "stream",
     "text": [
      "BLEU = 61.88 70.0/62.5/66.7/75.0 (BP = 0.905 ratio = 0.909 hyp_len = 10 ref_len = 11)\n",
      "BLEU = 14.54 42.9/16.7/10.0/6.2 (BP = 1.000 ratio = 1.167 hyp_len = 7 ref_len = 6)\n"
     ]
    }
   ],
   "source": [
    "# Sacre blue, use that.\n",
    "# Default choise for bleu score with own tokenizer. It is widely used to get comparable results\n",
    "from sacrebleu import sentence_bleu, corpus_bleu\n",
    "\n",
    "print(corpus_bleu(output_batch, references_batch, lowercase=True))\n",
    "print(sentence_bleu(output, [reference], lowercase=True))"
   ]
  },
  {
   "cell_type": "code",
   "execution_count": null,
   "metadata": {
    "colab": {
     "base_uri": "https://localhost:8080/"
    },
    "executionInfo": {
     "elapsed": 35,
     "status": "ok",
     "timestamp": 1637961284205,
     "user": {
      "displayName": "Ruslan Mammadov",
      "photoUrl": "https://lh3.googleusercontent.com/a/default-user=s64",
      "userId": "03871087646573601592"
     },
     "user_tz": -60
    },
    "id": "3r0ctMvp22Je",
    "outputId": "669cec08-0780-4acd-8246-b3c3a0661ace"
   },
   "outputs": [
    {
     "name": "stdout",
     "output_type": "stream",
     "text": [
      "0.5990578279954589\n",
      "0.24620310649457844\n"
     ]
    }
   ],
   "source": [
    "import numpy as np\n",
    "from sacrebleu import sentence_bleu, corpus_bleu\n",
    "\n",
    "# Wrapper for array, array -> array\n",
    "def compute_blue_for_every_sample(outputs, references) -> list:\n",
    "\n",
    "  assert len(np.shape(outputs)) == 1\n",
    "  if len(np.shape(references)) == 1:\n",
    "    references = np.expand_dims(references, axis=1).tolist()\n",
    "\n",
    "  def one_sample_bleu(output, reference):\n",
    "    return sentence_bleu(output, reference, lowercase=True, smooth_method='exp').score / 100\n",
    "\n",
    "  return compute_for_every_sample(one_sample_bleu, outputs, references)\n",
    "\n",
    "def compute_bleu(outputs, references) -> int:\n",
    "\n",
    "  assert len(np.shape(outputs)) == 1\n",
    "  if len(np.shape(references)) == 1:\n",
    "    references = np.expand_dims(references, axis=1).tolist()\n",
    "\n",
    "  return corpus_bleu(list(outputs), references, lowercase=True).score / 100\n",
    "\n",
    "print(compute_bleu(df.prediction, df.string_2))\n",
    "print(np.mean(compute_blue_for_every_sample(df.prediction, df.string_2)))"
   ]
  },
  {
   "cell_type": "markdown",
   "metadata": {
    "id": "28brGfe7NgOS"
   },
   "source": [
    "#### NTLK Implementation: Use for tokenized texts!"
   ]
  },
  {
   "cell_type": "code",
   "execution_count": null,
   "metadata": {
    "colab": {
     "base_uri": "https://localhost:8080/"
    },
    "executionInfo": {
     "elapsed": 783,
     "status": "ok",
     "timestamp": 1637961284957,
     "user": {
      "displayName": "Ruslan Mammadov",
      "photoUrl": "https://lh3.googleusercontent.com/a/default-user=s64",
      "userId": "03871087646573601592"
     },
     "user_tz": -60
    },
    "id": "HgU1mO7HNeZy",
    "outputId": "633e8076-74a3-45a3-c081-5de751000aaf"
   },
   "outputs": [
    {
     "name": "stdout",
     "output_type": "stream",
     "text": [
      "['the', 'man', 'bit', 'him', 'first'] ['the', 'man', 'had', 'bitten', 'the', 'dog']\n",
      "0.22141179722338475\n",
      "0.38440009661674196\n",
      "--------------------\n",
      "0.4371701005205063\n",
      "0.481334461755719\n"
     ]
    }
   ],
   "source": [
    "# Ntlk scores for comparision, use if your data is already tokenized, and you like the current tokenizer\n",
    "from nltk.translate import bleu_score\n",
    "\n",
    "# Smooting method -> what happens if there are no common 1-4 ngrams?\n",
    "# method 4 -> reweighting -> good method\n",
    "smoothing_function = bleu_score.SmoothingFunction().method4\n",
    "\n",
    "def get_bleu_tokenized(reference, output):\n",
    "    return bleu_score.sentence_bleu([reference], output, smoothing_function=smoothing_function)\n",
    "\n",
    "def get_bleu_tokenized_multiple_references(references, output):\n",
    "    return bleu_score.sentence_bleu(references, output, smoothing_function=smoothing_function)\n",
    "\n",
    "def get_bleu_corpus_tokenized(reference_batch, output_batch):\n",
    "    reference_batch = [[text] for text in reference_batch]\n",
    "    return bleu_score.corpus_bleu(reference_batch, output_batch, smoothing_function=smoothing_function)\n",
    "\n",
    "def get_bleu_corpus_tokenized_multiple_references(reference_batch, output_batch):\n",
    "    return bleu_score.corpus_bleu(reference_batch, output_batch, smoothing_function=smoothing_function) \n",
    "\n",
    "print(reference_tokenized, output_tokenized)\n",
    "print(get_bleu_tokenized(reference_tokenized, output_tokenized))\n",
    "print(get_bleu_tokenized_multiple_references(dog_references_tokenized, dog_output_tokenized))\n",
    "print('--------------------')\n",
    "print(get_bleu_corpus_tokenized(one_reference_batch_tokenized, output_batch_tokenized))\n",
    "print(get_bleu_corpus_tokenized_multiple_references(references_batch_tokenized, output_batch_tokenized))"
   ]
  },
  {
   "cell_type": "code",
   "execution_count": null,
   "metadata": {
    "colab": {
     "base_uri": "https://localhost:8080/"
    },
    "executionInfo": {
     "elapsed": 8,
     "status": "ok",
     "timestamp": 1637961284958,
     "user": {
      "displayName": "Ruslan Mammadov",
      "photoUrl": "https://lh3.googleusercontent.com/a/default-user=s64",
      "userId": "03871087646573601592"
     },
     "user_tz": -60
    },
    "id": "tj0MLlzrvrAB",
    "outputId": "5fce33ec-8c86-4f00-d1d2-f9d75e3a9520"
   },
   "outputs": [
    {
     "data": {
      "text/plain": [
       "['the', 'man', 'had', 'bitten', 'the', 'dog']"
      ]
     },
     "execution_count": 11,
     "metadata": {},
     "output_type": "execute_result"
    }
   ],
   "source": [
    "output_tokenized"
   ]
  },
  {
   "cell_type": "markdown",
   "metadata": {
    "id": "lbfuyIETDxUV"
   },
   "source": [
    "## F1 metrics from Bleu and Rouge\n",
    "Short version: one can use the F1 measure to make the metrics work together: F1 = 2 * (Bleu * Rouge) / (Bleu + Rouge)\n",
    "\n",
    "Reason: Naturally - Bleu and Rouge results are complementing, as is often the case in precision vs recall. If you have many words/ngrams from the system results appearing in the human references you will have high Bleu, and if you have many words/ngrams from the human references appearing in the system results you will have high Rouge.\n",
    "\n",
    "There's something called brevity penalty, which is quite important and has already been added to standard Bleu implementations. It penalizes system results which are shorter than the general length of a reference (read more about it here). This complements the n-gram metric behavior which in effect penalizes longer than reference results, since the denominator grows the longer the system result is.\n",
    "\n",
    "You could also implement something similar for Rouge, but this time penalizing system results which are longer than the general reference length, which would otherwise enable them to obtain artificially higher Rouge scores (since the longer the result, the higher the chance you would hit some word appearing in the references). In Rouge we divide by the length of the human references, so we would need an additional penalty for longer system results which could artificially raise their Rouge score."
   ]
  },
  {
   "cell_type": "markdown",
   "metadata": {
    "id": "YInpEE2yN-I1"
   },
   "source": [
    "#### Rouge python implementation"
   ]
  },
  {
   "cell_type": "code",
   "execution_count": null,
   "metadata": {
    "colab": {
     "base_uri": "https://localhost:8080/",
     "height": 49,
     "referenced_widgets": [
      "3bfd7247e4c14b9aabfc852d8423f1d0",
      "d251acb53f44469a95dcc8b1ba6eddbf",
      "4136e7541fbf4dd39c35c74461064de2",
      "475062705fde45d78cbe1d49324f535e",
      "5b3b0f22f2e840f58aedcdc1dfb562a9",
      "9a981adf9256477690b2d91fc53965ce",
      "77104e1ee59447f4b2eb6cf15caec2c9",
      "8691db8def6e4b7a83ee1c302e2be37e",
      "ed913a5e500443219f28ecc671fb13e7",
      "35be120528b84445991f9820388fbad9",
      "d9662ea358c142a79e0bf278bfaa75b3"
     ]
    },
    "executionInfo": {
     "elapsed": 6652,
     "status": "ok",
     "timestamp": 1637961291606,
     "user": {
      "displayName": "Ruslan Mammadov",
      "photoUrl": "https://lh3.googleusercontent.com/a/default-user=s64",
      "userId": "03871087646573601592"
     },
     "user_tz": -60
    },
    "id": "B5eD9s_CMfGt",
    "outputId": "6f93b3a6-8566-430d-f423-8b3a98575978"
   },
   "outputs": [
    {
     "data": {
      "application/vnd.jupyter.widget-view+json": {
       "model_id": "3bfd7247e4c14b9aabfc852d8423f1d0",
       "version_major": 2,
       "version_minor": 0
      },
      "text/plain": [
       "Downloading:   0%|          | 0.00/2.17k [00:00<?, ?B/s]"
      ]
     },
     "metadata": {},
     "output_type": "display_data"
    }
   ],
   "source": [
    "from datasets import load_metric\n",
    "rouge = load_metric(\"rouge\")"
   ]
  },
  {
   "cell_type": "code",
   "execution_count": null,
   "metadata": {
    "colab": {
     "base_uri": "https://localhost:8080/"
    },
    "executionInfo": {
     "elapsed": 1169,
     "status": "ok",
     "timestamp": 1637961292756,
     "user": {
      "displayName": "Ruslan Mammadov",
      "photoUrl": "https://lh3.googleusercontent.com/a/default-user=s64",
      "userId": "03871087646573601592"
     },
     "user_tz": -60
    },
    "id": "C1MVnvlCTdI2",
    "outputId": "7aa998a6-435d-4828-8df4-c343b3ce302c"
   },
   "outputs": [
    {
     "data": {
      "text/plain": [
       "{'rouge1': Score(precision=0.5440751337162673, recall=0.5217869214667837, fmeasure=0.5225755063324635),\n",
       " 'rouge2': Score(precision=0.3479187347455047, recall=0.3289211321185298, fmeasure=0.33113314864053994),\n",
       " 'rougeL': Score(precision=0.5033288712903872, recall=0.4805370513308267, fmeasure=0.48217195036427385),\n",
       " 'rougeLsum': Score(precision=0.5030677782680595, recall=0.48022754500597775, fmeasure=0.48211377930275345)}"
      ]
     },
     "execution_count": 13,
     "metadata": {},
     "output_type": "execute_result"
    }
   ],
   "source": [
    "def compute_rouge(outputs, references, only_averages=True):\n",
    "    assert len(np.shape(outputs)) == 1\n",
    "    assert len(np.shape(references)) == 1\n",
    "\n",
    "    results = rouge.compute(predictions=outputs, references=references)\n",
    "    if only_averages:\n",
    "      for key, value in results.items():\n",
    "        results[key] = value.mid\n",
    "    return results\n",
    "\n",
    "rouge_results = compute_rouge(df.prediction, df.string_2)\n",
    "rouge_results"
   ]
  },
  {
   "cell_type": "markdown",
   "metadata": {
    "id": "PlYuGu9pjzOu"
   },
   "source": [
    "### GLUE - Google BLUE, like BLUE, but better"
   ]
  },
  {
   "cell_type": "code",
   "execution_count": null,
   "metadata": {
    "id": "pkJ_FC4QqABy"
   },
   "outputs": [],
   "source": [
    "from rouge_score import tokenize\n",
    "from nltk.translate import gleu_score"
   ]
  },
  {
   "cell_type": "code",
   "execution_count": null,
   "metadata": {
    "id": "qspZP5qRqDAQ"
   },
   "outputs": [],
   "source": [
    "def tokenize_for_reference_based_metrics(outputs, references):\n",
    "  outputs_tok = [str(tokenize.tokenize(sample, stemmer=None)) for sample in outputs]\n",
    "  if len(np.shape(references)) == 2:\n",
    "    references_tok = [[str(tokenize.tokenize(reference, stemmer=None)) for reference in sample] for sample in references]\n",
    "  elif len(np.shape(references)) == 1:\n",
    "    references_tok = [str(tokenize.tokenize(sample, stemmer=None)) for sample in references]\n",
    "  else:\n",
    "    raise Exception(f\"Dim of references should be 1 or 2, not {len(np.shape(references))}!\")\n",
    "\n",
    "  return outputs_tok, references_tok\n",
    "\n",
    "\n",
    "def compute_gleu_for_every_sample(outputs, references, min_len=1, max_len=4):\n",
    "  assert len(np.shape(outputs)) == 1\n",
    "  if len(np.shape(references)) == 1:\n",
    "    references = np.expand_dims(references, axis=1).tolist()\n",
    "\n",
    "  outputs_tok, references_tok = tokenize_for_reference_based_metrics(outputs, references)\n",
    "\n",
    "  def sample_glue(output, reference):\n",
    "    return gleu_score.sentence_gleu(references=reference, hypothesis=output, \n",
    "                                    min_len=min_len, max_len=max_len)\n",
    "\n",
    "  return compute_for_every_sample(sample_glue, outputs_tok, references_tok)\n",
    "\n",
    "def compute_gleu(outputs, references, min_len=1, max_len=4):\n",
    "  assert len(np.shape(outputs)) == 1\n",
    "  if len(np.shape(references)) == 1:\n",
    "    references = np.expand_dims(references, axis=1).tolist()\n",
    "\n",
    "  outputs_tok, references_tok = tokenize_for_reference_based_metrics(outputs, references)\n",
    "\n",
    "  return gleu_score.corpus_gleu(list_of_references=references_tok, hypotheses=outputs_tok)"
   ]
  },
  {
   "cell_type": "code",
   "execution_count": null,
   "metadata": {
    "colab": {
     "base_uri": "https://localhost:8080/"
    },
    "executionInfo": {
     "elapsed": 398,
     "status": "ok",
     "timestamp": 1637961293142,
     "user": {
      "displayName": "Ruslan Mammadov",
      "photoUrl": "https://lh3.googleusercontent.com/a/default-user=s64",
      "userId": "03871087646573601592"
     },
     "user_tz": -60
    },
    "id": "4JlKTgiYtJGH",
    "outputId": "ac51c909-9cf9-4512-9a8a-664953701736"
   },
   "outputs": [
    {
     "data": {
      "text/plain": [
       "0.6459360293531148"
      ]
     },
     "execution_count": 16,
     "metadata": {},
     "output_type": "execute_result"
    }
   ],
   "source": [
    "results = compute_gleu_for_every_sample(df.prediction, df.string_2)\n",
    "compute_gleu(df.prediction, df.string_2)"
   ]
  },
  {
   "cell_type": "markdown",
   "metadata": {
    "id": "Lnx2Ttwt1qP1"
   },
   "source": [
    "### BLEURT - Bert model fine-tuned to replace BLEU score!"
   ]
  },
  {
   "cell_type": "code",
   "execution_count": null,
   "metadata": {
    "colab": {
     "base_uri": "https://localhost:8080/"
    },
    "executionInfo": {
     "elapsed": 65966,
     "status": "ok",
     "timestamp": 1637961359098,
     "user": {
      "displayName": "Ruslan Mammadov",
      "photoUrl": "https://lh3.googleusercontent.com/a/default-user=s64",
      "userId": "03871087646573601592"
     },
     "user_tz": -60
    },
    "id": "Qs4UWX4w4NQd",
    "outputId": "9189e33c-1c47-45a8-8384-3ae47c83eeaf"
   },
   "outputs": [
    {
     "name": "stdout",
     "output_type": "stream",
     "text": [
      "--2021-11-26 21:14:53--  https://storage.googleapis.com/bleurt-oss-21/BLEURT-20.zip\n",
      "Resolving storage.googleapis.com (storage.googleapis.com)... 108.177.119.128, 108.177.127.128, 172.217.218.128, ...\n",
      "Connecting to storage.googleapis.com (storage.googleapis.com)|108.177.119.128|:443... connected.\n",
      "HTTP request sent, awaiting response... 200 OK\n",
      "Length: 2140294207 (2.0G) [application/octet-stream]\n",
      "Saving to: ‘BLEURT-20.zip’\n",
      "\n",
      "BLEURT-20.zip       100%[===================>]   1.99G  50.4MB/s    in 43s     \n",
      "\n",
      "2021-11-26 21:15:37 (47.7 MB/s) - ‘BLEURT-20.zip’ saved [2140294207/2140294207]\n",
      "\n",
      "--2021-11-26 21:15:37--  http://./\n",
      "Resolving . (.)... failed: No address associated with hostname.\n",
      "wget: unable to resolve host address ‘.’\n",
      "FINISHED --2021-11-26 21:15:37--\n",
      "Total wall clock time: 44s\n",
      "Downloaded: 1 files, 2.0G in 43s (47.7 MB/s)\n",
      "Archive:  BLEURT-20.zip\n",
      "   creating: BLEURT-20/\n",
      "  inflating: BLEURT-20/bert_config.json  \n",
      "  inflating: BLEURT-20/saved_model.pb  \n",
      "   creating: BLEURT-20/variables/\n",
      "  inflating: BLEURT-20/variables/variables.index  \n",
      "  inflating: BLEURT-20/variables/variables.data-00000-of-00001  \n",
      "  inflating: BLEURT-20/sent_piece.vocab  \n",
      "  inflating: BLEURT-20/bleurt_config.json  \n",
      "  inflating: BLEURT-20/sent_piece.model  \n"
     ]
    }
   ],
   "source": [
    "!wget https://storage.googleapis.com/bleurt-oss-21/BLEURT-20.zip .\n",
    "!unzip BLEURT-20.zip"
   ]
  },
  {
   "cell_type": "code",
   "execution_count": null,
   "metadata": {
    "colab": {
     "base_uri": "https://localhost:8080/"
    },
    "executionInfo": {
     "elapsed": 2570,
     "status": "ok",
     "timestamp": 1637961361648,
     "user": {
      "displayName": "Ruslan Mammadov",
      "photoUrl": "https://lh3.googleusercontent.com/a/default-user=s64",
      "userId": "03871087646573601592"
     },
     "user_tz": -60
    },
    "id": "vUVUoAia41hu",
    "outputId": "7907e16c-e8f3-4f14-c47c-f64d99e0ef84"
   },
   "outputs": [
    {
     "name": "stdout",
     "output_type": "stream",
     "text": [
      "rm: cannot remove './bleurt': No such file or directory\n",
      "rm: cannot remove './bleurt_temp': No such file or directory\n",
      "Cloning into 'bleurt'...\n",
      "remote: Enumerating objects: 116, done.\u001b[K\n",
      "remote: Counting objects: 100% (76/76), done.\u001b[K\n",
      "remote: Compressing objects: 100% (56/56), done.\u001b[K\n",
      "remote: Total 116 (delta 32), reused 55 (delta 20), pack-reused 40\u001b[K\n",
      "Receiving objects: 100% (116/116), 31.27 MiB | 23.95 MiB/s, done.\n",
      "Resolving deltas: 100% (36/36), done.\n"
     ]
    }
   ],
   "source": [
    "!rm ./bleurt -r\n",
    "!rm ./bleurt_temp -r\n",
    "!git clone https://github.com/google-research/bleurt.git\n",
    "!mv bleurt bleurt_temp\n",
    "!cp bleurt_temp/bleurt bleurt -r"
   ]
  },
  {
   "cell_type": "code",
   "execution_count": null,
   "metadata": {
    "colab": {
     "base_uri": "https://localhost:8080/"
    },
    "executionInfo": {
     "elapsed": 76516,
     "status": "ok",
     "timestamp": 1637961718394,
     "user": {
      "displayName": "Ruslan Mammadov",
      "photoUrl": "https://lh3.googleusercontent.com/a/default-user=s64",
      "userId": "03871087646573601592"
     },
     "user_tz": -60
    },
    "id": "dbiq9omt1wsZ",
    "outputId": "c5ccee0b-7762-47c6-c0aa-c6a1013d93b7"
   },
   "outputs": [
    {
     "name": "stdout",
     "output_type": "stream",
     "text": [
      "INFO:tensorflow:Reading checkpoint BLEURT-20.\n",
      "INFO:tensorflow:Config file found, reading.\n",
      "INFO:tensorflow:Will load checkpoint BLEURT-20\n",
      "INFO:tensorflow:Loads full paths and checks that files exists.\n",
      "INFO:tensorflow:... name:BLEURT-20\n",
      "INFO:tensorflow:... bert_config_file:bert_config.json\n",
      "INFO:tensorflow:... max_seq_length:512\n",
      "INFO:tensorflow:... vocab_file:None\n",
      "INFO:tensorflow:... do_lower_case:None\n",
      "INFO:tensorflow:... sp_model:sent_piece\n",
      "INFO:tensorflow:... dynamic_seq_length:True\n",
      "INFO:tensorflow:Creating BLEURT scorer.\n",
      "INFO:tensorflow:Creating SentencePiece tokenizer.\n",
      "INFO:tensorflow:Creating SentencePiece tokenizer.\n",
      "INFO:tensorflow:Will load model: BLEURT-20/sent_piece.model.\n",
      "INFO:tensorflow:SentencePiece tokenizer created.\n",
      "INFO:tensorflow:Creating Eager Mode predictor.\n",
      "INFO:tensorflow:Loading model.\n",
      "INFO:tensorflow:BLEURT initialized.\n"
     ]
    },
    {
     "data": {
      "text/plain": [
       "[0.7310628294944763,\n",
       " 0.6159622669219971,\n",
       " 0.7434067130088806,\n",
       " 0.4484841823577881,\n",
       " 0.5253711938858032]"
      ]
     },
     "execution_count": 33,
     "metadata": {},
     "output_type": "execute_result"
    }
   ],
   "source": [
    "from bleurt import score\n",
    "\n",
    "checkpoint = \"BLEURT-20\"\n",
    "references = [\"This is a test.\"]\n",
    "candidates = [\"This is the test.\"]\n",
    "\n",
    "scorer = score.BleurtScorer(checkpoint)\n",
    "scores = scorer.score(references=df.string_2, candidates=df.prediction)\n",
    "\n",
    "scores[:5]"
   ]
  },
  {
   "cell_type": "code",
   "execution_count": null,
   "metadata": {
    "colab": {
     "base_uri": "https://localhost:8080/"
    },
    "executionInfo": {
     "elapsed": 16,
     "status": "ok",
     "timestamp": 1637961445247,
     "user": {
      "displayName": "Ruslan Mammadov",
      "photoUrl": "https://lh3.googleusercontent.com/a/default-user=s64",
      "userId": "03871087646573601592"
     },
     "user_tz": -60
    },
    "id": "Uvnq2pEQ8Lwv",
    "outputId": "1299872e-7d05-4aa6-b7a9-14aa83c9ac4c"
   },
   "outputs": [
    {
     "data": {
      "text/plain": [
       "0.5597532601251874"
      ]
     },
     "execution_count": 20,
     "metadata": {},
     "output_type": "execute_result"
    }
   ],
   "source": [
    "np.mean(scores)"
   ]
  },
  {
   "cell_type": "markdown",
   "metadata": {
    "id": "mErO73PS1oEk"
   },
   "source": [
    "# Semantic similarity scores between input and output"
   ]
  },
  {
   "cell_type": "markdown",
   "metadata": {
    "id": "jbK2o-UKolWT"
   },
   "source": [
    "## BERTScore\n",
    "\n",
    "Paper: https://arxiv.org/pdf/1904.09675.pdf\n",
    "\n",
    "Implementation & examples: https://colab.research.google.com/drive/1kpL8Y_AnUUiCxFjhxSrxCsc6-sDMNb_Q#scrollTo=SH1lJxsIMjzJ\n",
    "\n",
    "We propose BERTSCORE, an automatic evaluation metric for text generation.\n",
    "Analogously to common metrics, BERTSCORE computes a similarity score for\n",
    "each token in the candidate sentence with each token in the reference sentence.\n",
    "However, instead of exact matches, we compute token similarity using contextual\n",
    "embeddings. We evaluate using the outputs of 363 machine translation and image\n",
    "captioning systems. BERTSCORE correlates better with human judgments and\n",
    "provides stronger model selection performance than existing metrics. Finally, we\n",
    "use an adversarial paraphrase detection task to show that BERTSCORE is more\n",
    "robust to challenging examples when compared to existing metrics.\n",
    "\n",
    "![grafik.png](data:image/png;base64,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)\n",
    "\n",
    "![grafik.png](data:image/png;base64,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)"
   ]
  },
  {
   "cell_type": "code",
   "execution_count": null,
   "metadata": {
    "colab": {
     "base_uri": "https://localhost:8080/",
     "height": 261,
     "referenced_widgets": [
      "8078fc55af0b47f28bd3460fcf4ce3ed",
      "966e63d1fdb84c8385be33b7fd603f3b",
      "e0331a2ba9f24870958bfcce407ccf27",
      "add69b1a47194cc1b1c8dd8a9b7b0a06",
      "453bdd7fbeae4965965321bba7a2a604",
      "2e13183851a34ef886ba58ccd00a4126",
      "0f579348b35e4010ae6917e37492ce4a",
      "7e0999df93c9427bb2366d958e7c4b30",
      "f2552aace0624efaaa4ad35de05cb47c",
      "bc20c05b8a0c430b8a0d5dc94dd6c543",
      "ff935e72502d4a7aa21da0d9789102c8",
      "30e5893f32b04db3a72fbe380fd26e55",
      "c8e2a0151b6b4262b11ce5d7717e1cbe",
      "2912fdb2850746a1be0708cc722d344c",
      "3f9f4b289cdf4ac28c651e08f3d848f4",
      "460bb25c1051489e9b4d77569fe01344",
      "a9675f2e0a97484bb7f15014a66909c0",
      "c0a5c2ed6fec4e4c87f3efb4bd066df3",
      "2a78be0e93fa46c09b795673774bbb34",
      "0c870aca0a274ca393d753f6e20d90b9",
      "38cfeeda779b492093f9df2a59c2329b",
      "dbda41ab62c143849b0b788f75107bc5",
      "593d4d0a69104b89be5268d47e85505b",
      "aba2ea2ea91b46d584089a70e33d6741",
      "ca7c34f82b3941e5a6c271395fd30fc1",
      "4d3b3fafdfe744c29aa2e69b961b5b3f",
      "35ad70a24daa4763aa40570a2aa3ef45",
      "7a0e21e0e5914b2f924e393f317cee81",
      "a56317196c42423aadb9778fc0e09091",
      "6f1e89c604904b92a9a54f238aa44a9e",
      "2baebba57d8f409f857a2cf5b3cbebb5",
      "da9951cfc28b4cce9f8c515297d25b73",
      "020577003a6d4369beced2ff26c576ff",
      "5f6320507a354c1d9ece374c4674c901",
      "92250795f8b4489aa1479f0b231d1ee5",
      "303bd376ead04e008b5813cd18baf3ad",
      "c35c1a2393bd4883abede398b7aad8b0",
      "93b9ea0aa27d4f918bd98eb7042212a5",
      "6e2e675ee96d407cbf00a2c2cce54207",
      "624d8afe11dd4fb487bf52cc40e6e237",
      "a5db86d01ef84471b5ab3358b749f838",
      "c970c2da21374490bbf4caea0b0c50d8",
      "69a55b8da027404bb67f290fddc4bfd8",
      "b3154498a9b145829d1cd6deac2e80ed",
      "ff5cd7b17abb40a58a1a518fc0b93e39",
      "ae031203bc134a23905bbcfb6d3c83a7",
      "3990565976394765af448ccc5fc33fb2",
      "5eee4986cf854583b1444b5c5eef80ed",
      "64edfb7c22874b6e97983d2a55ab5d18",
      "f73e774fa7bd41e197a24041148ff5ba",
      "ab70024deb1847a58ce3a1a657fa8267",
      "72b7df02bd50447e9451e32b5b48f326",
      "9fc742e66b774a4cb6ee9ba2fa7bfe24",
      "234df1219bae4814ba5df9636e21b4e7",
      "5463d862d14849c98d8a6f71e811d6b0",
      "e28e0e3599834134b6de7d79a95d5dd8",
      "b4441a8d29e244bc96630953d38556d5",
      "d6613cf0dc8f421dbff7f906373b6d34",
      "503567709a394cc68dfa493f7d8af7db",
      "1be8d374f5634e6ea002962e424eb3a2",
      "0945a02094a943f4bf966ed0e53367c2",
      "8a2b9d425bef44c595ede8f928cdaad5",
      "3129988313b04618a59f5f5f237fb2e1",
      "237739320e3947298d5730b1dcbe7683",
      "fd4d46fb561545e29a1e15aaf765b2d1",
      "f886008c135d43729a2c52608402458f"
     ]
    },
    "executionInfo": {
     "elapsed": 58519,
     "status": "ok",
     "timestamp": 1637961503757,
     "user": {
      "displayName": "Ruslan Mammadov",
      "photoUrl": "https://lh3.googleusercontent.com/a/default-user=s64",
      "userId": "03871087646573601592"
     },
     "user_tz": -60
    },
    "id": "xU7VVMulZlhz",
    "outputId": "b028e41c-2a79-45e4-a8e2-cb7d37d96658"
   },
   "outputs": [
    {
     "data": {
      "application/vnd.jupyter.widget-view+json": {
       "model_id": "8078fc55af0b47f28bd3460fcf4ce3ed",
       "version_major": 2,
       "version_minor": 0
      },
      "text/plain": [
       "Downloading:   0%|          | 0.00/2.93k [00:00<?, ?B/s]"
      ]
     },
     "metadata": {},
     "output_type": "display_data"
    },
    {
     "data": {
      "application/vnd.jupyter.widget-view+json": {
       "model_id": "30e5893f32b04db3a72fbe380fd26e55",
       "version_major": 2,
       "version_minor": 0
      },
      "text/plain": [
       "Downloading:   0%|          | 0.00/482 [00:00<?, ?B/s]"
      ]
     },
     "metadata": {},
     "output_type": "display_data"
    },
    {
     "data": {
      "application/vnd.jupyter.widget-view+json": {
       "model_id": "593d4d0a69104b89be5268d47e85505b",
       "version_major": 2,
       "version_minor": 0
      },
      "text/plain": [
       "Downloading:   0%|          | 0.00/878k [00:00<?, ?B/s]"
      ]
     },
     "metadata": {},
     "output_type": "display_data"
    },
    {
     "data": {
      "application/vnd.jupyter.widget-view+json": {
       "model_id": "5f6320507a354c1d9ece374c4674c901",
       "version_major": 2,
       "version_minor": 0
      },
      "text/plain": [
       "Downloading:   0%|          | 0.00/446k [00:00<?, ?B/s]"
      ]
     },
     "metadata": {},
     "output_type": "display_data"
    },
    {
     "data": {
      "application/vnd.jupyter.widget-view+json": {
       "model_id": "ff5cd7b17abb40a58a1a518fc0b93e39",
       "version_major": 2,
       "version_minor": 0
      },
      "text/plain": [
       "Downloading:   0%|          | 0.00/1.29M [00:00<?, ?B/s]"
      ]
     },
     "metadata": {},
     "output_type": "display_data"
    },
    {
     "data": {
      "application/vnd.jupyter.widget-view+json": {
       "model_id": "e28e0e3599834134b6de7d79a95d5dd8",
       "version_major": 2,
       "version_minor": 0
      },
      "text/plain": [
       "Downloading:   0%|          | 0.00/1.33G [00:00<?, ?B/s]"
      ]
     },
     "metadata": {},
     "output_type": "display_data"
    },
    {
     "data": {
      "text/plain": [
       "{'f1': 0.9507077764242123,\n",
       " 'precision': 0.9529732381098369,\n",
       " 'recall': 0.948702675821278}"
      ]
     },
     "execution_count": 21,
     "metadata": {},
     "output_type": "execute_result"
    }
   ],
   "source": [
    "from datasets import load_metric\n",
    "bertscore = load_metric(\"bertscore\")\n",
    "\n",
    "def compute_bert_for_every_sample(inputs, outputs, lang=\"en\", use_fast_tokenizer=False, **kwargs):\n",
    "  results = bertscore.compute(predictions=outputs, references=inputs, lang=lang, use_fast_tokenizer=use_fast_tokenizer , **kwargs)\n",
    "  results.pop('hashcode')\n",
    "  return results\n",
    "\n",
    "def compute_bert(inputs, outputs, lang=\"en\", use_fast_tokenizer=True, **kwargs):\n",
    "  results = compute_bert_for_every_sample(inputs, outputs, lang=lang, use_fast_tokenizer=use_fast_tokenizer , **kwargs)\n",
    "  for key, value in results.items():\n",
    "    results[key] = np.mean(value)\n",
    "  return results\n",
    "\n",
    "results = compute_bert(df.string_1, df.prediction)\n",
    "results"
   ]
  },
  {
   "cell_type": "markdown",
   "metadata": {
    "id": "FNw8Iz9YAyly"
   },
   "source": [
    "## SBERT\n",
    "\n",
    "https://arxiv.org/abs/1908.10084\n",
    "\n",
    "Compare sentence embeddings of BERT model for reference and the output."
   ]
  },
  {
   "cell_type": "code",
   "execution_count": null,
   "metadata": {
    "id": "6LCr6ZDyjrnZ"
   },
   "outputs": [],
   "source": [
    "# Was not taken into account because of lack of time"
   ]
  },
  {
   "cell_type": "markdown",
   "metadata": {
    "id": "cEAmycmbAa5H"
   },
   "source": [
    "# Paraphrasic divesity scores"
   ]
  },
  {
   "cell_type": "markdown",
   "metadata": {
    "id": "rWPcDfvq-yxY"
   },
   "source": [
    "### Diversity tokenizer"
   ]
  },
  {
   "cell_type": "code",
   "execution_count": null,
   "metadata": {
    "id": "2eOrs8DG-1jI"
   },
   "outputs": [],
   "source": [
    "def get_translation_table():\n",
    "  # Punctuations according to python\n",
    "  punctuations = '!\"#$%&\\'()*+,-./:;<=>?@[\\\\]^_`{|}~'\n",
    "\n",
    "  # Good symbols that should not be removed\n",
    "  good_symbols = '\\'`-'\n",
    "\n",
    "  # Bad punctuation that should be removed\n",
    "  bad_punctuations = punctuations.translate(\"\".maketrans(\"\", \"\", good_symbols))\n",
    "  \n",
    "  return \"\".maketrans(bad_punctuations, ' '*len(bad_punctuations))\n",
    "  \n",
    "translation_table = get_translation_table()\n",
    "\n",
    "def tokenize_text_for_diversity(text):\n",
    "  # Remove bad punctuation\n",
    "  text = text.translate(translation_table)\n",
    "  return text.lower().strip().split()\n",
    "\n",
    "def tokenize_for_diversity(input, output):\n",
    "  assert (type(input) == type(output))\n",
    "\n",
    "  if type(input) == str:\n",
    "    return tokenize_text_for_diversity(input), tokenize_text_for_diversity(output)\n",
    "  \n",
    "  # Input and output are batches\n",
    "  input_batch = [tokenize_text_for_diversity(text) for text in input]\n",
    "  output_batch = [tokenize_text_for_diversity(text) for text in output]\n",
    "  return input_batch, output_batch"
   ]
  },
  {
   "cell_type": "code",
   "execution_count": null,
   "metadata": {
    "colab": {
     "base_uri": "https://localhost:8080/"
    },
    "executionInfo": {
     "elapsed": 22,
     "status": "ok",
     "timestamp": 1637961503759,
     "user": {
      "displayName": "Ruslan Mammadov",
      "photoUrl": "https://lh3.googleusercontent.com/a/default-user=s64",
      "userId": "03871087646573601592"
     },
     "user_tz": -60
    },
    "id": "_BrF4nI4DL3u",
    "outputId": "55addf84-1660-47fb-8961-0e6005bb76be"
   },
   "outputs": [
    {
     "data": {
      "text/plain": [
       "([['the', 'dog', 'bit', 'the', 'man'],\n",
       "  ['it', 'was', 'not', 'unexpected'],\n",
       "  ['the', 'man', 'bit', 'him', 'first']],\n",
       " [['the', 'dog', 'bit', 'the', 'man'],\n",
       "  ['it', \"wasn't\", 'surprising'],\n",
       "  ['the', 'man', 'had', 'just', 'bitten', 'him']])"
      ]
     },
     "execution_count": 24,
     "metadata": {},
     "output_type": "execute_result"
    }
   ],
   "source": [
    "assert((input_batch_tokenized, output_batch_tokenized) == tokenize_for_diversity(input_batch, output_batch))\n",
    "assert((input_tokenized, output_tokenized) == tokenize_for_diversity(input, output))\n",
    "(input_batch_tokenized, output_batch_tokenized)"
   ]
  },
  {
   "cell_type": "markdown",
   "metadata": {
    "id": "ipt8ObcQAfiQ"
   },
   "source": [
    "## Blue score\n",
    "1. Compute Blue score between output and input, not reference (!).\n",
    "2. Calculate blue in both direction and take mean\n",
    "2. We are interested in diversity => Lower Bleu = higher diversity => better results\n",
    "3. Measures \"Phrasal diversity\""
   ]
  },
  {
   "cell_type": "markdown",
   "metadata": {
    "id": "5UPTu3D04UYr"
   },
   "source": [
    "### Implementation"
   ]
  },
  {
   "cell_type": "code",
   "execution_count": null,
   "metadata": {
    "id": "mNeDNEtfoLUv"
   },
   "outputs": [],
   "source": [
    "from nltk.translate import bleu_score\n",
    "\n",
    "# method 4 -> reweighting\n",
    "smoothing_function = bleu_score.SmoothingFunction().method4\n",
    "\n",
    "# Bleu for sentences\n",
    "def get_bleu_tokenized(sent1, sent2):\n",
    "  return bleu_score.sentence_bleu([sent1], sent2, smoothing_function=smoothing_function)\n",
    "\n",
    "def bleu_diversity_tokenized(input, output):\n",
    "  return (get_bleu_tokenized(input, output) + get_bleu_tokenized(output, input)) / 2\n",
    "\n",
    "# Final function\n",
    "def sample_blue_diversity(input, output):\n",
    "  return bleu_diversity_tokenized(*tokenize_for_diversity(input, output))\n",
    "\n",
    "# Bleu for corpuses\n",
    "def get_bleu_corpus_tokenized(input_batch, output_batch):\n",
    "    input_batch = [[sentence] for sentence in input_batch]\n",
    "    return bleu_score.corpus_bleu(input_batch, output_batch, smoothing_function=smoothing_function)\n",
    "\n",
    "def bleu_diversity_corpus_tokenized(input_batch, output_batch):\n",
    "  return (get_bleu_corpus_tokenized(input_batch, output_batch) + get_bleu_corpus_tokenized(output_batch, input_batch)) / 2\n",
    "\n",
    "# Final function\n",
    "def compute_bleu_diversity(input_batch, output_batch):\n",
    "  return bleu_diversity_corpus_tokenized(*tokenize_for_diversity(input_batch, output_batch))"
   ]
  },
  {
   "cell_type": "code",
   "execution_count": null,
   "metadata": {
    "colab": {
     "base_uri": "https://localhost:8080/"
    },
    "executionInfo": {
     "elapsed": 18,
     "status": "ok",
     "timestamp": 1637961503760,
     "user": {
      "displayName": "Ruslan Mammadov",
      "photoUrl": "https://lh3.googleusercontent.com/a/default-user=s64",
      "userId": "03871087646573601592"
     },
     "user_tz": -60
    },
    "id": "e-OanVoqozZs",
    "outputId": "6180b042-8719-4c58-d0b5-ff1307a7ed59"
   },
   "outputs": [
    {
     "name": "stdout",
     "output_type": "stream",
     "text": [
      "The man bit him first. The man had bitten the dog.\n",
      "0.2081207930152335\n",
      "0.4473638448084236\n"
     ]
    }
   ],
   "source": [
    "print(input, output)\n",
    "print(sample_blue_diversity(input, output))\n",
    "print(compute_bleu_diversity(input_batch, output_batch))"
   ]
  },
  {
   "cell_type": "markdown",
   "metadata": {
    "id": "bru04STNBSVB"
   },
   "source": [
    "## ∩/∪ or Intersection/Union score\n",
    "1. Number of shared words / number of all words.\n",
    "2. Higher score = worse diversity\n",
    "3. Measures \"lexical diversity\""
   ]
  },
  {
   "cell_type": "markdown",
   "metadata": {
    "id": "KFHC5epDOhHP"
   },
   "source": [
    "### Implementation"
   ]
  },
  {
   "cell_type": "code",
   "execution_count": null,
   "metadata": {
    "id": "56mmN2OEOjAY"
   },
   "outputs": [],
   "source": [
    "# Function for tokenized\n",
    "def intersection_over_union_tokenized(input_tokenized, output_tokenized):\n",
    "  input_tokens = set(input_tokenized)\n",
    "  output_tokens = set(output_tokenized)\n",
    "  return len(input_tokens & output_tokens) / len(input_tokens | output_tokens)\n",
    "\n",
    "# Final function for sentences\n",
    "def sample_intersection_over_union(input, output):\n",
    "  return intersection_over_union_tokenized(*tokenize_for_diversity(input, output))\n",
    "\n",
    "def compute_intersection_over_union(input_batch, output_batch):\n",
    "  return average_over_corpus(sample_intersection_over_union, input_batch, output_batch)"
   ]
  },
  {
   "cell_type": "code",
   "execution_count": null,
   "metadata": {
    "colab": {
     "base_uri": "https://localhost:8080/"
    },
    "executionInfo": {
     "elapsed": 15,
     "status": "ok",
     "timestamp": 1637961503760,
     "user": {
      "displayName": "Ruslan Mammadov",
      "photoUrl": "https://lh3.googleusercontent.com/a/default-user=s64",
      "userId": "03871087646573601592"
     },
     "user_tz": -60
    },
    "id": "VQ6W7z-4Zmvw",
    "outputId": "78886f69-8cdb-4fae-a6e9-216d11144fe6"
   },
   "outputs": [
    {
     "name": "stdout",
     "output_type": "stream",
     "text": [
      "{'him', 'man', 'the', 'first', 'bit'} {'had', 'man', 'dog', 'the', 'bitten'}\n",
      "0.25\n",
      "0.513888888888889\n"
     ]
    }
   ],
   "source": [
    "print(set(input_tokenized), set(output_tokenized))\n",
    "print(sample_intersection_over_union(input, output))\n",
    "print(compute_intersection_over_union(input_batch, output_batch))"
   ]
  },
  {
   "cell_type": "markdown",
   "metadata": {
    "id": "9Lyni6Dh0my-"
   },
   "source": [
    "## Characters N-Gram overlap\n",
    "1. It is basically the same as intersection over union, but for characters ngram in the tokenized words\n",
    "2. A little bit better than intersection over union, because it also reacts to small words changes\n",
    "3. Let's try it out just for the case"
   ]
  },
  {
   "cell_type": "markdown",
   "metadata": {
    "id": "ga-yaGm44PS9"
   },
   "source": [
    "#### Implementation"
   ]
  },
  {
   "cell_type": "code",
   "execution_count": null,
   "metadata": {
    "id": "U2zhvrZv05sK"
   },
   "outputs": [],
   "source": [
    "# Code from interent => it is ugly, sorry\n",
    "def ngrams(word, n=3):\n",
    "    return [word[i: i+n] for i in range(len(word) - n + 1)]\n",
    "\n",
    "# Function for tokanized\n",
    "def char_ngram_overlap_tokenized(sent1, sent2):\n",
    "    ngrams1 = {ngram for token in sent1 for n in range(3, 7) for ngram in ngrams(f' {token} ', n=n)}\n",
    "    ngrams2 = {ngram for token in sent2 for n in range(3, 7) for ngram in ngrams(f' {token} ', n=n)}\n",
    "    return len(ngrams1 & ngrams2) / len(ngrams1 | ngrams2)\n",
    "\n",
    "# Final sample function\n",
    "def sample_char_ngram_overlap(sent1, sent2):\n",
    "  return char_ngram_overlap_tokenized(*tokenize_for_diversity(sent1, sent2))\n",
    "\n",
    "def compute_char_ngram_overlap(input_batch, output_batch):\n",
    "  return average_over_corpus(sample_char_ngram_overlap, input_batch, output_batch)"
   ]
  },
  {
   "cell_type": "code",
   "execution_count": null,
   "metadata": {
    "colab": {
     "base_uri": "https://localhost:8080/"
    },
    "executionInfo": {
     "elapsed": 12,
     "status": "ok",
     "timestamp": 1637961503761,
     "user": {
      "displayName": "Ruslan Mammadov",
      "photoUrl": "https://lh3.googleusercontent.com/a/default-user=s64",
      "userId": "03871087646573601592"
     },
     "user_tz": -60
    },
    "id": "PtK1QA_I2WAR",
    "outputId": "f0496790-3170-4640-bfef-1f02b98a73e0"
   },
   "outputs": [
    {
     "name": "stdout",
     "output_type": "stream",
     "text": [
      "['the', 'man', 'bit', 'him', 'first'] ['the', 'man', 'had', 'bitten', 'the', 'dog']\n",
      "0.23076923076923078\n",
      "0.4615846338535414\n"
     ]
    }
   ],
   "source": [
    "print(input_tokenized, output_tokenized)\n",
    "print(sample_char_ngram_overlap(input, output))\n",
    "print(compute_char_ngram_overlap(input_batch, output_batch))"
   ]
  },
  {
   "cell_type": "markdown",
   "metadata": {
    "id": "d-WDO06eBWJB"
   },
   "source": [
    "## Tree edit distance of syntactic trees\n",
    "1. Compute tree distance between syntactic trees of input and output sentences.\n",
    "2. Higher distance = higher diversity => better result\n",
    "3. Used in https://aclanthology.org/K19-1005/ and in some other papers\n",
    "5. Many implementations for syntactic parsing and tree distances.\n",
    "6. Or we can use nltk's edit_distance, but it is a little bit different.\n",
    "7. Measures \"syntactic diversity\""
   ]
  },
  {
   "cell_type": "markdown",
   "metadata": {
    "id": "OCaK292smPxe"
   },
   "source": [
    "#### Implementation\n",
    "\n",
    "Is not important at the moment, it is an advanced metrics which is useful when your paraphrasers are dissimilar on syntax level. Then, if you want to go one level upon and analyse the structure of the sentence. However, it is very time consuming, and is not helpful before you reach high level of text dissimilarity."
   ]
  },
  {
   "cell_type": "markdown",
   "metadata": {
    "id": "nfaS_7TzCN7X"
   },
   "source": [
    "# Fluency scores\n"
   ]
  },
  {
   "cell_type": "markdown",
   "metadata": {
    "id": "hkHxXzHU1xfC"
   },
   "source": [
    "## Perplexity\n",
    "\n",
    "It is worth trying, but it requires language model and GPU with memory, and we considered it as not robust.\n",
    "\n",
    "Perplexity is not used as metrics in research, or at least we have not found it. The problem with perplexity is that is depends on what data the model has seen before, and it also depends strongly on the numver of words and other parameters. "
   ]
  },
  {
   "cell_type": "markdown",
   "metadata": {
    "id": "ImVNOjImF-7X"
   },
   "source": [
    "## Bleurt model\n",
    "Bleurt model evaluates fluency too, so you can use that."
   ]
  },
  {
   "cell_type": "markdown",
   "metadata": {
    "id": "xCIY5HykVdPQ"
   },
   "source": [
    "# Putting all together"
   ]
  },
  {
   "cell_type": "code",
   "execution_count": null,
   "metadata": {
    "id": "STHMwgw7Bqp6"
   },
   "outputs": [],
   "source": [
    "def compute_metrics(input_batch, output_batch, reference_batch, only_fast_metrics=False):\n",
    "  if np.shape(reference_batch) == 2:\n",
    "    one_reference_batch = np.array(reference_batch)[:, 0]\n",
    "  else:\n",
    "    assert len(np.shape(reference_batch)) == 1\n",
    "    one_reference_batch = reference_batch\n",
    "  \n",
    "  # Similarity to reference\n",
    "  bleu = compute_bleu(output_batch, reference_batch)\n",
    "  rouge = compute_rouge(output_batch, one_reference_batch, only_averages=True)\n",
    "\n",
    "  # Not for diversity!!! Just interesting, for comparison to bleu between output and reference\n",
    "  bleu_output_input = compute_bleu(output_batch, input_batch)\n",
    "\n",
    "  if not only_fast_metrics:\n",
    "    bert = compute_bert(input_batch, output_batch, use_fast_tokenizer=True)\n",
    "  \n",
    "  # Diversity\n",
    "  bleu_diversity = compute_bleu_diversity(input_batch, output_batch)\n",
    "  intersection_over_union = compute_intersection_over_union(input_batch, output_batch)\n",
    "  char_ngram_overlap = compute_char_ngram_overlap(input_batch, output_batch)\n",
    "\n",
    "  results = {\n",
    "      \"bleu\": bleu, \n",
    "      \"bleu_output_input\": bleu_output_input,\n",
    "\n",
    "      # Rouge is annoying\n",
    "      \"rouge1_f1\": rouge[\"rouge1\"].fmeasure,\n",
    "      \"rouge1_recall\": rouge[\"rouge1\"].recall,\n",
    "      \"rouge1_precision\": rouge[\"rouge1\"].precision,\n",
    "      \"rouge2_f1\": rouge[\"rouge2\"].fmeasure,\n",
    "      \"rouge2_recall\": rouge[\"rouge2\"].recall,\n",
    "      \"rouge2_precision\": rouge[\"rouge2\"].precision,\n",
    "      \"rougeL_f1\": rouge[\"rougeL\"].fmeasure,\n",
    "      \"rougeL_recall\": rouge[\"rougeL\"].recall,\n",
    "      \"rougeL_precision\": rouge[\"rougeL\"].precision,\n",
    "      # Seriously??!!!\n",
    "\n",
    "      \"bleu_diversity\": bleu_diversity,\n",
    "      \"intersection_over_union\": intersection_over_union,\n",
    "      \"char_ngram_overlap\": char_ngram_overlap\n",
    "  }\n",
    "\n",
    "  if not only_fast_metrics:\n",
    "    results = {\n",
    "        **results,\n",
    "        \"bert_f1\":  bert[\"f1\"],\n",
    "        \"bert_precision\": bert[\"precision\"],\n",
    "        \"bert_recall\": bert[\"recall\"]\n",
    "    }\n",
    "  return results"
   ]
  },
  {
   "cell_type": "code",
   "execution_count": null,
   "metadata": {
    "colab": {
     "base_uri": "https://localhost:8080/"
    },
    "executionInfo": {
     "elapsed": 7406,
     "status": "ok",
     "timestamp": 1637961511158,
     "user": {
      "displayName": "Ruslan Mammadov",
      "photoUrl": "https://lh3.googleusercontent.com/a/default-user=s64",
      "userId": "03871087646573601592"
     },
     "user_tz": -60
    },
    "id": "4qew2Q5vVVLa",
    "outputId": "7717995c-7ef7-43a5-94d3-a5a9ba5b9bd2"
   },
   "outputs": [
    {
     "data": {
      "text/plain": [
       "{'bert_f1': 0.9507077764242123,\n",
       " 'bert_precision': 0.9529732381098369,\n",
       " 'bert_recall': 0.948702675821278,\n",
       " 'bleu': 0.5990578279954589,\n",
       " 'bleu_diversity': 0.5304278392463515,\n",
       " 'bleu_output_input': 0.888561778354056,\n",
       " 'char_ngram_overlap': 0.6473552501960912,\n",
       " 'intersection_over_union': 0.6140761601723921,\n",
       " 'rouge1_f1': 0.5225755063324635,\n",
       " 'rouge1_precision': 0.5440751337162673,\n",
       " 'rouge1_recall': 0.5217869214667837,\n",
       " 'rouge2_f1': 0.33113314864053994,\n",
       " 'rouge2_precision': 0.3479187347455047,\n",
       " 'rouge2_recall': 0.3289211321185298,\n",
       " 'rougeL_f1': 0.48217195036427385,\n",
       " 'rougeL_precision': 0.5033288712903872,\n",
       " 'rougeL_recall': 0.4805370513308267}"
      ]
     },
     "execution_count": 32,
     "metadata": {},
     "output_type": "execute_result"
    }
   ],
   "source": [
    "compute_metrics(df.string_1, df.prediction, df.string_2)"
   ]
  }
 ],
 "metadata": {
  "accelerator": "GPU",
  "colab": {
   "collapsed_sections": [],
   "name": "Metrics.ipynb",
   "provenance": []
  },
  "kernelspec": {
   "display_name": "Python 3",
   "language": "python",
   "name": "python3"
  },
  "language_info": {
   "codemirror_mode": {
    "name": "ipython",
    "version": 3
   },
   "file_extension": ".py",
   "mimetype": "text/x-python",
   "name": "python",
   "nbconvert_exporter": "python",
   "pygments_lexer": "ipython3",
   "version": "3.8.8"
  },
  "widgets": {
   "application/vnd.jupyter.widget-state+json": {
    "020577003a6d4369beced2ff26c576ff": {
     "model_module": "@jupyter-widgets/base",
     "model_module_version": "1.2.0",
     "model_name": "LayoutModel",
     "state": {
      "_model_module": "@jupyter-widgets/base",
      "_model_module_version": "1.2.0",
      "_model_name": "LayoutModel",
      "_view_count": null,
      "_view_module": "@jupyter-widgets/base",
      "_view_module_version": "1.2.0",
      "_view_name": "LayoutView",
      "align_content": null,
      "align_items": null,
      "align_self": null,
      "border": null,
      "bottom": null,
      "display": null,
      "flex": null,
      "flex_flow": null,
      "grid_area": null,
      "grid_auto_columns": null,
      "grid_auto_flow": null,
      "grid_auto_rows": null,
      "grid_column": null,
      "grid_gap": null,
      "grid_row": null,
      "grid_template_areas": null,
      "grid_template_columns": null,
      "grid_template_rows": null,
      "height": null,
      "justify_content": null,
      "justify_items": null,
      "left": null,
      "margin": null,
      "max_height": null,
      "max_width": null,
      "min_height": null,
      "min_width": null,
      "object_fit": null,
      "object_position": null,
      "order": null,
      "overflow": null,
      "overflow_x": null,
      "overflow_y": null,
      "padding": null,
      "right": null,
      "top": null,
      "visibility": null,
      "width": null
     }
    },
    "0945a02094a943f4bf966ed0e53367c2": {
     "model_module": "@jupyter-widgets/controls",
     "model_module_version": "1.5.0",
     "model_name": "DescriptionStyleModel",
     "state": {
      "_model_module": "@jupyter-widgets/controls",
      "_model_module_version": "1.5.0",
      "_model_name": "DescriptionStyleModel",
      "_view_count": null,
      "_view_module": "@jupyter-widgets/base",
      "_view_module_version": "1.2.0",
      "_view_name": "StyleView",
      "description_width": ""
     }
    },
    "0c870aca0a274ca393d753f6e20d90b9": {
     "model_module": "@jupyter-widgets/base",
     "model_module_version": "1.2.0",
     "model_name": "LayoutModel",
     "state": {
      "_model_module": "@jupyter-widgets/base",
      "_model_module_version": "1.2.0",
      "_model_name": "LayoutModel",
      "_view_count": null,
      "_view_module": "@jupyter-widgets/base",
      "_view_module_version": "1.2.0",
      "_view_name": "LayoutView",
      "align_content": null,
      "align_items": null,
      "align_self": null,
      "border": null,
      "bottom": null,
      "display": null,
      "flex": null,
      "flex_flow": null,
      "grid_area": null,
      "grid_auto_columns": null,
      "grid_auto_flow": null,
      "grid_auto_rows": null,
      "grid_column": null,
      "grid_gap": null,
      "grid_row": null,
      "grid_template_areas": null,
      "grid_template_columns": null,
      "grid_template_rows": null,
      "height": null,
      "justify_content": null,
      "justify_items": null,
      "left": null,
      "margin": null,
      "max_height": null,
      "max_width": null,
      "min_height": null,
      "min_width": null,
      "object_fit": null,
      "object_position": null,
      "order": null,
      "overflow": null,
      "overflow_x": null,
      "overflow_y": null,
      "padding": null,
      "right": null,
      "top": null,
      "visibility": null,
      "width": null
     }
    },
    "0f579348b35e4010ae6917e37492ce4a": {
     "model_module": "@jupyter-widgets/base",
     "model_module_version": "1.2.0",
     "model_name": "LayoutModel",
     "state": {
      "_model_module": "@jupyter-widgets/base",
      "_model_module_version": "1.2.0",
      "_model_name": "LayoutModel",
      "_view_count": null,
      "_view_module": "@jupyter-widgets/base",
      "_view_module_version": "1.2.0",
      "_view_name": "LayoutView",
      "align_content": null,
      "align_items": null,
      "align_self": null,
      "border": null,
      "bottom": null,
      "display": null,
      "flex": null,
      "flex_flow": null,
      "grid_area": null,
      "grid_auto_columns": null,
      "grid_auto_flow": null,
      "grid_auto_rows": null,
      "grid_column": null,
      "grid_gap": null,
      "grid_row": null,
      "grid_template_areas": null,
      "grid_template_columns": null,
      "grid_template_rows": null,
      "height": null,
      "justify_content": null,
      "justify_items": null,
      "left": null,
      "margin": null,
      "max_height": null,
      "max_width": null,
      "min_height": null,
      "min_width": null,
      "object_fit": null,
      "object_position": null,
      "order": null,
      "overflow": null,
      "overflow_x": null,
      "overflow_y": null,
      "padding": null,
      "right": null,
      "top": null,
      "visibility": null,
      "width": null
     }
    },
    "1be8d374f5634e6ea002962e424eb3a2": {
     "model_module": "@jupyter-widgets/controls",
     "model_module_version": "1.5.0",
     "model_name": "HTMLModel",
     "state": {
      "_dom_classes": [],
      "_model_module": "@jupyter-widgets/controls",
      "_model_module_version": "1.5.0",
      "_model_name": "HTMLModel",
      "_view_count": null,
      "_view_module": "@jupyter-widgets/controls",
      "_view_module_version": "1.5.0",
      "_view_name": "HTMLView",
      "description": "",
      "description_tooltip": null,
      "layout": "IPY_MODEL_f886008c135d43729a2c52608402458f",
      "placeholder": "​",
      "style": "IPY_MODEL_fd4d46fb561545e29a1e15aaf765b2d1",
      "value": " 1.33G/1.33G [00:33&lt;00:00, 46.0MB/s]"
     }
    },
    "234df1219bae4814ba5df9636e21b4e7": {
     "model_module": "@jupyter-widgets/controls",
     "model_module_version": "1.5.0",
     "model_name": "DescriptionStyleModel",
     "state": {
      "_model_module": "@jupyter-widgets/controls",
      "_model_module_version": "1.5.0",
      "_model_name": "DescriptionStyleModel",
      "_view_count": null,
      "_view_module": "@jupyter-widgets/base",
      "_view_module_version": "1.2.0",
      "_view_name": "StyleView",
      "description_width": ""
     }
    },
    "237739320e3947298d5730b1dcbe7683": {
     "model_module": "@jupyter-widgets/base",
     "model_module_version": "1.2.0",
     "model_name": "LayoutModel",
     "state": {
      "_model_module": "@jupyter-widgets/base",
      "_model_module_version": "1.2.0",
      "_model_name": "LayoutModel",
      "_view_count": null,
      "_view_module": "@jupyter-widgets/base",
      "_view_module_version": "1.2.0",
      "_view_name": "LayoutView",
      "align_content": null,
      "align_items": null,
      "align_self": null,
      "border": null,
      "bottom": null,
      "display": null,
      "flex": null,
      "flex_flow": null,
      "grid_area": null,
      "grid_auto_columns": null,
      "grid_auto_flow": null,
      "grid_auto_rows": null,
      "grid_column": null,
      "grid_gap": null,
      "grid_row": null,
      "grid_template_areas": null,
      "grid_template_columns": null,
      "grid_template_rows": null,
      "height": null,
      "justify_content": null,
      "justify_items": null,
      "left": null,
      "margin": null,
      "max_height": null,
      "max_width": null,
      "min_height": null,
      "min_width": null,
      "object_fit": null,
      "object_position": null,
      "order": null,
      "overflow": null,
      "overflow_x": null,
      "overflow_y": null,
      "padding": null,
      "right": null,
      "top": null,
      "visibility": null,
      "width": null
     }
    },
    "2912fdb2850746a1be0708cc722d344c": {
     "model_module": "@jupyter-widgets/controls",
     "model_module_version": "1.5.0",
     "model_name": "HTMLModel",
     "state": {
      "_dom_classes": [],
      "_model_module": "@jupyter-widgets/controls",
      "_model_module_version": "1.5.0",
      "_model_name": "HTMLModel",
      "_view_count": null,
      "_view_module": "@jupyter-widgets/controls",
      "_view_module_version": "1.5.0",
      "_view_name": "HTMLView",
      "description": "",
      "description_tooltip": null,
      "layout": "IPY_MODEL_c0a5c2ed6fec4e4c87f3efb4bd066df3",
      "placeholder": "​",
      "style": "IPY_MODEL_a9675f2e0a97484bb7f15014a66909c0",
      "value": "Downloading: 100%"
     }
    },
    "2a78be0e93fa46c09b795673774bbb34": {
     "model_module": "@jupyter-widgets/controls",
     "model_module_version": "1.5.0",
     "model_name": "ProgressStyleModel",
     "state": {
      "_model_module": "@jupyter-widgets/controls",
      "_model_module_version": "1.5.0",
      "_model_name": "ProgressStyleModel",
      "_view_count": null,
      "_view_module": "@jupyter-widgets/base",
      "_view_module_version": "1.2.0",
      "_view_name": "StyleView",
      "bar_color": null,
      "description_width": ""
     }
    },
    "2baebba57d8f409f857a2cf5b3cbebb5": {
     "model_module": "@jupyter-widgets/base",
     "model_module_version": "1.2.0",
     "model_name": "LayoutModel",
     "state": {
      "_model_module": "@jupyter-widgets/base",
      "_model_module_version": "1.2.0",
      "_model_name": "LayoutModel",
      "_view_count": null,
      "_view_module": "@jupyter-widgets/base",
      "_view_module_version": "1.2.0",
      "_view_name": "LayoutView",
      "align_content": null,
      "align_items": null,
      "align_self": null,
      "border": null,
      "bottom": null,
      "display": null,
      "flex": null,
      "flex_flow": null,
      "grid_area": null,
      "grid_auto_columns": null,
      "grid_auto_flow": null,
      "grid_auto_rows": null,
      "grid_column": null,
      "grid_gap": null,
      "grid_row": null,
      "grid_template_areas": null,
      "grid_template_columns": null,
      "grid_template_rows": null,
      "height": null,
      "justify_content": null,
      "justify_items": null,
      "left": null,
      "margin": null,
      "max_height": null,
      "max_width": null,
      "min_height": null,
      "min_width": null,
      "object_fit": null,
      "object_position": null,
      "order": null,
      "overflow": null,
      "overflow_x": null,
      "overflow_y": null,
      "padding": null,
      "right": null,
      "top": null,
      "visibility": null,
      "width": null
     }
    },
    "2e13183851a34ef886ba58ccd00a4126": {
     "model_module": "@jupyter-widgets/controls",
     "model_module_version": "1.5.0",
     "model_name": "DescriptionStyleModel",
     "state": {
      "_model_module": "@jupyter-widgets/controls",
      "_model_module_version": "1.5.0",
      "_model_name": "DescriptionStyleModel",
      "_view_count": null,
      "_view_module": "@jupyter-widgets/base",
      "_view_module_version": "1.2.0",
      "_view_name": "StyleView",
      "description_width": ""
     }
    },
    "303bd376ead04e008b5813cd18baf3ad": {
     "model_module": "@jupyter-widgets/controls",
     "model_module_version": "1.5.0",
     "model_name": "HTMLModel",
     "state": {
      "_dom_classes": [],
      "_model_module": "@jupyter-widgets/controls",
      "_model_module_version": "1.5.0",
      "_model_name": "HTMLModel",
      "_view_count": null,
      "_view_module": "@jupyter-widgets/controls",
      "_view_module_version": "1.5.0",
      "_view_name": "HTMLView",
      "description": "",
      "description_tooltip": null,
      "layout": "IPY_MODEL_624d8afe11dd4fb487bf52cc40e6e237",
      "placeholder": "​",
      "style": "IPY_MODEL_6e2e675ee96d407cbf00a2c2cce54207",
      "value": "Downloading: 100%"
     }
    },
    "30e5893f32b04db3a72fbe380fd26e55": {
     "model_module": "@jupyter-widgets/controls",
     "model_module_version": "1.5.0",
     "model_name": "HBoxModel",
     "state": {
      "_dom_classes": [],
      "_model_module": "@jupyter-widgets/controls",
      "_model_module_version": "1.5.0",
      "_model_name": "HBoxModel",
      "_view_count": null,
      "_view_module": "@jupyter-widgets/controls",
      "_view_module_version": "1.5.0",
      "_view_name": "HBoxView",
      "box_style": "",
      "children": [
       "IPY_MODEL_2912fdb2850746a1be0708cc722d344c",
       "IPY_MODEL_3f9f4b289cdf4ac28c651e08f3d848f4",
       "IPY_MODEL_460bb25c1051489e9b4d77569fe01344"
      ],
      "layout": "IPY_MODEL_c8e2a0151b6b4262b11ce5d7717e1cbe"
     }
    },
    "3129988313b04618a59f5f5f237fb2e1": {
     "model_module": "@jupyter-widgets/controls",
     "model_module_version": "1.5.0",
     "model_name": "ProgressStyleModel",
     "state": {
      "_model_module": "@jupyter-widgets/controls",
      "_model_module_version": "1.5.0",
      "_model_name": "ProgressStyleModel",
      "_view_count": null,
      "_view_module": "@jupyter-widgets/base",
      "_view_module_version": "1.2.0",
      "_view_name": "StyleView",
      "bar_color": null,
      "description_width": ""
     }
    },
    "35ad70a24daa4763aa40570a2aa3ef45": {
     "model_module": "@jupyter-widgets/controls",
     "model_module_version": "1.5.0",
     "model_name": "HTMLModel",
     "state": {
      "_dom_classes": [],
      "_model_module": "@jupyter-widgets/controls",
      "_model_module_version": "1.5.0",
      "_model_name": "HTMLModel",
      "_view_count": null,
      "_view_module": "@jupyter-widgets/controls",
      "_view_module_version": "1.5.0",
      "_view_name": "HTMLView",
      "description": "",
      "description_tooltip": null,
      "layout": "IPY_MODEL_020577003a6d4369beced2ff26c576ff",
      "placeholder": "​",
      "style": "IPY_MODEL_da9951cfc28b4cce9f8c515297d25b73",
      "value": " 878k/878k [00:00&lt;00:00, 1.22MB/s]"
     }
    },
    "35be120528b84445991f9820388fbad9": {
     "model_module": "@jupyter-widgets/controls",
     "model_module_version": "1.5.0",
     "model_name": "DescriptionStyleModel",
     "state": {
      "_model_module": "@jupyter-widgets/controls",
      "_model_module_version": "1.5.0",
      "_model_name": "DescriptionStyleModel",
      "_view_count": null,
      "_view_module": "@jupyter-widgets/base",
      "_view_module_version": "1.2.0",
      "_view_name": "StyleView",
      "description_width": ""
     }
    },
    "38cfeeda779b492093f9df2a59c2329b": {
     "model_module": "@jupyter-widgets/controls",
     "model_module_version": "1.5.0",
     "model_name": "DescriptionStyleModel",
     "state": {
      "_model_module": "@jupyter-widgets/controls",
      "_model_module_version": "1.5.0",
      "_model_name": "DescriptionStyleModel",
      "_view_count": null,
      "_view_module": "@jupyter-widgets/base",
      "_view_module_version": "1.2.0",
      "_view_name": "StyleView",
      "description_width": ""
     }
    },
    "3990565976394765af448ccc5fc33fb2": {
     "model_module": "@jupyter-widgets/controls",
     "model_module_version": "1.5.0",
     "model_name": "HTMLModel",
     "state": {
      "_dom_classes": [],
      "_model_module": "@jupyter-widgets/controls",
      "_model_module_version": "1.5.0",
      "_model_name": "HTMLModel",
      "_view_count": null,
      "_view_module": "@jupyter-widgets/controls",
      "_view_module_version": "1.5.0",
      "_view_name": "HTMLView",
      "description": "",
      "description_tooltip": null,
      "layout": "IPY_MODEL_ab70024deb1847a58ce3a1a657fa8267",
      "placeholder": "​",
      "style": "IPY_MODEL_f73e774fa7bd41e197a24041148ff5ba",
      "value": "Downloading: 100%"
     }
    },
    "3bfd7247e4c14b9aabfc852d8423f1d0": {
     "model_module": "@jupyter-widgets/controls",
     "model_module_version": "1.5.0",
     "model_name": "HBoxModel",
     "state": {
      "_dom_classes": [],
      "_model_module": "@jupyter-widgets/controls",
      "_model_module_version": "1.5.0",
      "_model_name": "HBoxModel",
      "_view_count": null,
      "_view_module": "@jupyter-widgets/controls",
      "_view_module_version": "1.5.0",
      "_view_name": "HBoxView",
      "box_style": "",
      "children": [
       "IPY_MODEL_4136e7541fbf4dd39c35c74461064de2",
       "IPY_MODEL_475062705fde45d78cbe1d49324f535e",
       "IPY_MODEL_5b3b0f22f2e840f58aedcdc1dfb562a9"
      ],
      "layout": "IPY_MODEL_d251acb53f44469a95dcc8b1ba6eddbf"
     }
    },
    "3f9f4b289cdf4ac28c651e08f3d848f4": {
     "model_module": "@jupyter-widgets/controls",
     "model_module_version": "1.5.0",
     "model_name": "FloatProgressModel",
     "state": {
      "_dom_classes": [],
      "_model_module": "@jupyter-widgets/controls",
      "_model_module_version": "1.5.0",
      "_model_name": "FloatProgressModel",
      "_view_count": null,
      "_view_module": "@jupyter-widgets/controls",
      "_view_module_version": "1.5.0",
      "_view_name": "ProgressView",
      "bar_style": "success",
      "description": "",
      "description_tooltip": null,
      "layout": "IPY_MODEL_0c870aca0a274ca393d753f6e20d90b9",
      "max": 482,
      "min": 0,
      "orientation": "horizontal",
      "style": "IPY_MODEL_2a78be0e93fa46c09b795673774bbb34",
      "value": 482
     }
    },
    "4136e7541fbf4dd39c35c74461064de2": {
     "model_module": "@jupyter-widgets/controls",
     "model_module_version": "1.5.0",
     "model_name": "HTMLModel",
     "state": {
      "_dom_classes": [],
      "_model_module": "@jupyter-widgets/controls",
      "_model_module_version": "1.5.0",
      "_model_name": "HTMLModel",
      "_view_count": null,
      "_view_module": "@jupyter-widgets/controls",
      "_view_module_version": "1.5.0",
      "_view_name": "HTMLView",
      "description": "",
      "description_tooltip": null,
      "layout": "IPY_MODEL_77104e1ee59447f4b2eb6cf15caec2c9",
      "placeholder": "​",
      "style": "IPY_MODEL_9a981adf9256477690b2d91fc53965ce",
      "value": "Downloading: "
     }
    },
    "453bdd7fbeae4965965321bba7a2a604": {
     "model_module": "@jupyter-widgets/controls",
     "model_module_version": "1.5.0",
     "model_name": "HTMLModel",
     "state": {
      "_dom_classes": [],
      "_model_module": "@jupyter-widgets/controls",
      "_model_module_version": "1.5.0",
      "_model_name": "HTMLModel",
      "_view_count": null,
      "_view_module": "@jupyter-widgets/controls",
      "_view_module_version": "1.5.0",
      "_view_name": "HTMLView",
      "description": "",
      "description_tooltip": null,
      "layout": "IPY_MODEL_ff935e72502d4a7aa21da0d9789102c8",
      "placeholder": "​",
      "style": "IPY_MODEL_bc20c05b8a0c430b8a0d5dc94dd6c543",
      "value": " 8.15k/? [00:00&lt;00:00, 206kB/s]"
     }
    },
    "460bb25c1051489e9b4d77569fe01344": {
     "model_module": "@jupyter-widgets/controls",
     "model_module_version": "1.5.0",
     "model_name": "HTMLModel",
     "state": {
      "_dom_classes": [],
      "_model_module": "@jupyter-widgets/controls",
      "_model_module_version": "1.5.0",
      "_model_name": "HTMLModel",
      "_view_count": null,
      "_view_module": "@jupyter-widgets/controls",
      "_view_module_version": "1.5.0",
      "_view_name": "HTMLView",
      "description": "",
      "description_tooltip": null,
      "layout": "IPY_MODEL_dbda41ab62c143849b0b788f75107bc5",
      "placeholder": "​",
      "style": "IPY_MODEL_38cfeeda779b492093f9df2a59c2329b",
      "value": " 482/482 [00:00&lt;00:00, 12.9kB/s]"
     }
    },
    "475062705fde45d78cbe1d49324f535e": {
     "model_module": "@jupyter-widgets/controls",
     "model_module_version": "1.5.0",
     "model_name": "FloatProgressModel",
     "state": {
      "_dom_classes": [],
      "_model_module": "@jupyter-widgets/controls",
      "_model_module_version": "1.5.0",
      "_model_name": "FloatProgressModel",
      "_view_count": null,
      "_view_module": "@jupyter-widgets/controls",
      "_view_module_version": "1.5.0",
      "_view_name": "ProgressView",
      "bar_style": "success",
      "description": "",
      "description_tooltip": null,
      "layout": "IPY_MODEL_ed913a5e500443219f28ecc671fb13e7",
      "max": 2170,
      "min": 0,
      "orientation": "horizontal",
      "style": "IPY_MODEL_8691db8def6e4b7a83ee1c302e2be37e",
      "value": 2170
     }
    },
    "4d3b3fafdfe744c29aa2e69b961b5b3f": {
     "model_module": "@jupyter-widgets/controls",
     "model_module_version": "1.5.0",
     "model_name": "FloatProgressModel",
     "state": {
      "_dom_classes": [],
      "_model_module": "@jupyter-widgets/controls",
      "_model_module_version": "1.5.0",
      "_model_name": "FloatProgressModel",
      "_view_count": null,
      "_view_module": "@jupyter-widgets/controls",
      "_view_module_version": "1.5.0",
      "_view_name": "ProgressView",
      "bar_style": "success",
      "description": "",
      "description_tooltip": null,
      "layout": "IPY_MODEL_2baebba57d8f409f857a2cf5b3cbebb5",
      "max": 898823,
      "min": 0,
      "orientation": "horizontal",
      "style": "IPY_MODEL_6f1e89c604904b92a9a54f238aa44a9e",
      "value": 898823
     }
    },
    "503567709a394cc68dfa493f7d8af7db": {
     "model_module": "@jupyter-widgets/controls",
     "model_module_version": "1.5.0",
     "model_name": "FloatProgressModel",
     "state": {
      "_dom_classes": [],
      "_model_module": "@jupyter-widgets/controls",
      "_model_module_version": "1.5.0",
      "_model_name": "FloatProgressModel",
      "_view_count": null,
      "_view_module": "@jupyter-widgets/controls",
      "_view_module_version": "1.5.0",
      "_view_name": "ProgressView",
      "bar_style": "success",
      "description": "",
      "description_tooltip": null,
      "layout": "IPY_MODEL_237739320e3947298d5730b1dcbe7683",
      "max": 1425941629,
      "min": 0,
      "orientation": "horizontal",
      "style": "IPY_MODEL_3129988313b04618a59f5f5f237fb2e1",
      "value": 1425941629
     }
    },
    "5463d862d14849c98d8a6f71e811d6b0": {
     "model_module": "@jupyter-widgets/base",
     "model_module_version": "1.2.0",
     "model_name": "LayoutModel",
     "state": {
      "_model_module": "@jupyter-widgets/base",
      "_model_module_version": "1.2.0",
      "_model_name": "LayoutModel",
      "_view_count": null,
      "_view_module": "@jupyter-widgets/base",
      "_view_module_version": "1.2.0",
      "_view_name": "LayoutView",
      "align_content": null,
      "align_items": null,
      "align_self": null,
      "border": null,
      "bottom": null,
      "display": null,
      "flex": null,
      "flex_flow": null,
      "grid_area": null,
      "grid_auto_columns": null,
      "grid_auto_flow": null,
      "grid_auto_rows": null,
      "grid_column": null,
      "grid_gap": null,
      "grid_row": null,
      "grid_template_areas": null,
      "grid_template_columns": null,
      "grid_template_rows": null,
      "height": null,
      "justify_content": null,
      "justify_items": null,
      "left": null,
      "margin": null,
      "max_height": null,
      "max_width": null,
      "min_height": null,
      "min_width": null,
      "object_fit": null,
      "object_position": null,
      "order": null,
      "overflow": null,
      "overflow_x": null,
      "overflow_y": null,
      "padding": null,
      "right": null,
      "top": null,
      "visibility": null,
      "width": null
     }
    },
    "593d4d0a69104b89be5268d47e85505b": {
     "model_module": "@jupyter-widgets/controls",
     "model_module_version": "1.5.0",
     "model_name": "HBoxModel",
     "state": {
      "_dom_classes": [],
      "_model_module": "@jupyter-widgets/controls",
      "_model_module_version": "1.5.0",
      "_model_name": "HBoxModel",
      "_view_count": null,
      "_view_module": "@jupyter-widgets/controls",
      "_view_module_version": "1.5.0",
      "_view_name": "HBoxView",
      "box_style": "",
      "children": [
       "IPY_MODEL_ca7c34f82b3941e5a6c271395fd30fc1",
       "IPY_MODEL_4d3b3fafdfe744c29aa2e69b961b5b3f",
       "IPY_MODEL_35ad70a24daa4763aa40570a2aa3ef45"
      ],
      "layout": "IPY_MODEL_aba2ea2ea91b46d584089a70e33d6741"
     }
    },
    "5b3b0f22f2e840f58aedcdc1dfb562a9": {
     "model_module": "@jupyter-widgets/controls",
     "model_module_version": "1.5.0",
     "model_name": "HTMLModel",
     "state": {
      "_dom_classes": [],
      "_model_module": "@jupyter-widgets/controls",
      "_model_module_version": "1.5.0",
      "_model_name": "HTMLModel",
      "_view_count": null,
      "_view_module": "@jupyter-widgets/controls",
      "_view_module_version": "1.5.0",
      "_view_name": "HTMLView",
      "description": "",
      "description_tooltip": null,
      "layout": "IPY_MODEL_d9662ea358c142a79e0bf278bfaa75b3",
      "placeholder": "​",
      "style": "IPY_MODEL_35be120528b84445991f9820388fbad9",
      "value": " 5.61k/? [00:00&lt;00:00, 145kB/s]"
     }
    },
    "5eee4986cf854583b1444b5c5eef80ed": {
     "model_module": "@jupyter-widgets/controls",
     "model_module_version": "1.5.0",
     "model_name": "FloatProgressModel",
     "state": {
      "_dom_classes": [],
      "_model_module": "@jupyter-widgets/controls",
      "_model_module_version": "1.5.0",
      "_model_name": "FloatProgressModel",
      "_view_count": null,
      "_view_module": "@jupyter-widgets/controls",
      "_view_module_version": "1.5.0",
      "_view_name": "ProgressView",
      "bar_style": "success",
      "description": "",
      "description_tooltip": null,
      "layout": "IPY_MODEL_9fc742e66b774a4cb6ee9ba2fa7bfe24",
      "max": 1355863,
      "min": 0,
      "orientation": "horizontal",
      "style": "IPY_MODEL_72b7df02bd50447e9451e32b5b48f326",
      "value": 1355863
     }
    },
    "5f6320507a354c1d9ece374c4674c901": {
     "model_module": "@jupyter-widgets/controls",
     "model_module_version": "1.5.0",
     "model_name": "HBoxModel",
     "state": {
      "_dom_classes": [],
      "_model_module": "@jupyter-widgets/controls",
      "_model_module_version": "1.5.0",
      "_model_name": "HBoxModel",
      "_view_count": null,
      "_view_module": "@jupyter-widgets/controls",
      "_view_module_version": "1.5.0",
      "_view_name": "HBoxView",
      "box_style": "",
      "children": [
       "IPY_MODEL_303bd376ead04e008b5813cd18baf3ad",
       "IPY_MODEL_c35c1a2393bd4883abede398b7aad8b0",
       "IPY_MODEL_93b9ea0aa27d4f918bd98eb7042212a5"
      ],
      "layout": "IPY_MODEL_92250795f8b4489aa1479f0b231d1ee5"
     }
    },
    "624d8afe11dd4fb487bf52cc40e6e237": {
     "model_module": "@jupyter-widgets/base",
     "model_module_version": "1.2.0",
     "model_name": "LayoutModel",
     "state": {
      "_model_module": "@jupyter-widgets/base",
      "_model_module_version": "1.2.0",
      "_model_name": "LayoutModel",
      "_view_count": null,
      "_view_module": "@jupyter-widgets/base",
      "_view_module_version": "1.2.0",
      "_view_name": "LayoutView",
      "align_content": null,
      "align_items": null,
      "align_self": null,
      "border": null,
      "bottom": null,
      "display": null,
      "flex": null,
      "flex_flow": null,
      "grid_area": null,
      "grid_auto_columns": null,
      "grid_auto_flow": null,
      "grid_auto_rows": null,
      "grid_column": null,
      "grid_gap": null,
      "grid_row": null,
      "grid_template_areas": null,
      "grid_template_columns": null,
      "grid_template_rows": null,
      "height": null,
      "justify_content": null,
      "justify_items": null,
      "left": null,
      "margin": null,
      "max_height": null,
      "max_width": null,
      "min_height": null,
      "min_width": null,
      "object_fit": null,
      "object_position": null,
      "order": null,
      "overflow": null,
      "overflow_x": null,
      "overflow_y": null,
      "padding": null,
      "right": null,
      "top": null,
      "visibility": null,
      "width": null
     }
    },
    "64edfb7c22874b6e97983d2a55ab5d18": {
     "model_module": "@jupyter-widgets/controls",
     "model_module_version": "1.5.0",
     "model_name": "HTMLModel",
     "state": {
      "_dom_classes": [],
      "_model_module": "@jupyter-widgets/controls",
      "_model_module_version": "1.5.0",
      "_model_name": "HTMLModel",
      "_view_count": null,
      "_view_module": "@jupyter-widgets/controls",
      "_view_module_version": "1.5.0",
      "_view_name": "HTMLView",
      "description": "",
      "description_tooltip": null,
      "layout": "IPY_MODEL_5463d862d14849c98d8a6f71e811d6b0",
      "placeholder": "​",
      "style": "IPY_MODEL_234df1219bae4814ba5df9636e21b4e7",
      "value": " 1.29M/1.29M [00:00&lt;00:00, 1.26MB/s]"
     }
    },
    "69a55b8da027404bb67f290fddc4bfd8": {
     "model_module": "@jupyter-widgets/controls",
     "model_module_version": "1.5.0",
     "model_name": "DescriptionStyleModel",
     "state": {
      "_model_module": "@jupyter-widgets/controls",
      "_model_module_version": "1.5.0",
      "_model_name": "DescriptionStyleModel",
      "_view_count": null,
      "_view_module": "@jupyter-widgets/base",
      "_view_module_version": "1.2.0",
      "_view_name": "StyleView",
      "description_width": ""
     }
    },
    "6e2e675ee96d407cbf00a2c2cce54207": {
     "model_module": "@jupyter-widgets/controls",
     "model_module_version": "1.5.0",
     "model_name": "DescriptionStyleModel",
     "state": {
      "_model_module": "@jupyter-widgets/controls",
      "_model_module_version": "1.5.0",
      "_model_name": "DescriptionStyleModel",
      "_view_count": null,
      "_view_module": "@jupyter-widgets/base",
      "_view_module_version": "1.2.0",
      "_view_name": "StyleView",
      "description_width": ""
     }
    },
    "6f1e89c604904b92a9a54f238aa44a9e": {
     "model_module": "@jupyter-widgets/controls",
     "model_module_version": "1.5.0",
     "model_name": "ProgressStyleModel",
     "state": {
      "_model_module": "@jupyter-widgets/controls",
      "_model_module_version": "1.5.0",
      "_model_name": "ProgressStyleModel",
      "_view_count": null,
      "_view_module": "@jupyter-widgets/base",
      "_view_module_version": "1.2.0",
      "_view_name": "StyleView",
      "bar_color": null,
      "description_width": ""
     }
    },
    "72b7df02bd50447e9451e32b5b48f326": {
     "model_module": "@jupyter-widgets/controls",
     "model_module_version": "1.5.0",
     "model_name": "ProgressStyleModel",
     "state": {
      "_model_module": "@jupyter-widgets/controls",
      "_model_module_version": "1.5.0",
      "_model_name": "ProgressStyleModel",
      "_view_count": null,
      "_view_module": "@jupyter-widgets/base",
      "_view_module_version": "1.2.0",
      "_view_name": "StyleView",
      "bar_color": null,
      "description_width": ""
     }
    },
    "77104e1ee59447f4b2eb6cf15caec2c9": {
     "model_module": "@jupyter-widgets/base",
     "model_module_version": "1.2.0",
     "model_name": "LayoutModel",
     "state": {
      "_model_module": "@jupyter-widgets/base",
      "_model_module_version": "1.2.0",
      "_model_name": "LayoutModel",
      "_view_count": null,
      "_view_module": "@jupyter-widgets/base",
      "_view_module_version": "1.2.0",
      "_view_name": "LayoutView",
      "align_content": null,
      "align_items": null,
      "align_self": null,
      "border": null,
      "bottom": null,
      "display": null,
      "flex": null,
      "flex_flow": null,
      "grid_area": null,
      "grid_auto_columns": null,
      "grid_auto_flow": null,
      "grid_auto_rows": null,
      "grid_column": null,
      "grid_gap": null,
      "grid_row": null,
      "grid_template_areas": null,
      "grid_template_columns": null,
      "grid_template_rows": null,
      "height": null,
      "justify_content": null,
      "justify_items": null,
      "left": null,
      "margin": null,
      "max_height": null,
      "max_width": null,
      "min_height": null,
      "min_width": null,
      "object_fit": null,
      "object_position": null,
      "order": null,
      "overflow": null,
      "overflow_x": null,
      "overflow_y": null,
      "padding": null,
      "right": null,
      "top": null,
      "visibility": null,
      "width": null
     }
    },
    "7a0e21e0e5914b2f924e393f317cee81": {
     "model_module": "@jupyter-widgets/controls",
     "model_module_version": "1.5.0",
     "model_name": "DescriptionStyleModel",
     "state": {
      "_model_module": "@jupyter-widgets/controls",
      "_model_module_version": "1.5.0",
      "_model_name": "DescriptionStyleModel",
      "_view_count": null,
      "_view_module": "@jupyter-widgets/base",
      "_view_module_version": "1.2.0",
      "_view_name": "StyleView",
      "description_width": ""
     }
    },
    "7e0999df93c9427bb2366d958e7c4b30": {
     "model_module": "@jupyter-widgets/controls",
     "model_module_version": "1.5.0",
     "model_name": "ProgressStyleModel",
     "state": {
      "_model_module": "@jupyter-widgets/controls",
      "_model_module_version": "1.5.0",
      "_model_name": "ProgressStyleModel",
      "_view_count": null,
      "_view_module": "@jupyter-widgets/base",
      "_view_module_version": "1.2.0",
      "_view_name": "StyleView",
      "bar_color": null,
      "description_width": ""
     }
    },
    "8078fc55af0b47f28bd3460fcf4ce3ed": {
     "model_module": "@jupyter-widgets/controls",
     "model_module_version": "1.5.0",
     "model_name": "HBoxModel",
     "state": {
      "_dom_classes": [],
      "_model_module": "@jupyter-widgets/controls",
      "_model_module_version": "1.5.0",
      "_model_name": "HBoxModel",
      "_view_count": null,
      "_view_module": "@jupyter-widgets/controls",
      "_view_module_version": "1.5.0",
      "_view_name": "HBoxView",
      "box_style": "",
      "children": [
       "IPY_MODEL_e0331a2ba9f24870958bfcce407ccf27",
       "IPY_MODEL_add69b1a47194cc1b1c8dd8a9b7b0a06",
       "IPY_MODEL_453bdd7fbeae4965965321bba7a2a604"
      ],
      "layout": "IPY_MODEL_966e63d1fdb84c8385be33b7fd603f3b"
     }
    },
    "8691db8def6e4b7a83ee1c302e2be37e": {
     "model_module": "@jupyter-widgets/controls",
     "model_module_version": "1.5.0",
     "model_name": "ProgressStyleModel",
     "state": {
      "_model_module": "@jupyter-widgets/controls",
      "_model_module_version": "1.5.0",
      "_model_name": "ProgressStyleModel",
      "_view_count": null,
      "_view_module": "@jupyter-widgets/base",
      "_view_module_version": "1.2.0",
      "_view_name": "StyleView",
      "bar_color": null,
      "description_width": ""
     }
    },
    "8a2b9d425bef44c595ede8f928cdaad5": {
     "model_module": "@jupyter-widgets/base",
     "model_module_version": "1.2.0",
     "model_name": "LayoutModel",
     "state": {
      "_model_module": "@jupyter-widgets/base",
      "_model_module_version": "1.2.0",
      "_model_name": "LayoutModel",
      "_view_count": null,
      "_view_module": "@jupyter-widgets/base",
      "_view_module_version": "1.2.0",
      "_view_name": "LayoutView",
      "align_content": null,
      "align_items": null,
      "align_self": null,
      "border": null,
      "bottom": null,
      "display": null,
      "flex": null,
      "flex_flow": null,
      "grid_area": null,
      "grid_auto_columns": null,
      "grid_auto_flow": null,
      "grid_auto_rows": null,
      "grid_column": null,
      "grid_gap": null,
      "grid_row": null,
      "grid_template_areas": null,
      "grid_template_columns": null,
      "grid_template_rows": null,
      "height": null,
      "justify_content": null,
      "justify_items": null,
      "left": null,
      "margin": null,
      "max_height": null,
      "max_width": null,
      "min_height": null,
      "min_width": null,
      "object_fit": null,
      "object_position": null,
      "order": null,
      "overflow": null,
      "overflow_x": null,
      "overflow_y": null,
      "padding": null,
      "right": null,
      "top": null,
      "visibility": null,
      "width": null
     }
    },
    "92250795f8b4489aa1479f0b231d1ee5": {
     "model_module": "@jupyter-widgets/base",
     "model_module_version": "1.2.0",
     "model_name": "LayoutModel",
     "state": {
      "_model_module": "@jupyter-widgets/base",
      "_model_module_version": "1.2.0",
      "_model_name": "LayoutModel",
      "_view_count": null,
      "_view_module": "@jupyter-widgets/base",
      "_view_module_version": "1.2.0",
      "_view_name": "LayoutView",
      "align_content": null,
      "align_items": null,
      "align_self": null,
      "border": null,
      "bottom": null,
      "display": null,
      "flex": null,
      "flex_flow": null,
      "grid_area": null,
      "grid_auto_columns": null,
      "grid_auto_flow": null,
      "grid_auto_rows": null,
      "grid_column": null,
      "grid_gap": null,
      "grid_row": null,
      "grid_template_areas": null,
      "grid_template_columns": null,
      "grid_template_rows": null,
      "height": null,
      "justify_content": null,
      "justify_items": null,
      "left": null,
      "margin": null,
      "max_height": null,
      "max_width": null,
      "min_height": null,
      "min_width": null,
      "object_fit": null,
      "object_position": null,
      "order": null,
      "overflow": null,
      "overflow_x": null,
      "overflow_y": null,
      "padding": null,
      "right": null,
      "top": null,
      "visibility": null,
      "width": null
     }
    },
    "93b9ea0aa27d4f918bd98eb7042212a5": {
     "model_module": "@jupyter-widgets/controls",
     "model_module_version": "1.5.0",
     "model_name": "HTMLModel",
     "state": {
      "_dom_classes": [],
      "_model_module": "@jupyter-widgets/controls",
      "_model_module_version": "1.5.0",
      "_model_name": "HTMLModel",
      "_view_count": null,
      "_view_module": "@jupyter-widgets/controls",
      "_view_module_version": "1.5.0",
      "_view_name": "HTMLView",
      "description": "",
      "description_tooltip": null,
      "layout": "IPY_MODEL_b3154498a9b145829d1cd6deac2e80ed",
      "placeholder": "​",
      "style": "IPY_MODEL_69a55b8da027404bb67f290fddc4bfd8",
      "value": " 446k/446k [00:00&lt;00:00, 1.25MB/s]"
     }
    },
    "966e63d1fdb84c8385be33b7fd603f3b": {
     "model_module": "@jupyter-widgets/base",
     "model_module_version": "1.2.0",
     "model_name": "LayoutModel",
     "state": {
      "_model_module": "@jupyter-widgets/base",
      "_model_module_version": "1.2.0",
      "_model_name": "LayoutModel",
      "_view_count": null,
      "_view_module": "@jupyter-widgets/base",
      "_view_module_version": "1.2.0",
      "_view_name": "LayoutView",
      "align_content": null,
      "align_items": null,
      "align_self": null,
      "border": null,
      "bottom": null,
      "display": null,
      "flex": null,
      "flex_flow": null,
      "grid_area": null,
      "grid_auto_columns": null,
      "grid_auto_flow": null,
      "grid_auto_rows": null,
      "grid_column": null,
      "grid_gap": null,
      "grid_row": null,
      "grid_template_areas": null,
      "grid_template_columns": null,
      "grid_template_rows": null,
      "height": null,
      "justify_content": null,
      "justify_items": null,
      "left": null,
      "margin": null,
      "max_height": null,
      "max_width": null,
      "min_height": null,
      "min_width": null,
      "object_fit": null,
      "object_position": null,
      "order": null,
      "overflow": null,
      "overflow_x": null,
      "overflow_y": null,
      "padding": null,
      "right": null,
      "top": null,
      "visibility": null,
      "width": null
     }
    },
    "9a981adf9256477690b2d91fc53965ce": {
     "model_module": "@jupyter-widgets/controls",
     "model_module_version": "1.5.0",
     "model_name": "DescriptionStyleModel",
     "state": {
      "_model_module": "@jupyter-widgets/controls",
      "_model_module_version": "1.5.0",
      "_model_name": "DescriptionStyleModel",
      "_view_count": null,
      "_view_module": "@jupyter-widgets/base",
      "_view_module_version": "1.2.0",
      "_view_name": "StyleView",
      "description_width": ""
     }
    },
    "9fc742e66b774a4cb6ee9ba2fa7bfe24": {
     "model_module": "@jupyter-widgets/base",
     "model_module_version": "1.2.0",
     "model_name": "LayoutModel",
     "state": {
      "_model_module": "@jupyter-widgets/base",
      "_model_module_version": "1.2.0",
      "_model_name": "LayoutModel",
      "_view_count": null,
      "_view_module": "@jupyter-widgets/base",
      "_view_module_version": "1.2.0",
      "_view_name": "LayoutView",
      "align_content": null,
      "align_items": null,
      "align_self": null,
      "border": null,
      "bottom": null,
      "display": null,
      "flex": null,
      "flex_flow": null,
      "grid_area": null,
      "grid_auto_columns": null,
      "grid_auto_flow": null,
      "grid_auto_rows": null,
      "grid_column": null,
      "grid_gap": null,
      "grid_row": null,
      "grid_template_areas": null,
      "grid_template_columns": null,
      "grid_template_rows": null,
      "height": null,
      "justify_content": null,
      "justify_items": null,
      "left": null,
      "margin": null,
      "max_height": null,
      "max_width": null,
      "min_height": null,
      "min_width": null,
      "object_fit": null,
      "object_position": null,
      "order": null,
      "overflow": null,
      "overflow_x": null,
      "overflow_y": null,
      "padding": null,
      "right": null,
      "top": null,
      "visibility": null,
      "width": null
     }
    },
    "a56317196c42423aadb9778fc0e09091": {
     "model_module": "@jupyter-widgets/base",
     "model_module_version": "1.2.0",
     "model_name": "LayoutModel",
     "state": {
      "_model_module": "@jupyter-widgets/base",
      "_model_module_version": "1.2.0",
      "_model_name": "LayoutModel",
      "_view_count": null,
      "_view_module": "@jupyter-widgets/base",
      "_view_module_version": "1.2.0",
      "_view_name": "LayoutView",
      "align_content": null,
      "align_items": null,
      "align_self": null,
      "border": null,
      "bottom": null,
      "display": null,
      "flex": null,
      "flex_flow": null,
      "grid_area": null,
      "grid_auto_columns": null,
      "grid_auto_flow": null,
      "grid_auto_rows": null,
      "grid_column": null,
      "grid_gap": null,
      "grid_row": null,
      "grid_template_areas": null,
      "grid_template_columns": null,
      "grid_template_rows": null,
      "height": null,
      "justify_content": null,
      "justify_items": null,
      "left": null,
      "margin": null,
      "max_height": null,
      "max_width": null,
      "min_height": null,
      "min_width": null,
      "object_fit": null,
      "object_position": null,
      "order": null,
      "overflow": null,
      "overflow_x": null,
      "overflow_y": null,
      "padding": null,
      "right": null,
      "top": null,
      "visibility": null,
      "width": null
     }
    },
    "a5db86d01ef84471b5ab3358b749f838": {
     "model_module": "@jupyter-widgets/controls",
     "model_module_version": "1.5.0",
     "model_name": "ProgressStyleModel",
     "state": {
      "_model_module": "@jupyter-widgets/controls",
      "_model_module_version": "1.5.0",
      "_model_name": "ProgressStyleModel",
      "_view_count": null,
      "_view_module": "@jupyter-widgets/base",
      "_view_module_version": "1.2.0",
      "_view_name": "StyleView",
      "bar_color": null,
      "description_width": ""
     }
    },
    "a9675f2e0a97484bb7f15014a66909c0": {
     "model_module": "@jupyter-widgets/controls",
     "model_module_version": "1.5.0",
     "model_name": "DescriptionStyleModel",
     "state": {
      "_model_module": "@jupyter-widgets/controls",
      "_model_module_version": "1.5.0",
      "_model_name": "DescriptionStyleModel",
      "_view_count": null,
      "_view_module": "@jupyter-widgets/base",
      "_view_module_version": "1.2.0",
      "_view_name": "StyleView",
      "description_width": ""
     }
    },
    "ab70024deb1847a58ce3a1a657fa8267": {
     "model_module": "@jupyter-widgets/base",
     "model_module_version": "1.2.0",
     "model_name": "LayoutModel",
     "state": {
      "_model_module": "@jupyter-widgets/base",
      "_model_module_version": "1.2.0",
      "_model_name": "LayoutModel",
      "_view_count": null,
      "_view_module": "@jupyter-widgets/base",
      "_view_module_version": "1.2.0",
      "_view_name": "LayoutView",
      "align_content": null,
      "align_items": null,
      "align_self": null,
      "border": null,
      "bottom": null,
      "display": null,
      "flex": null,
      "flex_flow": null,
      "grid_area": null,
      "grid_auto_columns": null,
      "grid_auto_flow": null,
      "grid_auto_rows": null,
      "grid_column": null,
      "grid_gap": null,
      "grid_row": null,
      "grid_template_areas": null,
      "grid_template_columns": null,
      "grid_template_rows": null,
      "height": null,
      "justify_content": null,
      "justify_items": null,
      "left": null,
      "margin": null,
      "max_height": null,
      "max_width": null,
      "min_height": null,
      "min_width": null,
      "object_fit": null,
      "object_position": null,
      "order": null,
      "overflow": null,
      "overflow_x": null,
      "overflow_y": null,
      "padding": null,
      "right": null,
      "top": null,
      "visibility": null,
      "width": null
     }
    },
    "aba2ea2ea91b46d584089a70e33d6741": {
     "model_module": "@jupyter-widgets/base",
     "model_module_version": "1.2.0",
     "model_name": "LayoutModel",
     "state": {
      "_model_module": "@jupyter-widgets/base",
      "_model_module_version": "1.2.0",
      "_model_name": "LayoutModel",
      "_view_count": null,
      "_view_module": "@jupyter-widgets/base",
      "_view_module_version": "1.2.0",
      "_view_name": "LayoutView",
      "align_content": null,
      "align_items": null,
      "align_self": null,
      "border": null,
      "bottom": null,
      "display": null,
      "flex": null,
      "flex_flow": null,
      "grid_area": null,
      "grid_auto_columns": null,
      "grid_auto_flow": null,
      "grid_auto_rows": null,
      "grid_column": null,
      "grid_gap": null,
      "grid_row": null,
      "grid_template_areas": null,
      "grid_template_columns": null,
      "grid_template_rows": null,
      "height": null,
      "justify_content": null,
      "justify_items": null,
      "left": null,
      "margin": null,
      "max_height": null,
      "max_width": null,
      "min_height": null,
      "min_width": null,
      "object_fit": null,
      "object_position": null,
      "order": null,
      "overflow": null,
      "overflow_x": null,
      "overflow_y": null,
      "padding": null,
      "right": null,
      "top": null,
      "visibility": null,
      "width": null
     }
    },
    "add69b1a47194cc1b1c8dd8a9b7b0a06": {
     "model_module": "@jupyter-widgets/controls",
     "model_module_version": "1.5.0",
     "model_name": "FloatProgressModel",
     "state": {
      "_dom_classes": [],
      "_model_module": "@jupyter-widgets/controls",
      "_model_module_version": "1.5.0",
      "_model_name": "FloatProgressModel",
      "_view_count": null,
      "_view_module": "@jupyter-widgets/controls",
      "_view_module_version": "1.5.0",
      "_view_name": "ProgressView",
      "bar_style": "success",
      "description": "",
      "description_tooltip": null,
      "layout": "IPY_MODEL_f2552aace0624efaaa4ad35de05cb47c",
      "max": 2933,
      "min": 0,
      "orientation": "horizontal",
      "style": "IPY_MODEL_7e0999df93c9427bb2366d958e7c4b30",
      "value": 2933
     }
    },
    "ae031203bc134a23905bbcfb6d3c83a7": {
     "model_module": "@jupyter-widgets/base",
     "model_module_version": "1.2.0",
     "model_name": "LayoutModel",
     "state": {
      "_model_module": "@jupyter-widgets/base",
      "_model_module_version": "1.2.0",
      "_model_name": "LayoutModel",
      "_view_count": null,
      "_view_module": "@jupyter-widgets/base",
      "_view_module_version": "1.2.0",
      "_view_name": "LayoutView",
      "align_content": null,
      "align_items": null,
      "align_self": null,
      "border": null,
      "bottom": null,
      "display": null,
      "flex": null,
      "flex_flow": null,
      "grid_area": null,
      "grid_auto_columns": null,
      "grid_auto_flow": null,
      "grid_auto_rows": null,
      "grid_column": null,
      "grid_gap": null,
      "grid_row": null,
      "grid_template_areas": null,
      "grid_template_columns": null,
      "grid_template_rows": null,
      "height": null,
      "justify_content": null,
      "justify_items": null,
      "left": null,
      "margin": null,
      "max_height": null,
      "max_width": null,
      "min_height": null,
      "min_width": null,
      "object_fit": null,
      "object_position": null,
      "order": null,
      "overflow": null,
      "overflow_x": null,
      "overflow_y": null,
      "padding": null,
      "right": null,
      "top": null,
      "visibility": null,
      "width": null
     }
    },
    "b3154498a9b145829d1cd6deac2e80ed": {
     "model_module": "@jupyter-widgets/base",
     "model_module_version": "1.2.0",
     "model_name": "LayoutModel",
     "state": {
      "_model_module": "@jupyter-widgets/base",
      "_model_module_version": "1.2.0",
      "_model_name": "LayoutModel",
      "_view_count": null,
      "_view_module": "@jupyter-widgets/base",
      "_view_module_version": "1.2.0",
      "_view_name": "LayoutView",
      "align_content": null,
      "align_items": null,
      "align_self": null,
      "border": null,
      "bottom": null,
      "display": null,
      "flex": null,
      "flex_flow": null,
      "grid_area": null,
      "grid_auto_columns": null,
      "grid_auto_flow": null,
      "grid_auto_rows": null,
      "grid_column": null,
      "grid_gap": null,
      "grid_row": null,
      "grid_template_areas": null,
      "grid_template_columns": null,
      "grid_template_rows": null,
      "height": null,
      "justify_content": null,
      "justify_items": null,
      "left": null,
      "margin": null,
      "max_height": null,
      "max_width": null,
      "min_height": null,
      "min_width": null,
      "object_fit": null,
      "object_position": null,
      "order": null,
      "overflow": null,
      "overflow_x": null,
      "overflow_y": null,
      "padding": null,
      "right": null,
      "top": null,
      "visibility": null,
      "width": null
     }
    },
    "b4441a8d29e244bc96630953d38556d5": {
     "model_module": "@jupyter-widgets/base",
     "model_module_version": "1.2.0",
     "model_name": "LayoutModel",
     "state": {
      "_model_module": "@jupyter-widgets/base",
      "_model_module_version": "1.2.0",
      "_model_name": "LayoutModel",
      "_view_count": null,
      "_view_module": "@jupyter-widgets/base",
      "_view_module_version": "1.2.0",
      "_view_name": "LayoutView",
      "align_content": null,
      "align_items": null,
      "align_self": null,
      "border": null,
      "bottom": null,
      "display": null,
      "flex": null,
      "flex_flow": null,
      "grid_area": null,
      "grid_auto_columns": null,
      "grid_auto_flow": null,
      "grid_auto_rows": null,
      "grid_column": null,
      "grid_gap": null,
      "grid_row": null,
      "grid_template_areas": null,
      "grid_template_columns": null,
      "grid_template_rows": null,
      "height": null,
      "justify_content": null,
      "justify_items": null,
      "left": null,
      "margin": null,
      "max_height": null,
      "max_width": null,
      "min_height": null,
      "min_width": null,
      "object_fit": null,
      "object_position": null,
      "order": null,
      "overflow": null,
      "overflow_x": null,
      "overflow_y": null,
      "padding": null,
      "right": null,
      "top": null,
      "visibility": null,
      "width": null
     }
    },
    "bc20c05b8a0c430b8a0d5dc94dd6c543": {
     "model_module": "@jupyter-widgets/controls",
     "model_module_version": "1.5.0",
     "model_name": "DescriptionStyleModel",
     "state": {
      "_model_module": "@jupyter-widgets/controls",
      "_model_module_version": "1.5.0",
      "_model_name": "DescriptionStyleModel",
      "_view_count": null,
      "_view_module": "@jupyter-widgets/base",
      "_view_module_version": "1.2.0",
      "_view_name": "StyleView",
      "description_width": ""
     }
    },
    "c0a5c2ed6fec4e4c87f3efb4bd066df3": {
     "model_module": "@jupyter-widgets/base",
     "model_module_version": "1.2.0",
     "model_name": "LayoutModel",
     "state": {
      "_model_module": "@jupyter-widgets/base",
      "_model_module_version": "1.2.0",
      "_model_name": "LayoutModel",
      "_view_count": null,
      "_view_module": "@jupyter-widgets/base",
      "_view_module_version": "1.2.0",
      "_view_name": "LayoutView",
      "align_content": null,
      "align_items": null,
      "align_self": null,
      "border": null,
      "bottom": null,
      "display": null,
      "flex": null,
      "flex_flow": null,
      "grid_area": null,
      "grid_auto_columns": null,
      "grid_auto_flow": null,
      "grid_auto_rows": null,
      "grid_column": null,
      "grid_gap": null,
      "grid_row": null,
      "grid_template_areas": null,
      "grid_template_columns": null,
      "grid_template_rows": null,
      "height": null,
      "justify_content": null,
      "justify_items": null,
      "left": null,
      "margin": null,
      "max_height": null,
      "max_width": null,
      "min_height": null,
      "min_width": null,
      "object_fit": null,
      "object_position": null,
      "order": null,
      "overflow": null,
      "overflow_x": null,
      "overflow_y": null,
      "padding": null,
      "right": null,
      "top": null,
      "visibility": null,
      "width": null
     }
    },
    "c35c1a2393bd4883abede398b7aad8b0": {
     "model_module": "@jupyter-widgets/controls",
     "model_module_version": "1.5.0",
     "model_name": "FloatProgressModel",
     "state": {
      "_dom_classes": [],
      "_model_module": "@jupyter-widgets/controls",
      "_model_module_version": "1.5.0",
      "_model_name": "FloatProgressModel",
      "_view_count": null,
      "_view_module": "@jupyter-widgets/controls",
      "_view_module_version": "1.5.0",
      "_view_name": "ProgressView",
      "bar_style": "success",
      "description": "",
      "description_tooltip": null,
      "layout": "IPY_MODEL_c970c2da21374490bbf4caea0b0c50d8",
      "max": 456318,
      "min": 0,
      "orientation": "horizontal",
      "style": "IPY_MODEL_a5db86d01ef84471b5ab3358b749f838",
      "value": 456318
     }
    },
    "c8e2a0151b6b4262b11ce5d7717e1cbe": {
     "model_module": "@jupyter-widgets/base",
     "model_module_version": "1.2.0",
     "model_name": "LayoutModel",
     "state": {
      "_model_module": "@jupyter-widgets/base",
      "_model_module_version": "1.2.0",
      "_model_name": "LayoutModel",
      "_view_count": null,
      "_view_module": "@jupyter-widgets/base",
      "_view_module_version": "1.2.0",
      "_view_name": "LayoutView",
      "align_content": null,
      "align_items": null,
      "align_self": null,
      "border": null,
      "bottom": null,
      "display": null,
      "flex": null,
      "flex_flow": null,
      "grid_area": null,
      "grid_auto_columns": null,
      "grid_auto_flow": null,
      "grid_auto_rows": null,
      "grid_column": null,
      "grid_gap": null,
      "grid_row": null,
      "grid_template_areas": null,
      "grid_template_columns": null,
      "grid_template_rows": null,
      "height": null,
      "justify_content": null,
      "justify_items": null,
      "left": null,
      "margin": null,
      "max_height": null,
      "max_width": null,
      "min_height": null,
      "min_width": null,
      "object_fit": null,
      "object_position": null,
      "order": null,
      "overflow": null,
      "overflow_x": null,
      "overflow_y": null,
      "padding": null,
      "right": null,
      "top": null,
      "visibility": null,
      "width": null
     }
    },
    "c970c2da21374490bbf4caea0b0c50d8": {
     "model_module": "@jupyter-widgets/base",
     "model_module_version": "1.2.0",
     "model_name": "LayoutModel",
     "state": {
      "_model_module": "@jupyter-widgets/base",
      "_model_module_version": "1.2.0",
      "_model_name": "LayoutModel",
      "_view_count": null,
      "_view_module": "@jupyter-widgets/base",
      "_view_module_version": "1.2.0",
      "_view_name": "LayoutView",
      "align_content": null,
      "align_items": null,
      "align_self": null,
      "border": null,
      "bottom": null,
      "display": null,
      "flex": null,
      "flex_flow": null,
      "grid_area": null,
      "grid_auto_columns": null,
      "grid_auto_flow": null,
      "grid_auto_rows": null,
      "grid_column": null,
      "grid_gap": null,
      "grid_row": null,
      "grid_template_areas": null,
      "grid_template_columns": null,
      "grid_template_rows": null,
      "height": null,
      "justify_content": null,
      "justify_items": null,
      "left": null,
      "margin": null,
      "max_height": null,
      "max_width": null,
      "min_height": null,
      "min_width": null,
      "object_fit": null,
      "object_position": null,
      "order": null,
      "overflow": null,
      "overflow_x": null,
      "overflow_y": null,
      "padding": null,
      "right": null,
      "top": null,
      "visibility": null,
      "width": null
     }
    },
    "ca7c34f82b3941e5a6c271395fd30fc1": {
     "model_module": "@jupyter-widgets/controls",
     "model_module_version": "1.5.0",
     "model_name": "HTMLModel",
     "state": {
      "_dom_classes": [],
      "_model_module": "@jupyter-widgets/controls",
      "_model_module_version": "1.5.0",
      "_model_name": "HTMLModel",
      "_view_count": null,
      "_view_module": "@jupyter-widgets/controls",
      "_view_module_version": "1.5.0",
      "_view_name": "HTMLView",
      "description": "",
      "description_tooltip": null,
      "layout": "IPY_MODEL_a56317196c42423aadb9778fc0e09091",
      "placeholder": "​",
      "style": "IPY_MODEL_7a0e21e0e5914b2f924e393f317cee81",
      "value": "Downloading: 100%"
     }
    },
    "d251acb53f44469a95dcc8b1ba6eddbf": {
     "model_module": "@jupyter-widgets/base",
     "model_module_version": "1.2.0",
     "model_name": "LayoutModel",
     "state": {
      "_model_module": "@jupyter-widgets/base",
      "_model_module_version": "1.2.0",
      "_model_name": "LayoutModel",
      "_view_count": null,
      "_view_module": "@jupyter-widgets/base",
      "_view_module_version": "1.2.0",
      "_view_name": "LayoutView",
      "align_content": null,
      "align_items": null,
      "align_self": null,
      "border": null,
      "bottom": null,
      "display": null,
      "flex": null,
      "flex_flow": null,
      "grid_area": null,
      "grid_auto_columns": null,
      "grid_auto_flow": null,
      "grid_auto_rows": null,
      "grid_column": null,
      "grid_gap": null,
      "grid_row": null,
      "grid_template_areas": null,
      "grid_template_columns": null,
      "grid_template_rows": null,
      "height": null,
      "justify_content": null,
      "justify_items": null,
      "left": null,
      "margin": null,
      "max_height": null,
      "max_width": null,
      "min_height": null,
      "min_width": null,
      "object_fit": null,
      "object_position": null,
      "order": null,
      "overflow": null,
      "overflow_x": null,
      "overflow_y": null,
      "padding": null,
      "right": null,
      "top": null,
      "visibility": null,
      "width": null
     }
    },
    "d6613cf0dc8f421dbff7f906373b6d34": {
     "model_module": "@jupyter-widgets/controls",
     "model_module_version": "1.5.0",
     "model_name": "HTMLModel",
     "state": {
      "_dom_classes": [],
      "_model_module": "@jupyter-widgets/controls",
      "_model_module_version": "1.5.0",
      "_model_name": "HTMLModel",
      "_view_count": null,
      "_view_module": "@jupyter-widgets/controls",
      "_view_module_version": "1.5.0",
      "_view_name": "HTMLView",
      "description": "",
      "description_tooltip": null,
      "layout": "IPY_MODEL_8a2b9d425bef44c595ede8f928cdaad5",
      "placeholder": "​",
      "style": "IPY_MODEL_0945a02094a943f4bf966ed0e53367c2",
      "value": "Downloading: 100%"
     }
    },
    "d9662ea358c142a79e0bf278bfaa75b3": {
     "model_module": "@jupyter-widgets/base",
     "model_module_version": "1.2.0",
     "model_name": "LayoutModel",
     "state": {
      "_model_module": "@jupyter-widgets/base",
      "_model_module_version": "1.2.0",
      "_model_name": "LayoutModel",
      "_view_count": null,
      "_view_module": "@jupyter-widgets/base",
      "_view_module_version": "1.2.0",
      "_view_name": "LayoutView",
      "align_content": null,
      "align_items": null,
      "align_self": null,
      "border": null,
      "bottom": null,
      "display": null,
      "flex": null,
      "flex_flow": null,
      "grid_area": null,
      "grid_auto_columns": null,
      "grid_auto_flow": null,
      "grid_auto_rows": null,
      "grid_column": null,
      "grid_gap": null,
      "grid_row": null,
      "grid_template_areas": null,
      "grid_template_columns": null,
      "grid_template_rows": null,
      "height": null,
      "justify_content": null,
      "justify_items": null,
      "left": null,
      "margin": null,
      "max_height": null,
      "max_width": null,
      "min_height": null,
      "min_width": null,
      "object_fit": null,
      "object_position": null,
      "order": null,
      "overflow": null,
      "overflow_x": null,
      "overflow_y": null,
      "padding": null,
      "right": null,
      "top": null,
      "visibility": null,
      "width": null
     }
    },
    "da9951cfc28b4cce9f8c515297d25b73": {
     "model_module": "@jupyter-widgets/controls",
     "model_module_version": "1.5.0",
     "model_name": "DescriptionStyleModel",
     "state": {
      "_model_module": "@jupyter-widgets/controls",
      "_model_module_version": "1.5.0",
      "_model_name": "DescriptionStyleModel",
      "_view_count": null,
      "_view_module": "@jupyter-widgets/base",
      "_view_module_version": "1.2.0",
      "_view_name": "StyleView",
      "description_width": ""
     }
    },
    "dbda41ab62c143849b0b788f75107bc5": {
     "model_module": "@jupyter-widgets/base",
     "model_module_version": "1.2.0",
     "model_name": "LayoutModel",
     "state": {
      "_model_module": "@jupyter-widgets/base",
      "_model_module_version": "1.2.0",
      "_model_name": "LayoutModel",
      "_view_count": null,
      "_view_module": "@jupyter-widgets/base",
      "_view_module_version": "1.2.0",
      "_view_name": "LayoutView",
      "align_content": null,
      "align_items": null,
      "align_self": null,
      "border": null,
      "bottom": null,
      "display": null,
      "flex": null,
      "flex_flow": null,
      "grid_area": null,
      "grid_auto_columns": null,
      "grid_auto_flow": null,
      "grid_auto_rows": null,
      "grid_column": null,
      "grid_gap": null,
      "grid_row": null,
      "grid_template_areas": null,
      "grid_template_columns": null,
      "grid_template_rows": null,
      "height": null,
      "justify_content": null,
      "justify_items": null,
      "left": null,
      "margin": null,
      "max_height": null,
      "max_width": null,
      "min_height": null,
      "min_width": null,
      "object_fit": null,
      "object_position": null,
      "order": null,
      "overflow": null,
      "overflow_x": null,
      "overflow_y": null,
      "padding": null,
      "right": null,
      "top": null,
      "visibility": null,
      "width": null
     }
    },
    "e0331a2ba9f24870958bfcce407ccf27": {
     "model_module": "@jupyter-widgets/controls",
     "model_module_version": "1.5.0",
     "model_name": "HTMLModel",
     "state": {
      "_dom_classes": [],
      "_model_module": "@jupyter-widgets/controls",
      "_model_module_version": "1.5.0",
      "_model_name": "HTMLModel",
      "_view_count": null,
      "_view_module": "@jupyter-widgets/controls",
      "_view_module_version": "1.5.0",
      "_view_name": "HTMLView",
      "description": "",
      "description_tooltip": null,
      "layout": "IPY_MODEL_0f579348b35e4010ae6917e37492ce4a",
      "placeholder": "​",
      "style": "IPY_MODEL_2e13183851a34ef886ba58ccd00a4126",
      "value": "Downloading: "
     }
    },
    "e28e0e3599834134b6de7d79a95d5dd8": {
     "model_module": "@jupyter-widgets/controls",
     "model_module_version": "1.5.0",
     "model_name": "HBoxModel",
     "state": {
      "_dom_classes": [],
      "_model_module": "@jupyter-widgets/controls",
      "_model_module_version": "1.5.0",
      "_model_name": "HBoxModel",
      "_view_count": null,
      "_view_module": "@jupyter-widgets/controls",
      "_view_module_version": "1.5.0",
      "_view_name": "HBoxView",
      "box_style": "",
      "children": [
       "IPY_MODEL_d6613cf0dc8f421dbff7f906373b6d34",
       "IPY_MODEL_503567709a394cc68dfa493f7d8af7db",
       "IPY_MODEL_1be8d374f5634e6ea002962e424eb3a2"
      ],
      "layout": "IPY_MODEL_b4441a8d29e244bc96630953d38556d5"
     }
    },
    "ed913a5e500443219f28ecc671fb13e7": {
     "model_module": "@jupyter-widgets/base",
     "model_module_version": "1.2.0",
     "model_name": "LayoutModel",
     "state": {
      "_model_module": "@jupyter-widgets/base",
      "_model_module_version": "1.2.0",
      "_model_name": "LayoutModel",
      "_view_count": null,
      "_view_module": "@jupyter-widgets/base",
      "_view_module_version": "1.2.0",
      "_view_name": "LayoutView",
      "align_content": null,
      "align_items": null,
      "align_self": null,
      "border": null,
      "bottom": null,
      "display": null,
      "flex": null,
      "flex_flow": null,
      "grid_area": null,
      "grid_auto_columns": null,
      "grid_auto_flow": null,
      "grid_auto_rows": null,
      "grid_column": null,
      "grid_gap": null,
      "grid_row": null,
      "grid_template_areas": null,
      "grid_template_columns": null,
      "grid_template_rows": null,
      "height": null,
      "justify_content": null,
      "justify_items": null,
      "left": null,
      "margin": null,
      "max_height": null,
      "max_width": null,
      "min_height": null,
      "min_width": null,
      "object_fit": null,
      "object_position": null,
      "order": null,
      "overflow": null,
      "overflow_x": null,
      "overflow_y": null,
      "padding": null,
      "right": null,
      "top": null,
      "visibility": null,
      "width": null
     }
    },
    "f2552aace0624efaaa4ad35de05cb47c": {
     "model_module": "@jupyter-widgets/base",
     "model_module_version": "1.2.0",
     "model_name": "LayoutModel",
     "state": {
      "_model_module": "@jupyter-widgets/base",
      "_model_module_version": "1.2.0",
      "_model_name": "LayoutModel",
      "_view_count": null,
      "_view_module": "@jupyter-widgets/base",
      "_view_module_version": "1.2.0",
      "_view_name": "LayoutView",
      "align_content": null,
      "align_items": null,
      "align_self": null,
      "border": null,
      "bottom": null,
      "display": null,
      "flex": null,
      "flex_flow": null,
      "grid_area": null,
      "grid_auto_columns": null,
      "grid_auto_flow": null,
      "grid_auto_rows": null,
      "grid_column": null,
      "grid_gap": null,
      "grid_row": null,
      "grid_template_areas": null,
      "grid_template_columns": null,
      "grid_template_rows": null,
      "height": null,
      "justify_content": null,
      "justify_items": null,
      "left": null,
      "margin": null,
      "max_height": null,
      "max_width": null,
      "min_height": null,
      "min_width": null,
      "object_fit": null,
      "object_position": null,
      "order": null,
      "overflow": null,
      "overflow_x": null,
      "overflow_y": null,
      "padding": null,
      "right": null,
      "top": null,
      "visibility": null,
      "width": null
     }
    },
    "f73e774fa7bd41e197a24041148ff5ba": {
     "model_module": "@jupyter-widgets/controls",
     "model_module_version": "1.5.0",
     "model_name": "DescriptionStyleModel",
     "state": {
      "_model_module": "@jupyter-widgets/controls",
      "_model_module_version": "1.5.0",
      "_model_name": "DescriptionStyleModel",
      "_view_count": null,
      "_view_module": "@jupyter-widgets/base",
      "_view_module_version": "1.2.0",
      "_view_name": "StyleView",
      "description_width": ""
     }
    },
    "f886008c135d43729a2c52608402458f": {
     "model_module": "@jupyter-widgets/base",
     "model_module_version": "1.2.0",
     "model_name": "LayoutModel",
     "state": {
      "_model_module": "@jupyter-widgets/base",
      "_model_module_version": "1.2.0",
      "_model_name": "LayoutModel",
      "_view_count": null,
      "_view_module": "@jupyter-widgets/base",
      "_view_module_version": "1.2.0",
      "_view_name": "LayoutView",
      "align_content": null,
      "align_items": null,
      "align_self": null,
      "border": null,
      "bottom": null,
      "display": null,
      "flex": null,
      "flex_flow": null,
      "grid_area": null,
      "grid_auto_columns": null,
      "grid_auto_flow": null,
      "grid_auto_rows": null,
      "grid_column": null,
      "grid_gap": null,
      "grid_row": null,
      "grid_template_areas": null,
      "grid_template_columns": null,
      "grid_template_rows": null,
      "height": null,
      "justify_content": null,
      "justify_items": null,
      "left": null,
      "margin": null,
      "max_height": null,
      "max_width": null,
      "min_height": null,
      "min_width": null,
      "object_fit": null,
      "object_position": null,
      "order": null,
      "overflow": null,
      "overflow_x": null,
      "overflow_y": null,
      "padding": null,
      "right": null,
      "top": null,
      "visibility": null,
      "width": null
     }
    },
    "fd4d46fb561545e29a1e15aaf765b2d1": {
     "model_module": "@jupyter-widgets/controls",
     "model_module_version": "1.5.0",
     "model_name": "DescriptionStyleModel",
     "state": {
      "_model_module": "@jupyter-widgets/controls",
      "_model_module_version": "1.5.0",
      "_model_name": "DescriptionStyleModel",
      "_view_count": null,
      "_view_module": "@jupyter-widgets/base",
      "_view_module_version": "1.2.0",
      "_view_name": "StyleView",
      "description_width": ""
     }
    },
    "ff5cd7b17abb40a58a1a518fc0b93e39": {
     "model_module": "@jupyter-widgets/controls",
     "model_module_version": "1.5.0",
     "model_name": "HBoxModel",
     "state": {
      "_dom_classes": [],
      "_model_module": "@jupyter-widgets/controls",
      "_model_module_version": "1.5.0",
      "_model_name": "HBoxModel",
      "_view_count": null,
      "_view_module": "@jupyter-widgets/controls",
      "_view_module_version": "1.5.0",
      "_view_name": "HBoxView",
      "box_style": "",
      "children": [
       "IPY_MODEL_3990565976394765af448ccc5fc33fb2",
       "IPY_MODEL_5eee4986cf854583b1444b5c5eef80ed",
       "IPY_MODEL_64edfb7c22874b6e97983d2a55ab5d18"
      ],
      "layout": "IPY_MODEL_ae031203bc134a23905bbcfb6d3c83a7"
     }
    },
    "ff935e72502d4a7aa21da0d9789102c8": {
     "model_module": "@jupyter-widgets/base",
     "model_module_version": "1.2.0",
     "model_name": "LayoutModel",
     "state": {
      "_model_module": "@jupyter-widgets/base",
      "_model_module_version": "1.2.0",
      "_model_name": "LayoutModel",
      "_view_count": null,
      "_view_module": "@jupyter-widgets/base",
      "_view_module_version": "1.2.0",
      "_view_name": "LayoutView",
      "align_content": null,
      "align_items": null,
      "align_self": null,
      "border": null,
      "bottom": null,
      "display": null,
      "flex": null,
      "flex_flow": null,
      "grid_area": null,
      "grid_auto_columns": null,
      "grid_auto_flow": null,
      "grid_auto_rows": null,
      "grid_column": null,
      "grid_gap": null,
      "grid_row": null,
      "grid_template_areas": null,
      "grid_template_columns": null,
      "grid_template_rows": null,
      "height": null,
      "justify_content": null,
      "justify_items": null,
      "left": null,
      "margin": null,
      "max_height": null,
      "max_width": null,
      "min_height": null,
      "min_width": null,
      "object_fit": null,
      "object_position": null,
      "order": null,
      "overflow": null,
      "overflow_x": null,
      "overflow_y": null,
      "padding": null,
      "right": null,
      "top": null,
      "visibility": null,
      "width": null
     }
    }
   }
  }
 },
 "nbformat": 4,
 "nbformat_minor": 1
}
