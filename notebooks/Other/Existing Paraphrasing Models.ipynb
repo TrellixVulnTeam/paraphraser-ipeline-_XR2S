{
 "cells": [
  {
   "cell_type": "markdown",
   "metadata": {
    "id": "v-ABjvHdMnI1"
   },
   "source": [
    "# Existing Paraphrasing Models\n",
    " \n",
    "Authors: Ruslan Mammadov \\<ruslanmammadov48@gmail.com\\>\n",
    "\n",
    "Copyright (C) 2021 Ruslan Mammadov and DynaGroup i.T. GmbH"
   ]
  },
  {
   "cell_type": "markdown",
   "metadata": {
    "id": "aOCgpShBQ7Il"
   },
   "source": [
    "## Important\n",
    "Here, only few cherry-picked models are descibed. This is in no way representative for all existing paraphrasing models."
   ]
  },
  {
   "cell_type": "code",
   "execution_count": null,
   "metadata": {
    "colab": {
     "base_uri": "https://localhost:8080/"
    },
    "executionInfo": {
     "elapsed": 251,
     "status": "ok",
     "timestamp": 1634475072369,
     "user": {
      "displayName": "Ruslan Mammadov",
      "photoUrl": "https://lh3.googleusercontent.com/a/default-user=s64",
      "userId": "03871087646573601592"
     },
     "user_tz": -120
    },
    "id": "i32j-upeITWk",
    "outputId": "f525e0f3-d782-4a81-83bd-bb759f51c67a"
   },
   "outputs": [
    {
     "name": "stdout",
     "output_type": "stream",
     "text": [
      "Drive already mounted at /content/drive; to attempt to forcibly remount, call drive.mount(\"/content/drive\", force_remount=True).\n"
     ]
    }
   ],
   "source": [
    "from google.colab import drive\n",
    "drive.mount('/content/drive')"
   ]
  },
  {
   "cell_type": "code",
   "execution_count": null,
   "metadata": {
    "id": "kNXCtmQoH7de"
   },
   "outputs": [],
   "source": [
    "from tqdm import tqdm\n",
    "import pandas as pd\n",
    "import torch"
   ]
  },
  {
   "cell_type": "markdown",
   "metadata": {
    "id": "wBRnw4WilPi0"
   },
   "source": [
    "# Load parabank 2 - First 100k sentences"
   ]
  },
  {
   "cell_type": "code",
   "execution_count": null,
   "metadata": {
    "id": "eH-1wks_f47I"
   },
   "outputs": [],
   "source": [
    "# Let's load first 10000 parabank2.\n",
    "take_first_n = 100000\n",
    "parabank2 = []\n",
    "\n",
    "with open(\"drive/MyDrive/Paraphrasing API/datasets/Machine Made Datasets/parabank2.tsv\", \"r\") as file:\n",
    "  for i, line in enumerate(file):\n",
    "    if i > take_first_n:\n",
    "      break\n",
    "    parabank2.append(line.strip().split(\"\\t\"))"
   ]
  },
  {
   "cell_type": "code",
   "execution_count": null,
   "metadata": {
    "id": "9ZBaFdwblOYr"
   },
   "outputs": [],
   "source": [
    "parabank2 = parabank2[10000:] # Remove first 10k sentence which are just names of organizations"
   ]
  },
  {
   "cell_type": "code",
   "execution_count": null,
   "metadata": {
    "colab": {
     "base_uri": "https://localhost:8080/",
     "height": 444
    },
    "executionInfo": {
     "elapsed": 242,
     "status": "ok",
     "timestamp": 1634478875915,
     "user": {
      "displayName": "Ruslan Mammadov",
      "photoUrl": "https://lh3.googleusercontent.com/a/default-user=s64",
      "userId": "03871087646573601592"
     },
     "user_tz": -120
    },
    "id": "g4_2WWfogW7L",
    "outputId": "98dcdbda-4b30-46aa-b89d-e88eff0d795c"
   },
   "outputs": [
    {
     "data": {
      "text/html": [
       "<div>\n",
       "<style scoped>\n",
       "    .dataframe tbody tr th:only-of-type {\n",
       "        vertical-align: middle;\n",
       "    }\n",
       "\n",
       "    .dataframe tbody tr th {\n",
       "        vertical-align: top;\n",
       "    }\n",
       "\n",
       "    .dataframe thead th {\n",
       "        text-align: right;\n",
       "    }\n",
       "</style>\n",
       "<table border=\"1\" class=\"dataframe\">\n",
       "  <thead>\n",
       "    <tr style=\"text-align: right;\">\n",
       "      <th></th>\n",
       "      <th>quality</th>\n",
       "      <th>text</th>\n",
       "      <th>ref1</th>\n",
       "      <th>ref2</th>\n",
       "      <th>ref3</th>\n",
       "      <th>ref4</th>\n",
       "      <th>ref5</th>\n",
       "    </tr>\n",
       "  </thead>\n",
       "  <tbody>\n",
       "    <tr>\n",
       "      <th>0</th>\n",
       "      <td>0.7753040530907698</td>\n",
       "      <td>He grew up in Poland.</td>\n",
       "      <td>Grew up in Poland.</td>\n",
       "      <td>Raised in Poland.</td>\n",
       "      <td>None</td>\n",
       "      <td>None</td>\n",
       "      <td>None</td>\n",
       "    </tr>\n",
       "    <tr>\n",
       "      <th>1</th>\n",
       "      <td>0.7753040530907698</td>\n",
       "      <td>You look ridiculous.</td>\n",
       "      <td>You look ludicrous.</td>\n",
       "      <td>You look laughable.</td>\n",
       "      <td>You seem ludicrous.</td>\n",
       "      <td>Looking ridiculous.</td>\n",
       "      <td>How ridiculous you look.</td>\n",
       "    </tr>\n",
       "    <tr>\n",
       "      <th>2</th>\n",
       "      <td>0.7753040530907698</td>\n",
       "      <td>Welcome to Uppsala.</td>\n",
       "      <td>Hello. -Welcome to Uppsala.</td>\n",
       "      <td>Welcome to the Uppala.</td>\n",
       "      <td>None</td>\n",
       "      <td>None</td>\n",
       "      <td>None</td>\n",
       "    </tr>\n",
       "    <tr>\n",
       "      <th>3</th>\n",
       "      <td>0.7753040530907698</td>\n",
       "      <td>Welcome to Silicon Valley.</td>\n",
       "      <td>Welcome to silicone valley.</td>\n",
       "      <td>And welcome to Silycon Valley.</td>\n",
       "      <td>None</td>\n",
       "      <td>None</td>\n",
       "      <td>None</td>\n",
       "    </tr>\n",
       "    <tr>\n",
       "      <th>4</th>\n",
       "      <td>0.7753040530907698</td>\n",
       "      <td>I saw him yesterday afternoon.</td>\n",
       "      <td>I saw him last night in the afternoon.</td>\n",
       "      <td>Saw it yesterday afternoon.</td>\n",
       "      <td>Saw him last night afternoon.</td>\n",
       "      <td>I saw this guy last afternoon.</td>\n",
       "      <td>I see that guy yesterday afternoon.</td>\n",
       "    </tr>\n",
       "    <tr>\n",
       "      <th>5</th>\n",
       "      <td>0.7753040530907698</td>\n",
       "      <td>The war in Europe is over.</td>\n",
       "      <td>The war is over in Europe.</td>\n",
       "      <td>Europe's war is over.</td>\n",
       "      <td>The war was over in Europe.</td>\n",
       "      <td>This war is over in Europe.</td>\n",
       "      <td>None</td>\n",
       "    </tr>\n",
       "    <tr>\n",
       "      <th>6</th>\n",
       "      <td>0.7753040530907698</td>\n",
       "      <td>The role of a free press should be to put pres...</td>\n",
       "      <td>The role of the free press should be to press ...</td>\n",
       "      <td>The role for free pressing should be to exert ...</td>\n",
       "      <td>It would be the task for free press to press p...</td>\n",
       "      <td>Free press action should play a role in puttin...</td>\n",
       "      <td>It should be a function of a free press to pre...</td>\n",
       "    </tr>\n",
       "    <tr>\n",
       "      <th>7</th>\n",
       "      <td>0.7753040530907698</td>\n",
       "      <td>The markets we need are closed to us.</td>\n",
       "      <td>The markets we need are foreclosed to us.</td>\n",
       "      <td>Markets that we need are shut down for us.</td>\n",
       "      <td>The markets we need are foreclosed for us.</td>\n",
       "      <td>The markets that are needed are closed for us.</td>\n",
       "      <td>We're closed to the markets we need.</td>\n",
       "    </tr>\n",
       "    <tr>\n",
       "      <th>8</th>\n",
       "      <td>0.7753040530907698</td>\n",
       "      <td>This fundamental right is expressly confirmed ...</td>\n",
       "      <td>This fundamental right is explicitly confirmed...</td>\n",
       "      <td>This fundamental right is explicitly confirmed...</td>\n",
       "      <td>Such a fundamental right is explicitly confirm...</td>\n",
       "      <td>That fundamental right is explicitly affirmed ...</td>\n",
       "      <td>That principle of freedom of appeal has been e...</td>\n",
       "    </tr>\n",
       "    <tr>\n",
       "      <th>9</th>\n",
       "      <td>0.7753040530907698</td>\n",
       "      <td>Thomas looks like a wild animal.</td>\n",
       "      <td>Thomas looks like an animal of the wild.</td>\n",
       "      <td>Thomas seems like some sort of wild animal.</td>\n",
       "      <td>Thomas looks a feral animal.</td>\n",
       "      <td>Thomas looks like he's some kind of wild animal.</td>\n",
       "      <td>Thomas seems a wild creature.</td>\n",
       "    </tr>\n",
       "  </tbody>\n",
       "</table>\n",
       "</div>"
      ],
      "text/plain": [
       "              quality  ...                                               ref5\n",
       "0  0.7753040530907698  ...                                               None\n",
       "1  0.7753040530907698  ...                           How ridiculous you look.\n",
       "2  0.7753040530907698  ...                                               None\n",
       "3  0.7753040530907698  ...                                               None\n",
       "4  0.7753040530907698  ...                I see that guy yesterday afternoon.\n",
       "5  0.7753040530907698  ...                                               None\n",
       "6  0.7753040530907698  ...  It should be a function of a free press to pre...\n",
       "7  0.7753040530907698  ...               We're closed to the markets we need.\n",
       "8  0.7753040530907698  ...  That principle of freedom of appeal has been e...\n",
       "9  0.7753040530907698  ...                      Thomas seems a wild creature.\n",
       "\n",
       "[10 rows x 7 columns]"
      ]
     },
     "execution_count": 78,
     "metadata": {},
     "output_type": "execute_result"
    }
   ],
   "source": [
    "df_parabank2 = pd.DataFrame(parabank2, columns=[\"quality\", \"text\", \"ref1\", \"ref2\", \"ref3\",\"ref4\", \"ref5\"])\n",
    "df_parabank2.head(10)"
   ]
  },
  {
   "cell_type": "markdown",
   "metadata": {
    "id": "QGY2y0x1lW-c"
   },
   "source": [
    "# Load the first model - ProtAugment\n",
    "*   TLDR: It is bad\n",
    "* Interesting things:\n",
    "  * Diverse Beam Search - Beam search with extra diversity penalty\n",
    "  * Contrained Beam Search - Restrict beam search from using randomly used bigrams or unigrams in the beam search\n",
    "\n",
    "\n",
    "\n"
   ]
  },
  {
   "cell_type": "code",
   "execution_count": null,
   "metadata": {
    "id": "gJUTC4WngWL5"
   },
   "outputs": [],
   "source": [
    "# Load the models from github\n",
    "# !git clone https://github.com/tdopierre/ProtAugment\n",
    "# !cp ProtAugment drive/MyDrive/Paraphrasing\\ API/models/ProtAugment"
   ]
  },
  {
   "cell_type": "code",
   "execution_count": null,
   "metadata": {
    "id": "ay8ABo6j5oZl"
   },
   "outputs": [],
   "source": [
    "# Copy the model to the current directory\n",
    "!cp drive/MyDrive/Paraphrasing\\ API/models/ProtAugment ProtAugment -r"
   ]
  },
  {
   "cell_type": "code",
   "execution_count": null,
   "metadata": {
    "id": "TUqfUtJY8YDS"
   },
   "outputs": [],
   "source": [
    "# Attention, it will take 10 minutes!\n",
    "!cat ProtAugment/requirements.txt | xargs -n 1 pip install > /dev/null"
   ]
  },
  {
   "cell_type": "code",
   "execution_count": null,
   "metadata": {
    "id": "ES79jr9j6jZa"
   },
   "outputs": [],
   "source": [
    "from ProtAugment.utils.python import set_seeds\n",
    "from ProtAugment.paraphrase.modeling import UnigramRandomDropParaphraseBatchPreparer, BigramDropParaphraseBatchPreparer, BaseParaphraseBatchPreparer, DBSParaphraseModel\n",
    "from transformers import AutoTokenizer, AutoModelForSeq2SeqLM\n",
    "\n",
    "import torch\n",
    "device = torch.device(\"cuda\") if torch.cuda.is_available() else torch.device(\"cpu\")"
   ]
  },
  {
   "cell_type": "code",
   "execution_count": null,
   "metadata": {
    "id": "rO21YDbsUxCX"
   },
   "outputs": [],
   "source": [
    "tokenizer = AutoTokenizer.from_pretrained(\"tdopierre/ProtAugment-ParaphraseGenerator\")\n",
    "fine_tuned_bart = AutoModelForSeq2SeqLM.from_pretrained(\"tdopierre/ProtAugment-ParaphraseGenerator\")"
   ]
  },
  {
   "cell_type": "code",
   "execution_count": null,
   "metadata": {
    "id": "NLr823HiYwn5"
   },
   "outputs": [],
   "source": [
    "paraphrase_model = DBSParaphraseModel(\n",
    "    model_name_or_path=\"tdopierre/ProtAugment-ParaphraseGenerator\",\n",
    "    tok_name_or_path=\"tdopierre/ProtAugment-ParaphraseGenerator\",\n",
    "    num_beams=15,\n",
    "    beam_group_size=3,\n",
    "    diversity_penalty=0.5,\n",
    "    filtering_strategy=\"bleu\",\n",
    "    # BaseParaphraseBatchPreparer\n",
    "    # UnigramRandomDropParaphraseBatchPreparer\n",
    "    # BigramDropParaphraseBatchPreparer\n",
    "    paraphrase_batch_preparer=BaseParaphraseBatchPreparer(tokenizer=tokenizer, device=device),\n",
    "    device=device\n",
    ")"
   ]
  },
  {
   "cell_type": "markdown",
   "metadata": {
    "id": "TT1rcySYl7ap"
   },
   "source": [
    "# Bad repharases from ProtAugment"
   ]
  },
  {
   "cell_type": "code",
   "execution_count": null,
   "metadata": {
    "colab": {
     "base_uri": "https://localhost:8080/"
    },
    "executionInfo": {
     "elapsed": 6023,
     "status": "ok",
     "timestamp": 1634479264105,
     "user": {
      "displayName": "Ruslan Mammadov",
      "photoUrl": "https://lh3.googleusercontent.com/a/default-user=s64",
      "userId": "03871087646573601592"
     },
     "user_tz": -120
    },
    "id": "Mgi9H-cHZudF",
    "outputId": "d784c0d9-f7c2-481a-c6c7-9bc0a085294c"
   },
   "outputs": [
    {
     "data": {
      "text/plain": [
       "('In the third phase, lasting three to five years, aid supports the first phase of post-war economic development, including restoration of schools, clinics, farms, factories, and ports.',\n",
       " ['In the third phase, lasting three to five years, aid supports the first phase of post-war economic development, including restoration of schools, clinics, farms, factories and ports.',\n",
       "  'In the third phase, lasting three to five years, aid supports the first phase of post-war economic development, including the restoration of schools, clinics, farms, factories, and',\n",
       "  'In the third phase, lasting three to five years, aid supports the first phase of post-war economic development, including restoration of schools, clinics, farms, factories and ports,',\n",
       "  'In the third phase of aid, lasting three to five years, aid supports the first phase of post-war economic development, including restoration of schools, clinics, farms, factories,',\n",
       "  'In the third phase of aid, lasting three to five years, supports the first phase of postwar economic development, including restoration of schools, clinics, farms, factories and ports.'])"
      ]
     },
     "execution_count": 101,
     "metadata": {},
     "output_type": "execute_result"
    }
   ],
   "source": [
    "original = df_parabank2.text[100]\n",
    "rephrases = paraphrase_model.paraphrase(original)\n",
    "original, rephrases[0]"
   ]
  },
  {
   "cell_type": "code",
   "execution_count": null,
   "metadata": {
    "colab": {
     "base_uri": "https://localhost:8080/"
    },
    "executionInfo": {
     "elapsed": 1727,
     "status": "ok",
     "timestamp": 1634479248278,
     "user": {
      "displayName": "Ruslan Mammadov",
      "photoUrl": "https://lh3.googleusercontent.com/a/default-user=s64",
      "userId": "03871087646573601592"
     },
     "user_tz": -120
    },
    "id": "F0Km6WuiaY2Z",
    "outputId": "813ef581-593c-4861-b226-1ab0256a16e2"
   },
   "outputs": [
    {
     "data": {
      "text/plain": [
       "('What about my family and friends?',\n",
       " ['What do I mean by family the',\n",
       "  'What do I mean by family of',\n",
       "  'What does it feel like to to',\n",
       "  'What does it feel like to and',\n",
       "  'What about my family and friends.'])"
      ]
     },
     "execution_count": 99,
     "metadata": {},
     "output_type": "execute_result"
    }
   ],
   "source": [
    "original = df_parabank2.text[200]\n",
    "rephrases = paraphrase_model.paraphrase(original)\n",
    "original, rephrases[0]"
   ]
  },
  {
   "cell_type": "code",
   "execution_count": null,
   "metadata": {
    "colab": {
     "base_uri": "https://localhost:8080/"
    },
    "executionInfo": {
     "elapsed": 2647,
     "status": "ok",
     "timestamp": 1634479330025,
     "user": {
      "displayName": "Ruslan Mammadov",
      "photoUrl": "https://lh3.googleusercontent.com/a/default-user=s64",
      "userId": "03871087646573601592"
     },
     "user_tz": -120
    },
    "id": "PrDW_H50bXeP",
    "outputId": "a152b5ae-d217-4ac5-8ba9-dc684be2f395"
   },
   "outputs": [
    {
     "data": {
      "text/plain": [
       "('The ultimate test of your knowledge is your capacity to convey it to another.',\n",
       " ['The ultimate test of your knowledge is your capacity to convey it to another',\n",
       "  'The ultimate test of knowledge is the capacity to convey it to another.',\n",
       "  '\"The ultimate test of your knowledge is your capacity to convey knowledge to',\n",
       "  'The ultimate test of your knowledge is your capacity to convey it to another',\n",
       "  'The test of knowledge is your capacity to convey knowledge to another.'])"
      ]
     },
     "execution_count": 102,
     "metadata": {},
     "output_type": "execute_result"
    }
   ],
   "source": [
    "original = \"The ultimate test of your knowledge is your capacity to convey it to another.\"\n",
    "rephrases = paraphrase_model.paraphrase(original)\n",
    "original, rephrases[0]"
   ]
  },
  {
   "cell_type": "markdown",
   "metadata": {
    "id": "VVfhK33ovd1z"
   },
   "source": [
    "#### Using bi-gram and uni-gram parahrasers inproves the divesity, but create nonsense"
   ]
  },
  {
   "cell_type": "code",
   "execution_count": null,
   "metadata": {
    "id": "6TDfCIQWvEH2"
   },
   "outputs": [],
   "source": [
    "paraphrase_model = DBSParaphraseModel(\n",
    "    model_name_or_path=\"tdopierre/ProtAugment-ParaphraseGenerator\",\n",
    "    tok_name_or_path=\"tdopierre/ProtAugment-ParaphraseGenerator\",\n",
    "    num_beams=15,\n",
    "    beam_group_size=3,\n",
    "    diversity_penalty=0.5,\n",
    "    filtering_strategy=\"bleu\",\n",
    "    # BaseParaphraseBatchPreparer\n",
    "    # UnigramRandomDropParaphraseBatchPreparer\n",
    "    # BigramDropParaphraseBatchPreparer\n",
    "    paraphrase_batch_preparer=BigramDropParaphraseBatchPreparer(tokenizer=tokenizer, device=device),\n",
    "    device=device\n",
    ")"
   ]
  },
  {
   "cell_type": "code",
   "execution_count": null,
   "metadata": {
    "colab": {
     "base_uri": "https://localhost:8080/"
    },
    "executionInfo": {
     "elapsed": 2788,
     "status": "ok",
     "timestamp": 1634482355898,
     "user": {
      "displayName": "Ruslan Mammadov",
      "photoUrl": "https://lh3.googleusercontent.com/a/default-user=s64",
      "userId": "03871087646573601592"
     },
     "user_tz": -120
    },
    "id": "K1BHXlOJvUuL",
    "outputId": "32ae0ff9-c75b-4c4c-adf8-3002c2be17ab"
   },
   "outputs": [
    {
     "data": {
      "text/plain": [
       "('The ultimate test of your knowledge is your capacity to convey it to another.',\n",
       " ['If you have knowledge, what is it that you can convey to others',\n",
       "  'If you have knowledge, what is it that you can convey to one',\n",
       "  \"The final test is the capacity of one's knowledge, the ability to\",\n",
       "  'As a human being, the final test is the capacity of the capacity',\n",
       "  \"The final test is the capacity of one's knowledge, the capacity for\"])"
      ]
     },
     "execution_count": 168,
     "metadata": {},
     "output_type": "execute_result"
    }
   ],
   "source": [
    "original = \"The ultimate test of your knowledge is your capacity to convey it to another.\"\n",
    "rephrases = paraphrase_model.paraphrase(original)\n",
    "original, rephrases[0]"
   ]
  },
  {
   "cell_type": "code",
   "execution_count": null,
   "metadata": {
    "id": "fHqrDEwgzGtF"
   },
   "outputs": [],
   "source": [
    "paraphrase_model = DBSParaphraseModel(\n",
    "    model_name_or_path=\"tdopierre/ProtAugment-ParaphraseGenerator\",\n",
    "    tok_name_or_path=\"tdopierre/ProtAugment-ParaphraseGenerator\",\n",
    "    num_beams=15,\n",
    "    beam_group_size=3,\n",
    "    diversity_penalty=0.5,\n",
    "    filtering_strategy=\"bleu\",\n",
    "    # BaseParaphraseBatchPreparer\n",
    "    # UnigramRandomDropParaphraseBatchPreparer\n",
    "    # BigramDropParaphraseBatchPreparer\n",
    "    paraphrase_batch_preparer=UnigramRandomDropParaphraseBatchPreparer(auc=0.1, \n",
    "                                                                       drop_chance_speed=\"flat\", \n",
    "                                                                       tokenizer=tokenizer, \n",
    "                                                                       device=device),\n",
    "    device=device\n",
    ")"
   ]
  },
  {
   "cell_type": "code",
   "execution_count": null,
   "metadata": {
    "colab": {
     "base_uri": "https://localhost:8080/"
    },
    "executionInfo": {
     "elapsed": 2522,
     "status": "ok",
     "timestamp": 1634483364666,
     "user": {
      "displayName": "Ruslan Mammadov",
      "photoUrl": "https://lh3.googleusercontent.com/a/default-user=s64",
      "userId": "03871087646573601592"
     },
     "user_tz": -120
    },
    "id": "vkffFRVzzLNu",
    "outputId": "2626ff80-a466-407a-de2a-1fc9b0c0c596"
   },
   "outputs": [
    {
     "data": {
      "text/plain": [
       "('The ultimate test of your knowledge is your capacity to convey it to another.',\n",
       " ['The ultimate test is your capacity to convey knowledge to another.',\n",
       "  'The ultimate test is your capacity to convey knowledge to others.',\n",
       "  'The ultimate test in knowledge is your capacity to convey knowledge to another person',\n",
       "  'The ultimate test is the capacity to convey knowledge to another.',\n",
       "  'The ultimate test is your capacity to convey your knowledge to another, without'])"
      ]
     },
     "execution_count": 180,
     "metadata": {},
     "output_type": "execute_result"
    }
   ],
   "source": [
    "original = \"The ultimate test of your knowledge is your capacity to convey it to another.\"\n",
    "rephrases = paraphrase_model.paraphrase(original)\n",
    "original, rephrases[0]"
   ]
  },
  {
   "cell_type": "code",
   "execution_count": null,
   "metadata": {
    "id": "Hjj2GJKcvotR"
   },
   "outputs": [],
   "source": [
    "paraphrase_model = DBSParaphraseModel(\n",
    "    model_name_or_path=\"tdopierre/ProtAugment-ParaphraseGenerator\",\n",
    "    tok_name_or_path=\"tdopierre/ProtAugment-ParaphraseGenerator\",\n",
    "    num_beams=15,\n",
    "    beam_group_size=3,\n",
    "    diversity_penalty=0.5,\n",
    "    filtering_strategy=\"bleu\",\n",
    "    # BaseParaphraseBatchPreparer\n",
    "    # UnigramRandomDropParaphraseBatchPreparer\n",
    "    # BigramDropParaphraseBatchPreparer\n",
    "    paraphrase_batch_preparer=UnigramRandomDropParaphraseBatchPreparer(auc=0.5, \n",
    "                                                                       drop_chance_speed=\"flat\", \n",
    "                                                                       tokenizer=tokenizer, \n",
    "                                                                       device=device),\n",
    "    device=device\n",
    ")"
   ]
  },
  {
   "cell_type": "code",
   "execution_count": null,
   "metadata": {
    "colab": {
     "base_uri": "https://localhost:8080/"
    },
    "executionInfo": {
     "elapsed": 2446,
     "status": "ok",
     "timestamp": 1634482728576,
     "user": {
      "displayName": "Ruslan Mammadov",
      "photoUrl": "https://lh3.googleusercontent.com/a/default-user=s64",
      "userId": "03871087646573601592"
     },
     "user_tz": -120
    },
    "id": "6ROo6ohQwf4o",
    "outputId": "e8f5d60a-ed57-4608-fa94-e69706341499"
   },
   "outputs": [
    {
     "data": {
      "text/plain": [
       "('The ultimate test of your knowledge is your capacity to convey it to another.',\n",
       " ['The final test of knowledge is the capacity of the person who can convey',\n",
       "  'The final test of knowledge is the capacity of the person who has knowledge',\n",
       "  'What is the final test of knowledge, and what is the capacity of',\n",
       "  'In the final test of knowledge, the capacity of the human mind is',\n",
       "  'In the final test of knowledge, the capacity of the knowledge is that'])"
      ]
     },
     "execution_count": 176,
     "metadata": {},
     "output_type": "execute_result"
    }
   ],
   "source": [
    "original = \"The ultimate test of your knowledge is your capacity to convey it to another.\"\n",
    "rephrases = paraphrase_model.paraphrase(original)\n",
    "original, rephrases[0]"
   ]
  },
  {
   "cell_type": "markdown",
   "metadata": {
    "id": "4V6lJjtXmGhj"
   },
   "source": [
    "# Let's find other paraphraser\n",
    "# Bart paraphraser from eugenesiow\n",
    "TLDR:\n",
    "1. No code or information\n",
    "2. Too low diversity\n",
    "3. Too short output"
   ]
  },
  {
   "cell_type": "code",
   "execution_count": null,
   "metadata": {
    "id": "FUx_H4j-mJrH"
   },
   "outputs": [],
   "source": [
    "from transformers import BartForConditionalGeneration, BartTokenizer\n",
    "\n",
    "device = torch.device(\"cuda\" if torch.cuda.is_available() else \"cpu\")\n",
    "\n",
    "model = BartForConditionalGeneration.from_pretrained('eugenesiow/bart-paraphrase').to(device)\n",
    "tokenizer = BartTokenizer.from_pretrained('eugenesiow/bart-paraphrase')"
   ]
  },
  {
   "cell_type": "code",
   "execution_count": null,
   "metadata": {
    "id": "sL9DQeuXmWxK"
   },
   "outputs": [],
   "source": [
    "def rephrase(input_sentence):\n",
    "  batch = tokenizer(input_sentence, return_tensors='pt')\n",
    "  generated_ids = model.generate(batch['input_ids'])\n",
    "  return tokenizer.batch_decode(generated_ids, skip_special_tokens=True)\n",
    "\n",
    "def rephrase_batch(batch):\n",
    "  batch = tokenizer(batch, return_tensors='pt', padding=True, truncation=True)\n",
    "  generated_ids = model.generate(batch['input_ids'], )\n",
    "  return tokenizer.batch_decode(generated_ids, skip_special_tokens=True)"
   ]
  },
  {
   "cell_type": "markdown",
   "metadata": {
    "id": "fI0fNYc0zeQI"
   },
   "source": [
    "## Bad paraphraser: too low diversity"
   ]
  },
  {
   "cell_type": "code",
   "execution_count": null,
   "metadata": {
    "colab": {
     "base_uri": "https://localhost:8080/"
    },
    "executionInfo": {
     "elapsed": 3578,
     "status": "ok",
     "timestamp": 1634481402334,
     "user": {
      "displayName": "Ruslan Mammadov",
      "photoUrl": "https://lh3.googleusercontent.com/a/default-user=s64",
      "userId": "03871087646573601592"
     },
     "user_tz": -120
    },
    "id": "IoXKKbAInHP0",
    "outputId": "bc5eda65-4e82-425d-9cce-c3fc4c3668c6"
   },
   "outputs": [
    {
     "data": {
      "text/plain": [
       "('The ultimate test of your knowledge is your capacity to convey it to another.',\n",
       " ['The ultimate test of your knowledge is your ability to convey it to another.'])"
      ]
     },
     "execution_count": 151,
     "metadata": {},
     "output_type": "execute_result"
    }
   ],
   "source": [
    "source = \"The ultimate test of your knowledge is your capacity to convey it to another.\"\n",
    "source, rephrase(source)"
   ]
  },
  {
   "cell_type": "code",
   "execution_count": null,
   "metadata": {
    "colab": {
     "base_uri": "https://localhost:8080/"
    },
    "executionInfo": {
     "elapsed": 17376,
     "status": "ok",
     "timestamp": 1634481432134,
     "user": {
      "displayName": "Ruslan Mammadov",
      "photoUrl": "https://lh3.googleusercontent.com/a/default-user=s64",
      "userId": "03871087646573601592"
     },
     "user_tz": -120
    },
    "id": "9UfglTNrnouf",
    "outputId": "9e1f305a-75de-4dd5-ddda-99f7eca4afc5"
   },
   "outputs": [
    {
     "name": "stdout",
     "output_type": "stream",
     "text": [
      "In the third phase, lasting three to five years, aid supports the first phase of post-war economic development, including restoration of schools, clinics, farms, factories, and ports.\n",
      "['In the third phase, lasting three to five years, aid supports the first phase of post']\n",
      "\n",
      "I believe in love.\n",
      "['I believe in love.']\n",
      "\n",
      "The public consultation ended on 31 May 2011.\n",
      "['The public consultation ended on May 31, 2011.']\n",
      "\n",
      "Your mother was shot.\n",
      "['Your mother was shot and killed. What did you do?']\n",
      "\n",
      "The resolution was adopted unanimously without amendments.\n",
      "['The resolution was adopted unanimously without amendments.']\n",
      "\n",
      "They will also save on investments in new roads, power plants, schools, and other public services.\n",
      "['They will also save on new roads, power plants, schools and other public services.']\n",
      "\n"
     ]
    }
   ],
   "source": [
    "for i in range(100, 106):\n",
    "  print(df_parabank2.text[i])\n",
    "  print(rephrase(df_parabank2.text[i]))\n",
    "  print()"
   ]
  },
  {
   "cell_type": "code",
   "execution_count": null,
   "metadata": {
    "colab": {
     "base_uri": "https://localhost:8080/"
    },
    "executionInfo": {
     "elapsed": 11430,
     "status": "ok",
     "timestamp": 1634481452233,
     "user": {
      "displayName": "Ruslan Mammadov",
      "photoUrl": "https://lh3.googleusercontent.com/a/default-user=s64",
      "userId": "03871087646573601592"
     },
     "user_tz": -120
    },
    "id": "-MvHJWlLN3m3",
    "outputId": "4181245e-4866-476e-d841-7feb1aa95fc5"
   },
   "outputs": [
    {
     "data": {
      "text/plain": [
       "['When you are shopping for vintage jewelry, check for broken clasps, missing gems or']"
      ]
     },
     "execution_count": 154,
     "metadata": {},
     "output_type": "execute_result"
    }
   ],
   "source": [
    "source = \"When you are shopping for vintage jewelry, one way to ensure that you are not buying fake vintage, is to ask the seller about the history of a particular item. If the piece is actually vintage the seller should be able to explain how they came across the item. For instance, it may have been passed down through the family, purchased at an estate sale or auction, or found while antique hunting., Most vintage jewelry was marked by the jewelry maker, either with initials or small emblems. Use a magnifying glass to examine the jewelry for marks before purchasing. If you notice any discrepancies between marks then the piece is likely a fake or replica.Search online for pictures of well-known vintage jewelers' marks.<n>There may be instances when some older items of jewelry were not marked. For example, early pieces of Chanel jewelry were unmarked and different markings were used during different periods.If you can’t locate any markings, then ask the seller about the history of the piece.<n> It is also important to carefully examine the condition of an item of jewelry before purchasing it. Although most vintage jewelry will have some minor signs of wear and tear, you want to make sure they are minimal. For instance, check for broken clasps, missing gems or jewels, as well as major scratches. All of these blemishes will decrease the value of the piece. Try and find gently used pieces that only have minor signs of wear.Most importantly check for good craftsmanship, which includes straight lines, and the symmetrical placement of stones.<n>Be wary of any jewelry marketed as vintage but that appears in mint condition.<n>In these instances ask the seller if the piece has been recently restored. This can decrease the value of the jewelry.<n> When buying vintage jewelry ask the retailer to provide you with documentation concerning the origin of the piece. This documentation can add value to the item, making it more authentic. This will also help to ensure that you are buying legitimate vintage jewelry, instead of mass produced new jewelry designed to look like vintage jewelry. Different types of documentation and authentication include:Certificate of authentication from a professional.<n>Original receipts from when the jewelry was purchased that include the purchasers name.<n>A photograph showing the piece being worn.<n>Handwritten notes from previous owners.<n>Other documents showing the items history.<n> You should always consider the price when you are shopping for vintage jewelry. Items that contain real diamonds and are made of gold will be pricey. If an item is being sold as a designer piece of gold jewelry, but is priced reasonably, it is likely fake. That being said, you do not have to break the bank to buy vintage jewelry. You can find very unique and beautiful pieces of vintage and antique costume jewelry that is reasonable priced.<n>Take into consideration the type of piece you want and make sure that you truly love the piece before purchasing it.\"\n",
    "rephrase(context)"
   ]
  },
  {
   "cell_type": "code",
   "execution_count": null,
   "metadata": {
    "colab": {
     "base_uri": "https://localhost:8080/"
    },
    "executionInfo": {
     "elapsed": 9905,
     "status": "ok",
     "timestamp": 1634482871582,
     "user": {
      "displayName": "Ruslan Mammadov",
      "photoUrl": "https://lh3.googleusercontent.com/a/default-user=s64",
      "userId": "03871087646573601592"
     },
     "user_tz": -120
    },
    "id": "E-kGaAnAodrz",
    "outputId": "17c63937-e073-49e9-cb48-c7ac27786fb3"
   },
   "outputs": [
    {
     "name": "stdout",
     "output_type": "stream",
     "text": [
      "When you are shopping for vintage jewelry, one way to ensure that you are not buying fake vintage, is to ask the seller about the history of a particular item\n",
      "When you are shopping for vintage jewelry, one way to ensure that you are not buying fake\n",
      "\n",
      "If the piece is actually vintage the seller should be able to explain how they came across the item\n",
      "If the piece is actually vintage, the seller should be able to explain how they came across\n",
      "\n",
      "For instance, it may have been passed down through the family, purchased at an estate sale or auction, or found while antique hunting., Most vintage jewelry was marked by the jewelry maker, either with initials or small emblems\n",
      "For instance, it may have been passed down through the family, purchased at an estate sale\n",
      "\n",
      "Use a magnifying glass to examine the jewelry for marks before purchasing\n",
      "Use a magnifying glass to examine the jewelry for marks before purchasing.\n",
      "\n",
      "If you notice any discrepancies between marks then the piece is likely a fake or replica.Search online for pictures of well-known vintage jewelers' marks.\n",
      "If you notice any discrepancies between marks, then the piece is probably a fake or replica.\n",
      "\n"
     ]
    }
   ],
   "source": [
    "source_batch = source.split(\"<n>\")[0].split(\". \")\n",
    "result = rephrase_batch(source_batch)\n",
    "for original, paraphrase in zip(source_batch, result):\n",
    "  print(original)\n",
    "  print(paraphrase)\n",
    "  print()"
   ]
  },
  {
   "cell_type": "markdown",
   "metadata": {
    "id": "D7izjcFv289z"
   },
   "source": [
    "# Third paraphraser infos\n",
    "# One russian paraphraser based on T5 and one based on translation\n",
    "1. There is a blog, according to the blog, not so good, but ok.\n",
    "2. Metrics: \n",
    "  1. Perplexity for fluency.\n",
    "  2. LaBSE - Language-Agnostic BERT Sentence Embedding for adequacty\n",
    "  3. BLUE and n-gram overlap for diversity\n",
    "  4. New metrics: \n",
    "3. They have also used Contrained Beam Search\n",
    "4. They also set num_beams and bad_words_ids\n",
    "  1. num_beams - - how width is the search for the best output in the model\n",
    "  2. num_beams is a parameter in trnasformer model\n",
    "  3. bigger num_beams -> longer generation, but better text\n",
    "  4. bad_word_ids -> means no these words in output, also parameter in transformers models\n",
    "4. Translate had similar quality to t5\n",
    "5. Fine tuned t5 for 5 days in google colab, but opened the notebook every day"
   ]
  }
 ],
 "metadata": {
  "colab": {
   "collapsed_sections": [],
   "name": "Existing Paraphrasing Models.ipynb",
   "provenance": []
  },
  "kernelspec": {
   "display_name": "Python 3",
   "language": "python",
   "name": "python3"
  },
  "language_info": {
   "codemirror_mode": {
    "name": "ipython",
    "version": 3
   },
   "file_extension": ".py",
   "mimetype": "text/x-python",
   "name": "python",
   "nbconvert_exporter": "python",
   "pygments_lexer": "ipython3",
   "version": "3.8.8"
  }
 },
 "nbformat": 4,
 "nbformat_minor": 1
}
