{
 "cells": [
  {
   "cell_type": "markdown",
   "metadata": {
    "id": "_gXcgbLrKCwv"
   },
   "source": [
    "# Wikihow Dataset\n",
    "\n",
    "Authors: David Francisco \\<Dfrancisco1998@gmail.com\\>\n",
    "\n",
    "Copyright (C) 2021 David Francisco and DynaGroup i.T. GmbH"
   ]
  },
  {
   "cell_type": "code",
   "execution_count": null,
   "metadata": {
    "colab": {
     "base_uri": "https://localhost:8080/"
    },
    "executionInfo": {
     "elapsed": 19079,
     "status": "ok",
     "timestamp": 1637960073978,
     "user": {
      "displayName": "Ruslan Mammadov",
      "photoUrl": "https://lh3.googleusercontent.com/a/default-user=s64",
      "userId": "03871087646573601592"
     },
     "user_tz": -60
    },
    "id": "k6sIBMotGPoU",
    "outputId": "43884cf8-5416-4d43-aa64-47fc060e4ef6"
   },
   "outputs": [
    {
     "name": "stdout",
     "output_type": "stream",
     "text": [
      "Mounted at /content/drive\n"
     ]
    }
   ],
   "source": [
    "# Run it if you are using google colab.\n",
    "from google.colab import drive\n",
    "drive.mount('/content/drive')"
   ]
  },
  {
   "cell_type": "code",
   "execution_count": null,
   "metadata": {
    "id": "KTGC73d2CFi4"
   },
   "outputs": [],
   "source": [
    "# Installing dependencies on google colab\n",
    "%pip install nltk > /dev/null\n",
    "%pip install textstat > /dev/null"
   ]
  },
  {
   "cell_type": "code",
   "execution_count": null,
   "metadata": {
    "colab": {
     "base_uri": "https://localhost:8080/"
    },
    "executionInfo": {
     "elapsed": 338,
     "status": "ok",
     "timestamp": 1637960353494,
     "user": {
      "displayName": "Ruslan Mammadov",
      "photoUrl": "https://lh3.googleusercontent.com/a/default-user=s64",
      "userId": "03871087646573601592"
     },
     "user_tz": -60
    },
    "id": "DWjaHtqGCSMw",
    "outputId": "2dbbdcce-3e2d-4850-9865-a1fcc775f137"
   },
   "outputs": [
    {
     "name": "stdout",
     "output_type": "stream",
     "text": [
      "[nltk_data] Downloading package stopwords to /root/nltk_data...\n",
      "[nltk_data]   Package stopwords is already up-to-date!\n",
      "[nltk_data] Downloading package punkt to /root/nltk_data...\n",
      "[nltk_data]   Package punkt is already up-to-date!\n"
     ]
    }
   ],
   "source": [
    "import nltk\n",
    "\n",
    "from nltk.corpus import stopwords\n",
    "nltk.download('stopwords')\n",
    "\n",
    "from nltk.tokenize import word_tokenize\n",
    "nltk.download('punkt')\n",
    "\n",
    "import numpy as np\n",
    "import pandas as pd\n",
    "import matplotlib.pyplot as plt\n",
    "\n",
    "import re\n",
    "import string\n",
    "import math\n",
    "import spacy\n",
    "import textstat\n",
    "\n",
    "from sklearn.feature_extraction.text import CountVectorizer\n",
    "from textblob import TextBlob"
   ]
  },
  {
   "cell_type": "markdown",
   "metadata": {
    "id": "vuRuhbgNDTlZ"
   },
   "source": [
    "### Loading dataset and first analyse"
   ]
  },
  {
   "cell_type": "code",
   "execution_count": null,
   "metadata": {
    "colab": {
     "base_uri": "https://localhost:8080/"
    },
    "executionInfo": {
     "elapsed": 412,
     "status": "ok",
     "timestamp": 1637960355016,
     "user": {
      "displayName": "Ruslan Mammadov",
      "photoUrl": "https://lh3.googleusercontent.com/a/default-user=s64",
      "userId": "03871087646573601592"
     },
     "user_tz": -60
    },
    "id": "F9A7o0dwJMjG",
    "outputId": "0be25b37-6686-4124-f9ad-b73b23cf8710"
   },
   "outputs": [
    {
     "name": "stdout",
     "output_type": "stream",
     "text": [
      "When you are shopping for vintage jewelry, one way to ensure that you are not buying fake vintage, is to ask the seller about the history of a particular item. If the piece is actually vintage the seller should be able to explain how they came across the item. For instance, it may have been passed down through the family, purchased at an estate sale or auction, or found while antique hunting., Most vintage jewelry was marked by the jewelry maker, either with initials or small emblems. Use a magnifying glass to examine the jewelry for marks before purchasing. If you notice any discrepancies between marks then the piece is likely a fake or replica.Search online for pictures of well-known vintage jewelers' marks.<n>There may be instances when some older items of jewelry were not marked. For example, early pieces of Chanel jewelry were unmarked and different markings were used during different periods.If you can’t locate any markings, then ask the seller about the history of the piece.<n> It is also important to carefully examine the condition of an item of jewelry before purchasing it. Although most vintage jewelry will have some minor signs of wear and tear, you want to make sure they are minimal. For instance, check for broken clasps, missing gems or jewels, as well as major scratches. All of these blemishes will decrease the value of the piece. Try and find gently used pieces that only have minor signs of wear.Most importantly check for good craftsmanship, which includes straight lines, and the symmetrical placement of stones.<n>Be wary of any jewelry marketed as vintage but that appears in mint condition.<n>In these instances ask the seller if the piece has been recently restored. This can decrease the value of the jewelry.<n> When buying vintage jewelry ask the retailer to provide you with documentation concerning the origin of the piece. This documentation can add value to the item, making it more authentic. This will also help to ensure that you are buying legitimate vintage jewelry, instead of mass produced new jewelry designed to look like vintage jewelry. Different types of documentation and authentication include:Certificate of authentication from a professional.<n>Original receipts from when the jewelry was purchased that include the purchasers name.<n>A photograph showing the piece being worn.<n>Handwritten notes from previous owners.<n>Other documents showing the items history.<n> You should always consider the price when you are shopping for vintage jewelry. Items that contain real diamonds and are made of gold will be pricey. If an item is being sold as a designer piece of gold jewelry, but is priced reasonably, it is likely fake. That being said, you do not have to break the bank to buy vintage jewelry. You can find very unique and beautiful pieces of vintage and antique costume jewelry that is reasonable priced.<n>Take into consideration the type of piece you want and make sure that you truly love the piece before purchasing it.\n",
      "Being overweight makes your heart work harder to pump blood around your body. If you are overweight linking your exercise regime with a healthy diet will help to lose weight and relieve some of the stress on your heart, which in turn will lower your resting heart rate., As well as all the other damage tobacco does to your body, smokers are known to have higher resting heart rates than non-smokers. Cutting down or preferably quitting smoking will help to lower your heart rate and improve the healthiness of your heart.Nicotine constricts blood vessels and causes damage to heart muscles and vasculature. Quitting smoking can greatly improve blood pressure, circulation and overall health as well as decrease risk for cancer and breathing problems.<n> Caffeine and caffeine products such as coffee and tea are well-known to increase heart rate.If you think you have a slightly high resting heart rate, lowering your caffeine intake can help to reduce it.More than two cups of coffee a day can contribute to side effects including an increased heart rate.Decaffeinated drinks can help you lower your caffeine intake.<n> Alcohol intake has been connected to increased heart rates and higher average heart rates. Cutting down on the amount of alcohol you consume can help you to lower your resting heart rate., Reducing the amount of stress you experience isn't necessarily easy, but it can help you to lower your resting heart rate over time. Stress in extreme amounts can have a negative impact on your health. Practice some activities that help you to relax such, as meditation or tai chi.Try to dedicate a little time each day for a period of relaxation and deep breathing.<n>Everyone is different so find what relaxes you.<n>Maybe it will be listening to calming music, or taking a long bath.\n",
      "Connect your mobile device to the computer and from the purchased CD, launch the automatic installation of Kaspersky Mobile Security. If you do not have a CD then download the distributive from Kaspersky Lab Site.;<n>,<n>Check the information that will allow Kaspersky Mobile Security 9.0 on the “Do you want to       install this application?” dialog window. Then tap “Install.”<n>From “Application installed” window, tap “Open.”<n>Go through the License agreement and tap “Accept.” If you are not accepting the conditions, tap “Decline.”<n>Select your country in the welcome window and tap “Next.”<n>, Administrator rights protect the program against unauthorized deletion as well as block the device if it is stolen. After reading the information about self-defense of device and Anti-Theft feature, tap “Next.” Tap “Activate” in the “Activate device administrator” window.<n> If you have Kaspersky account then choose “I have a Kaspersky Account” from “Remote control of Anti-Theft” window. If not, select “Create a Kaspersky Account” and sign in the web portal. You need to enter all the required data to sign in the Anti-Theft web portal as well as the name of your device that you want to display on the web portal. Tap “Sign in.”<n>, If you have an activation code then you can activate the commercial version of Kaspersky Mobile Security but if you don’t have an activation code then tap “Continue.”\n",
      "If you hang up on a telemarketer right away, you’ll probably be placed on the “no answer” list, and will be called again eventually. You don’t want to engage a telemarketer in conversation either, especially if you have absolutely no interest in their product or service.<n>The easiest way to handle a telemarketer is to say, “Please put me on your do not call list.”<n>If the telemarketer keeps interrupting you or a robot calls you, you might just have to hang up. If the same number persistently calls, report it to the FCC by calling 1-888-CALL-FCC or going to https://www.fcc.gov/.<n> If you live in the United States, you can add yourself to the do not call registry. It'll then become illegal for telemarketers to contact you: https://www.donotcall.gov/. If you do get contacted by a telemarketer after putting yourself on the list, you can report the number that called you to the FTC or FCC.<n> If they tell you a mutual acquaintance or other contact, consider taking the call. If they don’t or can’t tell you, or if they got your contact information from some data pool or list, ask to be removed from their call list and hang up., Be clear about conveying your annoyance with phone calls, especially if you might want to do business with or purchase something from that company but don’t want annoying callers. Make sure you provide them with an email address specifically for spam or sales deals.\n",
      "Before you pay for an online course, you should be realistic about your ability to manage your time and to follow a structured schedule for the course.<n>Ensure that you have enough time to dedicate to studying, finishing your assignments, and passing the class.<n>This course will be taught at a college level. If you feel uncertain about your abilities to complete college-level coursework, this might not be the best option for you.<n>Set goals for yourself.<n>If you’re not confident in your computer skills, you should consider strengthening them before taking an online course. It might be a good idea to narrow down the list of most needed skills to just a few items to make sure you can develop those skills in time before the course begins.;<n>, Many courses will list a summary of what the course will cover, a syllabus of the work that will be required, or have pre-requisites that you must complete prior to the course.<n>If you are taking this online course for a degree program, make sure that you have completed any pre-requisites for the course.<n>If you are attending another college, but taking this online course through a different university, check with your university to make sure that this credit will be accepted towards your degree.<n>Purchase or borrow any required textbooks or course materials prior to the start date of your class.<n> For most online college courses, you will need to ensure that you have enough hard drive memory and that you are using the most up to date operating systems for your laptop or desktop computer.<n>If you do not meet these requirements, the online course module may not work correctly and you will be unable to complete the course.Technical courses may have specific requirements for the amount of RAM, hard drive space available, and the operating system that you use.<n>You will need consistent and reliable access to the Internet for your course.<n>Hone and practice your computer skills if you are uncertain whether they are strong enough for the course. You can even enroll in a brief computer literacy class before starting the course.<n> Beginning the course with a good relationship with your professor can be a very helpful way to establish a good rapport with them for the rest of the course.<n>Before the course begins, reach out to your professor. This can be a simple email introducing yourself to the instructor and letting them know that you’re excited to begin the course with them.<n>If you ever have the opportunity to speak with your professor in person, take advantage of it.<n> If you work part time or full time, you should let your employer know that you are taking college classes online so they are aware of your time restrictions.<n>If you work full time, see if your employer offers tuition reimbursement or tuition reimbursement. If you have an HR department, they will be the best resource for this inquiry.If you work part time or have a flexible work schedule, ensure that your work schedule does not conflict with your study schedule or any scheduled class times.<n>If you have children at home, arrange childcare before the course begins. It can be very difficult to focus on online coursework if you are caring for children at the same time. Arrange for consistent childcare during the times you know will be doing coursework and studying., Find a place where you will be able to consistently work and study without distractions.<n>If you plan to do classwork at home, make sure that you will not be distracted by family members or roommates while you’re working.<n>Cafes and coffee shops usually have consistent Internet access. Check with the owner to make sure that you are able to occupy a table for extended amounts of time.<n>Libraries are a good option if you prefer to work in a quiet space. Many have desktop computers available for your use, which is helpful if you do not have a laptop.<n>Many public parks offer free wifi. You may find it relaxing to study in the park, as long as there are no distractions nearby.<n> As soon as you receive the course syllabus, write down the due dates for any important assignments, papers, and exams.<n>Many online courses require online assignment submissions to be made by a certain time. If each weekly assignment is due at 5pm on Sunday, make sure to note this specific time so you can keep your assignment submissions organized.<n>Use a paper planer or online calendar to keep all of your assignment dates organized and accessible.<n>If you are taking more than one course at a time, create a master list that has each of your course assignment due dates listed.<n>Each week, organize your schedule and make a priority list for assignments that are due that week.<n> A study schedule will help you to stay organized as you progress through the course, and will help you manage your time efficiently.<n>Be as detailed as possible in your schedule. Plan ahead and take in to account any outside commitments that you’ve made like vacations or doctors visits that will disrupt your normal schedule.<n>Use the list of assignment due dates that you wrote down at the beginning of the course to set aside time to study for large exams and to complete projects or papers.<n>Stick to the schedule that you set for yourself. You will need to follow your schedule to accomplish your coursework on time.<n>Create weekly to-do lists that map out your assignment deadlines and required coursework., Take detailed notes for each of your class readings and lectures either by hand or in an online document.Be prepared to take notes during each online lecture. Organized and detailed notes will be your best study tools to prepare for exams. It can be tempting to zone out or not pay attention during online lectures since you aren’t physically in a classroom, but taking notes can help you to avoid this temptation.<n>Keep your notes in a centralized and organized space. If you take notes by hand, dedicate a large notebook or binder to holding all of your notes. If you take notes on your laptop, create an online file to hold all of your notes in one place.<n> Your online course will have specific deadlines for assignments, just as any other class would. Always meet these deadlines and produce your best work on assignments.<n>Online courses are great for independent learners since you are held accountable for your ability to follow a syllabus and meet deadlines outside of a physical classroom. You must reliably meet deadlines and turn in your work on time. Missing deadlines can have a large negative impact on your grade.Plan ahead if you know that you have a busy week coming up so you won’t have to struggle to get your work done.<n> Many online courses require students to participate in discussion board about class topics.<n>Posts on a discussion board often count as participation points and are an important part of your grade.<n>Consistently post your responses or assignments to the discussion board on time and make meaningful additions to the discussion.<n>Class discussions are also a great way to connect with your online classmates.<n> Online learning can feel isolating, especially if you are completing your degree completely online. Connecting with other online learners can foster a sense of community.<n>Some online classes may require group work during the course. While it can be challenging to complete assignments with students that you cannot physically meet with, group work is a great incentive to connect with your online classmates.<n>Reach out to the online university that you are taking the class through. Many universities offer community websites and ways to connect with other online learners.If you find that you can meet with another online classmate in person, take this opportunity to get to know your classmate and arrange for a group study session.<n> Maintain your relationship with your professor throughout the course by communicating with them about assignments and exams.<n>Since most of your communication with your professor and peers will be through writing, you must be comfortable reaching out through written communications like email.Always keep your communications with professors professional and courteous, just as you would with any other instructor.<n>Do not hesitate to reach out to the professor if you are struggling to understand a class concept or if you have questions.\n"
     ]
    }
   ],
   "source": [
    "!head -5 '/content/drive/My Drive/Paraphrasing API/datasets/wikihow/test.source'"
   ]
  },
  {
   "cell_type": "markdown",
   "metadata": {
    "id": "HBMYz-SAYBkr"
   },
   "source": [
    "Porting into dataframe "
   ]
  },
  {
   "cell_type": "code",
   "execution_count": null,
   "metadata": {
    "id": "eKnvr3pXKmbQ"
   },
   "outputs": [],
   "source": [
    "df = pd.DataFrame()\n",
    "text = []\n",
    "count = []\n",
    "tok_sw = []\n",
    "file1 = open('/content/drive/My Drive/Paraphrasing API/datasets/wikihow/test.source', 'r')\n",
    "for line in file1:\n",
    "  text.append(line)\n",
    "  count.append(len(line.split()))\n",
    "  # text_tokens = word_tokenize(line)\n",
    "  # tokens_without_sw = [word for word in text_tokens if not word in stopwords.words()]\n",
    "  # tok_sw.append(len(tok_sw))\n",
    "\n",
    "# print(tokens_without_sw)\n",
    "df['text'] = text\n",
    "df['word_count'] = count\n",
    "# df['tok_sw'] = tok_sw\n",
    "# df['sw'] = df['count'] - df['tok_sw']\n",
    "file1.close()"
   ]
  },
  {
   "cell_type": "code",
   "execution_count": null,
   "metadata": {
    "colab": {
     "base_uri": "https://localhost:8080/",
     "height": 424
    },
    "executionInfo": {
     "elapsed": 38,
     "status": "ok",
     "timestamp": 1637960358901,
     "user": {
      "displayName": "Ruslan Mammadov",
      "photoUrl": "https://lh3.googleusercontent.com/a/default-user=s64",
      "userId": "03871087646573601592"
     },
     "user_tz": -60
    },
    "id": "nSuwFIiiO8KE",
    "outputId": "d780916d-9f5f-47a3-c516-354c930005e4"
   },
   "outputs": [
    {
     "data": {
      "text/html": [
       "<div>\n",
       "<style scoped>\n",
       "    .dataframe tbody tr th:only-of-type {\n",
       "        vertical-align: middle;\n",
       "    }\n",
       "\n",
       "    .dataframe tbody tr th {\n",
       "        vertical-align: top;\n",
       "    }\n",
       "\n",
       "    .dataframe thead th {\n",
       "        text-align: right;\n",
       "    }\n",
       "</style>\n",
       "<table border=\"1\" class=\"dataframe\">\n",
       "  <thead>\n",
       "    <tr style=\"text-align: right;\">\n",
       "      <th></th>\n",
       "      <th>text</th>\n",
       "      <th>word_count</th>\n",
       "    </tr>\n",
       "  </thead>\n",
       "  <tbody>\n",
       "    <tr>\n",
       "      <th>0</th>\n",
       "      <td>When you are shopping for vintage jewelry, one...</td>\n",
       "      <td>486</td>\n",
       "    </tr>\n",
       "    <tr>\n",
       "      <th>1</th>\n",
       "      <td>Being overweight makes your heart work harder ...</td>\n",
       "      <td>297</td>\n",
       "    </tr>\n",
       "    <tr>\n",
       "      <th>2</th>\n",
       "      <td>Connect your mobile device to the computer and...</td>\n",
       "      <td>221</td>\n",
       "    </tr>\n",
       "    <tr>\n",
       "      <th>3</th>\n",
       "      <td>If you hang up on a telemarketer right away, y...</td>\n",
       "      <td>242</td>\n",
       "    </tr>\n",
       "    <tr>\n",
       "      <th>4</th>\n",
       "      <td>Before you pay for an online course, you shoul...</td>\n",
       "      <td>1376</td>\n",
       "    </tr>\n",
       "    <tr>\n",
       "      <th>...</th>\n",
       "      <td>...</td>\n",
       "      <td>...</td>\n",
       "    </tr>\n",
       "    <tr>\n",
       "      <th>5572</th>\n",
       "      <td>If you've already built up experience working ...</td>\n",
       "      <td>379</td>\n",
       "    </tr>\n",
       "    <tr>\n",
       "      <th>5573</th>\n",
       "      <td>It is usually shelved alongside other garden f...</td>\n",
       "      <td>853</td>\n",
       "    </tr>\n",
       "    <tr>\n",
       "      <th>5574</th>\n",
       "      <td>If you look at music and the different categor...</td>\n",
       "      <td>1122</td>\n",
       "    </tr>\n",
       "    <tr>\n",
       "      <th>5575</th>\n",
       "      <td>Pour 2 tablespoons of the olive oil into a ski...</td>\n",
       "      <td>356</td>\n",
       "    </tr>\n",
       "    <tr>\n",
       "      <th>5576</th>\n",
       "      <td>According to Merriam Webster, common sense is ...</td>\n",
       "      <td>2864</td>\n",
       "    </tr>\n",
       "  </tbody>\n",
       "</table>\n",
       "<p>5577 rows × 2 columns</p>\n",
       "</div>"
      ],
      "text/plain": [
       "                                                   text  word_count\n",
       "0     When you are shopping for vintage jewelry, one...         486\n",
       "1     Being overweight makes your heart work harder ...         297\n",
       "2     Connect your mobile device to the computer and...         221\n",
       "3     If you hang up on a telemarketer right away, y...         242\n",
       "4     Before you pay for an online course, you shoul...        1376\n",
       "...                                                 ...         ...\n",
       "5572  If you've already built up experience working ...         379\n",
       "5573  It is usually shelved alongside other garden f...         853\n",
       "5574  If you look at music and the different categor...        1122\n",
       "5575  Pour 2 tablespoons of the olive oil into a ski...         356\n",
       "5576  According to Merriam Webster, common sense is ...        2864\n",
       "\n",
       "[5577 rows x 2 columns]"
      ]
     },
     "execution_count": 27,
     "metadata": {},
     "output_type": "execute_result"
    }
   ],
   "source": [
    "df"
   ]
  },
  {
   "cell_type": "markdown",
   "metadata": {
    "id": "F-YlIGOwDcMm"
   },
   "source": [
    "### Cleaning"
   ]
  },
  {
   "cell_type": "code",
   "execution_count": null,
   "metadata": {
    "id": "zR5NsoQBhGH-"
   },
   "outputs": [],
   "source": [
    "def remove_non_ascii(text): \n",
    "    return ''.join(i for i in text if ord(i)<128) \n",
    " \n",
    "df['text'] = df['text'].apply(remove_non_ascii) "
   ]
  },
  {
   "cell_type": "code",
   "execution_count": null,
   "metadata": {
    "colab": {
     "base_uri": "https://localhost:8080/"
    },
    "executionInfo": {
     "elapsed": 17,
     "status": "ok",
     "timestamp": 1637960362959,
     "user": {
      "displayName": "Ruslan Mammadov",
      "photoUrl": "https://lh3.googleusercontent.com/a/default-user=s64",
      "userId": "03871087646573601592"
     },
     "user_tz": -60
    },
    "id": "X1-JysimQ_PX",
    "outputId": "edcb8311-ae13-4859-ed5f-01ab6bba5d2d"
   },
   "outputs": [
    {
     "name": "stdout",
     "output_type": "stream",
     "text": [
      "['Nick', 'likes', 'play', 'football', ',', 'however', 'fond', 'tennis', '.']\n"
     ]
    }
   ],
   "source": [
    "text = \"Nick likes to play football, however he is not too fond of tennis.\"\n",
    "text_tokens = word_tokenize(text)\n",
    "\n",
    "tokens_without_sw = [word for word in text_tokens if not word in stopwords.words()]\n",
    "\n",
    "print(tokens_without_sw)"
   ]
  },
  {
   "cell_type": "code",
   "execution_count": null,
   "metadata": {
    "colab": {
     "base_uri": "https://localhost:8080/"
    },
    "executionInfo": {
     "elapsed": 7,
     "status": "ok",
     "timestamp": 1637960364051,
     "user": {
      "displayName": "Ruslan Mammadov",
      "photoUrl": "https://lh3.googleusercontent.com/a/default-user=s64",
      "userId": "03871087646573601592"
     },
     "user_tz": -60
    },
    "id": "EwSwlFuFUBzz",
    "outputId": "941ccacd-0b90-4eff-fe45-201a5132617c"
   },
   "outputs": [
    {
     "data": {
      "text/plain": [
       "text          0\n",
       "word_count    0\n",
       "dtype: int64"
      ]
     },
     "execution_count": 30,
     "metadata": {},
     "output_type": "execute_result"
    }
   ],
   "source": [
    "df.isnull().sum()"
   ]
  },
  {
   "cell_type": "code",
   "execution_count": null,
   "metadata": {
    "colab": {
     "base_uri": "https://localhost:8080/"
    },
    "executionInfo": {
     "elapsed": 11,
     "status": "ok",
     "timestamp": 1637960365155,
     "user": {
      "displayName": "Ruslan Mammadov",
      "photoUrl": "https://lh3.googleusercontent.com/a/default-user=s64",
      "userId": "03871087646573601592"
     },
     "user_tz": -60
    },
    "id": "xC4gYxgVZOJD",
    "outputId": "f747a7cc-8077-4a51-8065-2b97daa121c3"
   },
   "outputs": [
    {
     "data": {
      "text/plain": [
       "text          0\n",
       "word_count    0\n",
       "dtype: int64"
      ]
     },
     "execution_count": 31,
     "metadata": {},
     "output_type": "execute_result"
    }
   ],
   "source": [
    "df.dropna(inplace=True)\n",
    "df.isnull().sum()"
   ]
  },
  {
   "cell_type": "code",
   "execution_count": null,
   "metadata": {
    "id": "AhJARy_EZe1X"
   },
   "outputs": [],
   "source": [
    "contractions_dict = { \"ain't\": \"are not\",\"'s\":\" is\",\"aren't\": \"are not\",\n",
    "                     \"can't\": \"cannot\",\"can't've\": \"cannot have\",\n",
    "                     \"'cause\": \"because\",\"could've\": \"could have\",\"couldn't\": \"could not\",\n",
    "                     \"couldn't've\": \"could not have\", \"didn't\": \"did not\",\"doesn't\": \"does not\",\n",
    "                     \"don't\": \"do not\",\"hadn't\": \"had not\",\"hadn't've\": \"had not have\",\n",
    "                     \"hasn't\": \"has not\",\"haven't\": \"have not\",\"he'd\": \"he would\",\n",
    "                     \"he'd've\": \"he would have\",\"he'll\": \"he will\", \"he'll've\": \"he will have\",\n",
    "                     \"how'd\": \"how did\",\"how'd'y\": \"how do you\",\"how'll\": \"how will\",\n",
    "                     \"I'd\": \"I would\", \"I'd've\": \"I would have\",\"I'll\": \"I will\",\n",
    "                     \"I'll've\": \"I will have\",\"I'm\": \"I am\",\"I've\": \"I have\", \"isn't\": \"is not\",\n",
    "                     \"it'd\": \"it would\",\"it'd've\": \"it would have\",\"it'll\": \"it will\",\n",
    "                     \"it'll've\": \"it will have\", \"let's\": \"let us\",\"ma'am\": \"madam\",\n",
    "                     \"mayn't\": \"may not\",\"might've\": \"might have\",\"mightn't\": \"might not\", \n",
    "                     \"mightn't've\": \"might not have\",\"must've\": \"must have\",\"mustn't\": \"must not\",\n",
    "                     \"mustn't've\": \"must not have\", \"needn't\": \"need not\",\n",
    "                     \"needn't've\": \"need not have\",\"o'clock\": \"of the clock\",\"oughtn't\": \"ought not\",\n",
    "                     \"oughtn't've\": \"ought not have\",\"shan't\": \"shall not\",\"sha'n't\": \"shall not\",\n",
    "                     \"shan't've\": \"shall not have\",\"she'd\": \"she would\",\"she'd've\": \"she would have\",\n",
    "                     \"she'll\": \"she will\", \"she'll've\": \"she will have\",\"should've\": \"should have\",\n",
    "                     \"shouldn't\": \"should not\", \"shouldn't've\": \"should not have\",\"so've\": \"so have\",\n",
    "                     \"that'd\": \"that would\",\"that'd've\": \"that would have\", \"there'd\": \"there would\",\n",
    "                     \"there'd've\": \"there would have\", \"they'd\": \"they would\",\n",
    "                     \"they'd've\": \"they would have\",\"they'll\": \"they will\",\n",
    "                     \"they'll've\": \"they will have\", \"they're\": \"they are\",\"they've\": \"they have\",\n",
    "                     \"to've\": \"to have\",\"wasn't\": \"was not\",\"we'd\": \"we would\",\n",
    "                     \"we'd've\": \"we would have\",\"we'll\": \"we will\",\"we'll've\": \"we will have\",\n",
    "                     \"we're\": \"we are\",\"we've\": \"we have\", \"weren't\": \"were not\",\"what'll\": \"what will\",\n",
    "                     \"what'll've\": \"what will have\",\"what're\": \"what are\", \"what've\": \"what have\",\n",
    "                     \"when've\": \"when have\",\"where'd\": \"where did\", \"where've\": \"where have\",\n",
    "                     \"who'll\": \"who will\",\"who'll've\": \"who will have\",\"who've\": \"who have\",\n",
    "                     \"why've\": \"why have\",\"will've\": \"will have\",\"won't\": \"will not\",\n",
    "                     \"won't've\": \"will not have\", \"would've\": \"would have\",\"wouldn't\": \"would not\",\n",
    "                     \"wouldn't've\": \"would not have\",\"y'all\": \"you all\", \"y'all'd\": \"you all would\",\n",
    "                     \"y'all'd've\": \"you all would have\",\"y'all're\": \"you all are\",\n",
    "                     \"y'all've\": \"you all have\", \"you'd\": \"you would\",\"you'd've\": \"you would have\",\n",
    "                     \"you'll\": \"you will\",\"you'll've\": \"you will have\", \"you're\": \"you are\",\n",
    "                     \"you've\": \"you have\"}\n",
    "\n",
    "# Regular expression for finding contractions\n",
    "contractions_re=re.compile('(%s)' % '|'.join(contractions_dict.keys()))\n",
    "\n",
    "# Function for expanding contractions\n",
    "def expand_contractions(text,contractions_dict=contractions_dict):\n",
    "  def replace(match):\n",
    "    return contractions_dict[match.group(0)]\n",
    "  return contractions_re.sub(replace, text)\n",
    "\n",
    "# Expanding Contractions in the reviews\n",
    "df['text']=df['text'].apply(lambda x:expand_contractions(x))\n",
    "\n",
    "df['cleaned']=df['text'].apply(lambda x: x.lower())"
   ]
  },
  {
   "cell_type": "code",
   "execution_count": null,
   "metadata": {
    "id": "bnGn1JS8asDs"
   },
   "outputs": [],
   "source": [
    "df['cleaned']=df['cleaned'].apply(lambda x: re.sub('\\w*\\d\\w*','', x))"
   ]
  },
  {
   "cell_type": "code",
   "execution_count": null,
   "metadata": {
    "id": "-0W1GP8davd8"
   },
   "outputs": [],
   "source": [
    "df['cleaned']=df['cleaned'].apply(lambda x: re.sub('[%s]' % re.escape(string.punctuation), '', x))"
   ]
  },
  {
   "cell_type": "code",
   "execution_count": null,
   "metadata": {
    "id": "76qcnz7eay1f"
   },
   "outputs": [],
   "source": [
    "# Removing extra spaces\n",
    "df['cleaned']=df['cleaned'].apply(lambda x: re.sub(' +',' ',x))"
   ]
  },
  {
   "cell_type": "code",
   "execution_count": null,
   "metadata": {
    "id": "izbTe457a4Ct"
   },
   "outputs": [],
   "source": [
    "# Loading model\n",
    "nlp = spacy.load('en_core_web_sm',disable=['parser', 'ner'])\n",
    "\n",
    "# Lemmatization with stopwords removal\n",
    "df['lemmatized']=df['cleaned'].apply(lambda x: ' '.join([token.lemma_ for token in list(nlp(x)) if (token.is_stop==False)]))"
   ]
  },
  {
   "cell_type": "markdown",
   "metadata": {
    "id": "Y_KMW85RYEJJ"
   },
   "source": [
    "### Some exploratory analysis"
   ]
  },
  {
   "cell_type": "code",
   "execution_count": null,
   "metadata": {
    "colab": {
     "base_uri": "https://localhost:8080/"
    },
    "executionInfo": {
     "elapsed": 3948,
     "status": "ok",
     "timestamp": 1637960499931,
     "user": {
      "displayName": "Ruslan Mammadov",
      "photoUrl": "https://lh3.googleusercontent.com/a/default-user=s64",
      "userId": "03871087646573601592"
     },
     "user_tz": -60
    },
    "id": "c0do4hWqhjWt",
    "outputId": "c7dcc16b-fe81-4f65-e8a2-e5b8a45f5761"
   },
   "outputs": [
    {
     "name": "stdout",
     "output_type": "stream",
     "text": [
      "                                                   text  ...                                         lemmatized\n",
      "0     When you are shopping for vintage jewelry, one...  ...  shop vintage jewelry way ensure buy fake vinta...\n",
      "1     Being overweight makes your heart work harder ...  ...  overweight make heart work harder pump blood b...\n",
      "2     Connect your mobile device to the computer and...  ...  connect mobile device computer purchase cd lau...\n",
      "3     If you hang up on a telemarketer right away, y...  ...  hang telemarketer right away will probably pla...\n",
      "4     Before you pay for an online course, you shoul...  ...  pay online course realistic ability manage tim...\n",
      "...                                                 ...  ...                                                ...\n",
      "5572  If you have already built up experience workin...  ...  build experience work doctor office hospital u...\n",
      "5573  It is usually shelved alongside other garden f...  ...  usually shelve alongside garden fertilizer for...\n",
      "5574  If you look at music and the different categor...  ...  look music different category music alternativ...\n",
      "5575  Pour 2 tablespoons of the olive oil into a ski...  ...  pour tablespoon olive oil skillet heat medium ...\n",
      "5576  According to Merriam Webster, common sense is ...  ...  accord merriam webster common sense exercise s...\n",
      "\n",
      "[5577 rows x 4 columns]\n"
     ]
    },
    {
     "name": "stderr",
     "output_type": "stream",
     "text": [
      "/usr/local/lib/python3.7/dist-packages/sklearn/utils/deprecation.py:87: FutureWarning: Function get_feature_names is deprecated; get_feature_names is deprecated in 1.0 and will be removed in 1.2. Please use get_feature_names_out instead.\n",
      "  warnings.warn(msg, category=FutureWarning)\n"
     ]
    }
   ],
   "source": [
    "docs = list(df['lemmatized'].values)\n",
    "vec = CountVectorizer()\n",
    "X = vec.fit_transform(docs)\n",
    "df_doc = pd.DataFrame(X.toarray(), columns=vec.get_feature_names())\n",
    "print(df)"
   ]
  },
  {
   "cell_type": "code",
   "execution_count": null,
   "metadata": {
    "colab": {
     "base_uri": "https://localhost:8080/"
    },
    "executionInfo": {
     "elapsed": 937,
     "status": "ok",
     "timestamp": 1637960500863,
     "user": {
      "displayName": "Ruslan Mammadov",
      "photoUrl": "https://lh3.googleusercontent.com/a/default-user=s64",
      "userId": "03871087646573601592"
     },
     "user_tz": -60
    },
    "id": "fqnRUJudh3MI",
    "outputId": "bef62b35-6399-4dcb-dc97-a9f33ce1f891"
   },
   "outputs": [
    {
     "data": {
      "text/plain": [
       "aa                  7\n",
       "aaa                 8\n",
       "aaaaaah             1\n",
       "aaaaahhhh           1\n",
       "aaah                1\n",
       "                   ..\n",
       "zurlo               1\n",
       "zweilous            1\n",
       "zyflonlongacting    1\n",
       "zyrtec              2\n",
       "zzzs                1\n",
       "Length: 86094, dtype: int64"
      ]
     },
     "execution_count": 38,
     "metadata": {},
     "output_type": "execute_result"
    }
   ],
   "source": [
    "df_doc.sum()"
   ]
  },
  {
   "cell_type": "code",
   "execution_count": null,
   "metadata": {
    "id": "lVS_JuH7h-1P"
   },
   "outputs": [],
   "source": [
    "df['polarity']=df['lemmatized'].apply(lambda x:TextBlob(x).sentiment.polarity)"
   ]
  },
  {
   "cell_type": "code",
   "execution_count": null,
   "metadata": {
    "colab": {
     "base_uri": "https://localhost:8080/",
     "height": 161
    },
    "executionInfo": {
     "elapsed": 379,
     "status": "ok",
     "timestamp": 1637960608853,
     "user": {
      "displayName": "Ruslan Mammadov",
      "photoUrl": "https://lh3.googleusercontent.com/a/default-user=s64",
      "userId": "03871087646573601592"
     },
     "user_tz": -60
    },
    "id": "eZbmgCA4iTE9",
    "outputId": "7cad8d50-1cdf-4274-f746-caf887d14bbd"
   },
   "outputs": [
    {
     "name": "stdout",
     "output_type": "stream",
     "text": [
      "3 Random Reviews with Highest Polarity:\n"
     ]
    },
    {
     "data": {
      "text/html": [
       "<div>\n",
       "<style scoped>\n",
       "    .dataframe tbody tr th:only-of-type {\n",
       "        vertical-align: middle;\n",
       "    }\n",
       "\n",
       "    .dataframe tbody tr th {\n",
       "        vertical-align: top;\n",
       "    }\n",
       "\n",
       "    .dataframe thead th {\n",
       "        text-align: right;\n",
       "    }\n",
       "</style>\n",
       "<table border=\"1\" class=\"dataframe\">\n",
       "  <thead>\n",
       "    <tr style=\"text-align: right;\">\n",
       "      <th></th>\n",
       "      <th>text</th>\n",
       "      <th>word_count</th>\n",
       "      <th>cleaned</th>\n",
       "      <th>lemmatized</th>\n",
       "      <th>polarity</th>\n",
       "    </tr>\n",
       "  </thead>\n",
       "  <tbody>\n",
       "    <tr>\n",
       "      <th>3107</th>\n",
       "      <td>They can penalize you for not addressing them ...</td>\n",
       "      <td>148</td>\n",
       "      <td>they can penalize you for not addressing them ...</td>\n",
       "      <td>penalize address chairman say thank receive ca...</td>\n",
       "      <td>0.8</td>\n",
       "    </tr>\n",
       "    <tr>\n",
       "      <th>3026</th>\n",
       "      <td>While Viber will allow you to call and text ov...</td>\n",
       "      <td>97</td>\n",
       "      <td>while viber will allow you to call and text ov...</td>\n",
       "      <td>viber allow text wifi require receive end vibe...</td>\n",
       "      <td>0.8</td>\n",
       "    </tr>\n",
       "    <tr>\n",
       "      <th>3065</th>\n",
       "      <td>You only have to be level 2, then she will tel...</td>\n",
       "      <td>75</td>\n",
       "      <td>you only have to be level then she will tell y...</td>\n",
       "      <td>level tell cavenher follower protect shrine tu...</td>\n",
       "      <td>0.7</td>\n",
       "    </tr>\n",
       "  </tbody>\n",
       "</table>\n",
       "</div>"
      ],
      "text/plain": [
       "                                                   text  ...  polarity\n",
       "3107  They can penalize you for not addressing them ...  ...       0.8\n",
       "3026  While Viber will allow you to call and text ov...  ...       0.8\n",
       "3065  You only have to be level 2, then she will tel...  ...       0.7\n",
       "\n",
       "[3 rows x 5 columns]"
      ]
     },
     "execution_count": 44,
     "metadata": {},
     "output_type": "execute_result"
    }
   ],
   "source": [
    "print(\"3 Random Reviews with Highest Polarity:\")\n",
    "df.iloc[df['polarity'].sort_values(ascending=False)[:3].index]"
   ]
  },
  {
   "cell_type": "code",
   "execution_count": null,
   "metadata": {
    "colab": {
     "base_uri": "https://localhost:8080/"
    },
    "executionInfo": {
     "elapsed": 27074,
     "status": "ok",
     "timestamp": 1637960643206,
     "user": {
      "displayName": "Ruslan Mammadov",
      "photoUrl": "https://lh3.googleusercontent.com/a/default-user=s64",
      "userId": "03871087646573601592"
     },
     "user_tz": -60
    },
    "id": "LqB7D3o2ip_u",
    "outputId": "3e5b3b46-5cb0-4e9a-e61f-27dd2868e569"
   },
   "outputs": [
    {
     "name": "stdout",
     "output_type": "stream",
     "text": [
      "Dale Chall Score of upvoted reviews=> 8.33775327236865\n",
      "Flesch Reading Score of upvoted reviews=> 54.863150439304114\n",
      "Gunning Fog Index of upvoted reviews=> 15.334755244755303\n"
     ]
    }
   ],
   "source": [
    "df['dale_chall_score']=df['text'].apply(lambda x: textstat.dale_chall_readability_score(x))\n",
    "df['flesh_reading_ease']=df['text'].apply(lambda x: textstat.flesch_reading_ease(x))\n",
    "df['gunning_fog']=df['text'].apply(lambda x: textstat.gunning_fog(x))\n",
    "\n",
    "print('Dale Chall Score of upvoted reviews=>',df['dale_chall_score'].mean())\n",
    "\n",
    "print('Flesch Reading Score of upvoted reviews=>',df['flesh_reading_ease'].mean())\n",
    "\n",
    "print('Gunning Fog Index of upvoted reviews=>',df['gunning_fog'].mean())"
   ]
  },
  {
   "cell_type": "code",
   "execution_count": null,
   "metadata": {
    "colab": {
     "base_uri": "https://localhost:8080/"
    },
    "executionInfo": {
     "elapsed": 22444,
     "status": "ok",
     "timestamp": 1637960666356,
     "user": {
      "displayName": "Ruslan Mammadov",
      "photoUrl": "https://lh3.googleusercontent.com/a/default-user=s64",
      "userId": "03871087646573601592"
     },
     "user_tz": -60
    },
    "id": "iqegW1Smji6f",
    "outputId": "e96feb2b-26e6-49b2-80b4-5764ec26458b"
   },
   "outputs": [
    {
     "name": "stdout",
     "output_type": "stream",
     "text": [
      "Text Standard 0    7th and 8th grade\n",
      "dtype: object\n"
     ]
    }
   ],
   "source": [
    "df['text_standard']=df['text'].apply(lambda x: textstat.text_standard(x))\n",
    "\n",
    "print('Text Standard',df['text_standard'].mode())"
   ]
  },
  {
   "cell_type": "markdown",
   "metadata": {
    "id": "fq0YDx3WbmSo"
   },
   "source": [
    "### Evaluation "
   ]
  },
  {
   "cell_type": "markdown",
   "metadata": {
    "id": "MVU1CiDYbsQs"
   },
   "source": [
    "In general:\n",
    "\n",
    "Bleu measures precision: how much the words (and/or n-grams) in the machine generated summaries appeared in the human reference summaries.\n",
    "\n",
    "Rouge measures recall: how much the words (and/or n-grams) in the human reference summaries appeared in the machine generated summaries.\n",
    "\n",
    "Naturally - these results are complementing, as is often the case in precision vs recall. If you have many words/ngrams from the system results appearing in the human references you will have high Bleu, and if you have many words/ngrams from the human references appearing in the system results you will have high Rouge.\n",
    "\n",
    "There's something called brevity penalty, which is quite important and has already been added to standard Bleu implementations. It penalizes system results which are shorter than the general length of a reference (read more about it here). This complements the n-gram metric behavior which in effect penalizes longer than reference results, since the denominator grows the longer the system result is.\n",
    "\n",
    "You could also implement something similar for Rouge, but this time penalizing system results which are longer than the general reference length, which would otherwise enable them to obtain artificially higher Rouge scores (since the longer the result, the higher the chance you would hit some word appearing in the references). In Rouge we divide by the length of the human references, so we would need an additional penalty for longer system results which could artificially raise their Rouge score.\n",
    "\n",
    "Finally, you could use the F1 measure to make the metrics work together: F1 = 2 * (Bleu * Rouge) / (Bleu + Rouge)"
   ]
  }
 ],
 "metadata": {
  "colab": {
   "collapsed_sections": [],
   "name": "Wikihow Dataset.ipynb",
   "provenance": []
  },
  "kernelspec": {
   "display_name": "Python 3",
   "language": "python",
   "name": "python3"
  },
  "language_info": {
   "codemirror_mode": {
    "name": "ipython",
    "version": 3
   },
   "file_extension": ".py",
   "mimetype": "text/x-python",
   "name": "python",
   "nbconvert_exporter": "python",
   "pygments_lexer": "ipython3",
   "version": "3.8.8"
  }
 },
 "nbformat": 4,
 "nbformat_minor": 1
}
