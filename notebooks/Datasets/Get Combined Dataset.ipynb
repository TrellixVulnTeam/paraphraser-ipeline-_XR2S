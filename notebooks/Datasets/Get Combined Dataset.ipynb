{
 "cells": [
  {
   "cell_type": "markdown",
   "id": "F9cr4vvTUCy1",
   "metadata": {
    "id": "F9cr4vvTUCy1"
   },
   "source": [
    "# Get combined dataset\n",
    "\n",
    "Authors: Eneko Ruiz \\<eneko.ruiz@ehu.eus\\>\n",
    "\n",
    "Copyright (C) 2021 Eneko Ruiz and DynaGroup i.T. GmbH"
   ]
  },
  {
   "cell_type": "code",
   "execution_count": null,
   "id": "csMBot7BT_ix",
   "metadata": {
    "id": "csMBot7BT_ix"
   },
   "outputs": [],
   "source": [
    "from google.colab import drive\n",
    "drive.mount('/content/drive')"
   ]
  },
  {
   "cell_type": "code",
   "execution_count": null,
   "id": "52OzfEruw93L",
   "metadata": {
    "id": "52OzfEruw93L"
   },
   "outputs": [],
   "source": [
    "!pip install datasets > /dev/null\n",
    "!pip install contractions > /dev/null"
   ]
  },
  {
   "cell_type": "code",
   "execution_count": null,
   "id": "36ad383f",
   "metadata": {
    "id": "36ad383f"
   },
   "outputs": [],
   "source": [
    "from datasets import concatenate_datasets, load_dataset\n",
    "import numpy as np\n",
    "import pandas as pd\n",
    "import os\n",
    "import contractions\n",
    "from xml.dom import minidom\n",
    "import xml.etree.ElementTree as ET\n",
    "from sklearn.model_selection import train_test_split"
   ]
  },
  {
   "cell_type": "code",
   "execution_count": null,
   "id": "HyIpkTc-1X4m",
   "metadata": {
    "id": "HyIpkTc-1X4m"
   },
   "outputs": [],
   "source": [
    "raw_data_path = \"/content/drive/MyDrive/Paraphrasing API/datasets/eneko/raw_dataset\"\n",
    "data_path = \"/content/drive/MyDrive/Paraphrasing API/datasets/eneko/data\"\n",
    "combined_data_path = \"/content/drive/MyDrive/Paraphrasing API/datasets/eneko\""
   ]
  },
  {
   "cell_type": "code",
   "execution_count": null,
   "id": "854e1c7e",
   "metadata": {
    "colab": {
     "base_uri": "https://localhost:8080/"
    },
    "executionInfo": {
     "elapsed": 37559,
     "status": "ok",
     "timestamp": 1637538035162,
     "user": {
      "displayName": "Ruslan Mammadov",
      "photoUrl": "https://lh3.googleusercontent.com/a/default-user=s64",
      "userId": "03871087646573601592"
     },
     "user_tz": -60
    },
    "id": "854e1c7e",
    "outputId": "fbc0b2d7-9b97-41ea-c5fb-d5a4b356549c"
   },
   "outputs": [
    {
     "name": "stderr",
     "output_type": "stream",
     "text": [
      "Using custom data configuration default\n",
      "Reusing dataset quora (/root/.cache/huggingface/datasets/quora/default/0.0.0/36ba4cd42107f051a158016f1bea6ae3f4685c5df843529108a54e42d86c1e04)\n",
      "Loading cached processed dataset at /root/.cache/huggingface/datasets/quora/default/0.0.0/36ba4cd42107f051a158016f1bea6ae3f4685c5df843529108a54e42d86c1e04/cache-4f77793f58a82c42.arrow\n"
     ]
    }
   ],
   "source": [
    "# Quora (has no train-test-val split, has to be done manually)\n",
    "quora_dataset = load_dataset(\"quora\", split=\"train\").filter(lambda x: x['is_duplicate'] == True)\n",
    "quora_lst = []\n",
    "\n",
    "for i in range(len(quora_dataset)):\n",
    "    k = quora_dataset[i]['questions']['text'][0]\n",
    "    v = quora_dataset[i]['questions']['text'][1]\n",
    "    quora_lst.append([k, v])\n",
    "\n",
    "\n",
    "pd_quora = pd.DataFrame(quora_lst,columns=[\"sentence\", \"paraphrase\"])"
   ]
  },
  {
   "cell_type": "code",
   "execution_count": null,
   "id": "11caf8b0",
   "metadata": {
    "colab": {
     "base_uri": "https://localhost:8080/",
     "height": 138,
     "referenced_widgets": [
      "251df420d291445aa046a6961506a606",
      "1b8ca1fe40e94b84aea3cf8b1db91ad9",
      "bfe0a297a102447d8560100c0443eb80",
      "1ee536b039474b8ca73582a83d62fb25",
      "3e8339576fe34240a85ad9a1d8954652",
      "e738911c96124f11a35914ef483cb8fa",
      "aa47ee3739c7472b855ef2752abaf6f3",
      "ab939105dc2d4c2fa143385bee3ad9dc",
      "c95dec800299440a9da63dae2a7331ad",
      "364948ff7e404b7782fda58d64933105",
      "2b118a36205448c9bf1d9fde4b1e54b5"
     ]
    },
    "executionInfo": {
     "elapsed": 1344,
     "status": "ok",
     "timestamp": 1637538036497,
     "user": {
      "displayName": "Ruslan Mammadov",
      "photoUrl": "https://lh3.googleusercontent.com/a/default-user=s64",
      "userId": "03871087646573601592"
     },
     "user_tz": -60
    },
    "id": "11caf8b0",
    "outputId": "cc4ada16-0292-4d64-eadd-a7ba98a88bcb"
   },
   "outputs": [
    {
     "name": "stderr",
     "output_type": "stream",
     "text": [
      "Reusing dataset paws (/root/.cache/huggingface/datasets/paws/labeled_final/1.1.0/09d8fae989bb569009a8f5b879ccf2924d3e5cd55bfe2e89e6dab1c0b50ecd34)\n"
     ]
    },
    {
     "data": {
      "application/vnd.jupyter.widget-view+json": {
       "model_id": "251df420d291445aa046a6961506a606",
       "version_major": 2,
       "version_minor": 0
      },
      "text/plain": [
       "  0%|          | 0/3 [00:00<?, ?it/s]"
      ]
     },
     "metadata": {},
     "output_type": "display_data"
    },
    {
     "name": "stderr",
     "output_type": "stream",
     "text": [
      "Loading cached processed dataset at /root/.cache/huggingface/datasets/paws/labeled_final/1.1.0/09d8fae989bb569009a8f5b879ccf2924d3e5cd55bfe2e89e6dab1c0b50ecd34/cache-b80641487074cc5f.arrow\n",
      "Loading cached processed dataset at /root/.cache/huggingface/datasets/paws/labeled_final/1.1.0/09d8fae989bb569009a8f5b879ccf2924d3e5cd55bfe2e89e6dab1c0b50ecd34/cache-ca6b4eee67b51efc.arrow\n",
      "Loading cached processed dataset at /root/.cache/huggingface/datasets/paws/labeled_final/1.1.0/09d8fae989bb569009a8f5b879ccf2924d3e5cd55bfe2e89e6dab1c0b50ecd34/cache-864e08398d1cbaec.arrow\n"
     ]
    }
   ],
   "source": [
    "# PAWS (it has splits)\n",
    "paws_dataset = load_dataset(\"paws\", \"labeled_final\").filter(lambda x: x['label'] == 1)\n",
    "paws_train = paws_dataset[\"train\"]\n",
    "paws_test = paws_dataset[\"test\"]\n",
    "paws_eval = paws_dataset[\"test\"]\n",
    "paws = concatenate_datasets([paws_train, paws_test, paws_eval])\n",
    "\n",
    "\n",
    "df_paws = paws.to_pandas()\n",
    "df_paws = df_paws.drop([\"id\", \"label\"], axis=1).rename(columns={\"sentence1\": \"sentence\", \"sentence2\": \"paraphrase\"})"
   ]
  },
  {
   "cell_type": "markdown",
   "id": "d58a6d78",
   "metadata": {
    "id": "d58a6d78"
   },
   "source": [
    "It seems they are the only available datasets on HuggingFace"
   ]
  },
  {
   "cell_type": "code",
   "execution_count": null,
   "id": "b1dd6756",
   "metadata": {
    "id": "b1dd6756"
   },
   "outputs": [],
   "source": [
    "# Download MSRP\n",
    "# ! wget -O \"msr_train.txt\" \"https://github.com/wasiahmad/paraphrase_identification/blob/master/dataset/msr-paraphrase-corpus/msr_paraphrase_train.txt\" \n",
    "# ! wget -O \"msr_test.txt\" \"https://github.com/wasiahmad/paraphrase_identification/blob/master/dataset/msr-paraphrase-corpus/msr_paraphrase_train.txt\" \n",
    "# ! mv \"msr_train.txt\" \"/content/drive/MyDrive/Paraphrasing API/datasets/eneko/dataset/\"\n",
    "# ! mv \"msr_test.txt\" \"/content/drive/MyDrive/Paraphrasing API/datasets/eneko/dataset/\""
   ]
  },
  {
   "cell_type": "code",
   "execution_count": null,
   "id": "2a372c45",
   "metadata": {
    "id": "2a372c45"
   },
   "outputs": [],
   "source": [
    "# Download ParaNMT\n",
    "# ! wget \"http://www.cs.cmu.edu/~jwieting/para-nmt-50m-demo.zip\"\n",
    "# ! unzip -d para-nmt-50m-demo.zip && rm para-nmt-50m-demo.zip"
   ]
  },
  {
   "cell_type": "code",
   "execution_count": null,
   "id": "36e4b888",
   "metadata": {
    "id": "36e4b888"
   },
   "outputs": [],
   "source": [
    "msrp_distributes_dir = os.path.join(data_path, \"msrp_distribute\")\n",
    "sentences_msrp = os.path.join(msrp_distributes_dir, \"phrases.txt\")\n",
    "phrase_groups_msrp = os.path.join(msrp_distributes_dir, \"phrase_groups.csv\")\n",
    "\n",
    "df = pd.read_csv(phrase_groups_msrp, header = 0)\n",
    "data_dict_msrp = dict()\n",
    "\n",
    "for index, row in df.iterrows():\n",
    "    paraphrase_group_index = row['paraphrase_group_index']\n",
    "    phrase_index = row['phrase_index']\n",
    "    if paraphrase_group_index not in data_dict_msrp.keys():\n",
    "        data_dict_msrp[paraphrase_group_index] = [phrase_index]\n",
    "    else:\n",
    "        data_dict_msrp[paraphrase_group_index].append(phrase_index)\n",
    "\n",
    "keys_group_phrases_msrp = list(data_dict_msrp.values())\n",
    "sentences_msrp = np.loadtxt(sentences_msrp, delimiter=\"\\n\", dtype=str)\n",
    "\n",
    "sentences_map_msrp = [list(sentences_msrp[keys_group_phrases_msrp[i]]) for i in range(len(keys_group_phrases_msrp))]\n",
    "df_msrp = pd.DataFrame(columns=[\"sentence\", \"paraphrase\"])\n",
    "i = 0\n",
    "for sentence_tuple in sentences_map_msrp:\n",
    "    for paraphrase in sentence_tuple[1:]:\n",
    "        df_msrp.loc[i] = [sentence_tuple[0], paraphrase]\n",
    "        i += 1"
   ]
  },
  {
   "cell_type": "code",
   "execution_count": null,
   "id": "6afa73c4",
   "metadata": {
    "id": "6afa73c4"
   },
   "outputs": [],
   "source": [
    "opinosis_dir = os.path.join(data_path, \"opinosis_distribute\")\n",
    "sentences_opinosis = os.path.join(opinosis_dir, \"phrases.txt\")\n",
    "phrase_groups_opinosis = os.path.join(opinosis_dir, \"phrase_groups.csv\")\n",
    "\n",
    "df = pd.read_csv(phrase_groups_opinosis, header = 0)\n",
    "data_dict_opinosis = dict()\n",
    "\n",
    "for index, row in df.iterrows():\n",
    "    paraphrase_group_index = row['paraphrase_group_index']\n",
    "    phrase_index = row['phrase_index']    \n",
    "    if paraphrase_group_index not in data_dict_opinosis.keys():\n",
    "        data_dict_opinosis[paraphrase_group_index] = [phrase_index]\n",
    "    else:\n",
    "        data_dict_opinosis[paraphrase_group_index].append(phrase_index)\n",
    "\n",
    "keys_group_phrases_opinosis = list(data_dict_opinosis.values())\n",
    "sentences_opinosis = np.loadtxt(sentences_opinosis, delimiter=\"\\n\", dtype=str)\n",
    "\n",
    "sentences_map_opinosis = [list(sentences_opinosis[keys_group_phrases_opinosis[i]]) for i in range(len(keys_group_phrases_opinosis))]\n",
    "df_opinosis  = pd.DataFrame(columns=[\"sentence\", \"paraphrase\"])\n",
    "i = 0\n",
    "for sentence_tuple in sentences_map_opinosis:\n",
    "    for paraphrase in sentence_tuple[1:]:\n",
    "        df_opinosis.loc[i] = [sentence_tuple[0], paraphrase]\n",
    "        i += 1"
   ]
  },
  {
   "cell_type": "code",
   "execution_count": null,
   "id": "0a929cb2",
   "metadata": {
    "id": "0a929cb2"
   },
   "outputs": [],
   "source": [
    "# This required a loooooot of RAM and probably going to crash\n",
    "# sentences_paranmt = os.path.join(data_path, \"para-nmt-5m-processed.txt\")\n",
    "# para_nmt = np.genfromtxt(sentences_paranmt, delimiter=\"\\t\", dtype=str, missing_values=\"1997\", invalid_raise = False)"
   ]
  },
  {
   "cell_type": "code",
   "execution_count": null,
   "id": "56be7135",
   "metadata": {
    "id": "56be7135"
   },
   "outputs": [],
   "source": [
    "sentences_good = os.path.join(data_path, \"data_good\")\n",
    "\n",
    "p4p_dir = os.path.join(sentences_good, \"P4P_corpus_v1.xml\")\n",
    "etpc_dir = os.path.join(sentences_good, \"text_pairs.xml\")\n",
    "\n",
    "data_p4p = minidom.parse(p4p_dir)\n",
    "items = data_p4p.getElementsByTagName('relacio')\n",
    "\n",
    "data_p4p = []\n",
    "\n",
    "for i, elem in enumerate(items):\n",
    "    atributes = elem.getElementsByTagName(\"frase\")\n",
    "    k = 0\n",
    "    aux_lst = []\n",
    "    for atr in atributes:\n",
    "        k += 1\n",
    "        aux_lst.append(atr.firstChild.nodeValue)\n",
    "        if k == 2:\n",
    "            data_p4p.append(aux_lst)\n",
    "            break\n",
    "            \n",
    "df_p4p = pd.DataFrame(data_p4p, columns=[\"sentence\", \"paraphrase\"])"
   ]
  },
  {
   "cell_type": "code",
   "execution_count": null,
   "id": "80d56201",
   "metadata": {
    "id": "80d56201"
   },
   "outputs": [],
   "source": [
    "tree = ET.parse(etpc_dir)\n",
    "root = tree.getroot()\n",
    "\n",
    "data_etpc = []\n",
    "\n",
    "for i in range(len(root)):\n",
    "    frase1 = root[i][4].text\n",
    "    frase2 = root[i][5].text\n",
    "    data_etpc.append([frase1, frase2])\n",
    "\n",
    "df_etpc = pd.DataFrame(data_etpc, columns=[\"sentence\", \"paraphrase\"])"
   ]
  },
  {
   "cell_type": "code",
   "execution_count": null,
   "id": "e85d1677",
   "metadata": {
    "id": "e85d1677"
   },
   "outputs": [],
   "source": [
    "size_questions = len(pd_quora)\n",
    "size_sentences = len(df_opinosis) + len(df_msrp) + len(df_paws) + len(df_etpc) + len(df_p4p)\n",
    "frac = size_sentences / size_questions\n",
    "\n",
    "difference = size_questions - size_sentences\n",
    "proportion = 1 / 4"
   ]
  },
  {
   "cell_type": "code",
   "execution_count": 1,
   "id": "87f243bd",
   "metadata": {
    "executionInfo": {
     "elapsed": 9,
     "status": "ok",
     "timestamp": 1637964810222,
     "user": {
      "displayName": "Ruslan Mammadov",
      "photoUrl": "https://lh3.googleusercontent.com/a/default-user=s64",
      "userId": "03871087646573601592"
     },
     "user_tz": -60
    },
    "id": "87f243bd"
   },
   "outputs": [],
   "source": [
    "# FIRST APPROACH --> AUGMENT DATASET WITH NMT DATA\n",
    "number_instances = int(difference / proportion)\n",
    "idx = np.random.randint(low=0, high=len(para_nmt), size=number_instances)\n",
    "\n",
    "para_nmt_shuffle = list(para_nmt[idx])\n",
    "df_nmt = pd.DataFrame(para_nmt_shuffle, columns=[\"sentence\", \"paraphrase\"])\n",
    "\n",
    "df = pd.concat([pd_quora, df_opinosis, df_msrp, df_paws, df_nmt, df_etpc, df_p4p])\n",
    "df = df.sample(frac=1).reset_index(drop=True)\n",
    "dir_save = os.path.join(combined_data_path, \"augmented_raw_text.csv\")\n",
    "df.to_csv(dir_save)  "
   ]
  },
  {
   "cell_type": "code",
   "execution_count": null,
   "id": "bd5efecb",
   "metadata": {
    "id": "bd5efecb"
   },
   "outputs": [],
   "source": [
    "# SECOND APPROACH --> REDUCE THE SIZE OF QUORA QUESTIONS\n",
    "df_quora_reduced = pd_quora.sample(frac=frac * proportion).reset_index(drop=True)\n",
    "\n",
    "df = pd.concat([df_quora_reduced, df_opinosis, df_msrp, df_paws, df_etpc, df_p4p])\n",
    "df = df.sample(frac=1).reset_index(drop=True)\n",
    "\n",
    "dir_save = os.path.join(combined_data_path, \"reduced_raw_text.csv\")\n",
    "df.to_csv(dir_save)  \n",
    "\n",
    "df_train, df_test_whole = train_test_split(df, train_size=0.80, shuffle=True, random_state=42)\n",
    "df_val, df_test  = train_test_split(df_test_whole, test_size=0.05/0.20, shuffle=True, random_state=42)\n",
    "\n",
    "df_train.to_csv(f\"{combined_data_path}/reduced_raw_text_train.csv\")\n",
    "df_val.to_csv(f\"{combined_data_path}/reduced_raw_text_val.csv\")\n",
    "df_test.to_csv(f\"{combined_data_path}/reduced_raw_text_test.csv\")"
   ]
  },
  {
   "cell_type": "code",
   "execution_count": null,
   "id": "xq87yJVX7iE-",
   "metadata": {
    "colab": {
     "base_uri": "https://localhost:8080/"
    },
    "executionInfo": {
     "elapsed": 378,
     "status": "ok",
     "timestamp": 1637539986496,
     "user": {
      "displayName": "Ruslan Mammadov",
      "photoUrl": "https://lh3.googleusercontent.com/a/default-user=s64",
      "userId": "03871087646573601592"
     },
     "user_tz": -60
    },
    "id": "xq87yJVX7iE-",
    "outputId": "07951885-5754-44f1-b26d-7be63cea3019"
   },
   "outputs": [
    {
     "data": {
      "text/plain": [
       "45811"
      ]
     },
     "execution_count": 46,
     "metadata": {},
     "output_type": "execute_result"
    }
   ],
   "source": [
    "len(df)"
   ]
  }
 ],
 "metadata": {
  "colab": {
   "collapsed_sections": [],
   "machine_shape": "hm",
   "name": "Get Combined Dataset.ipynb",
   "provenance": []
  },
  "kernelspec": {
   "display_name": "Python (ox)",
   "language": "python",
   "name": "ox"
  },
  "language_info": {
   "codemirror_mode": {
    "name": "ipython",
    "version": 3
   },
   "file_extension": ".py",
   "mimetype": "text/x-python",
   "name": "python",
   "nbconvert_exporter": "python",
   "pygments_lexer": "ipython3",
   "version": "3.8.1"
  },
  "widgets": {
   "application/vnd.jupyter.widget-state+json": {
    "1b8ca1fe40e94b84aea3cf8b1db91ad9": {
     "model_module": "@jupyter-widgets/base",
     "model_module_version": "1.2.0",
     "model_name": "LayoutModel",
     "state": {
      "_model_module": "@jupyter-widgets/base",
      "_model_module_version": "1.2.0",
      "_model_name": "LayoutModel",
      "_view_count": null,
      "_view_module": "@jupyter-widgets/base",
      "_view_module_version": "1.2.0",
      "_view_name": "LayoutView",
      "align_content": null,
      "align_items": null,
      "align_self": null,
      "border": null,
      "bottom": null,
      "display": null,
      "flex": null,
      "flex_flow": null,
      "grid_area": null,
      "grid_auto_columns": null,
      "grid_auto_flow": null,
      "grid_auto_rows": null,
      "grid_column": null,
      "grid_gap": null,
      "grid_row": null,
      "grid_template_areas": null,
      "grid_template_columns": null,
      "grid_template_rows": null,
      "height": null,
      "justify_content": null,
      "justify_items": null,
      "left": null,
      "margin": null,
      "max_height": null,
      "max_width": null,
      "min_height": null,
      "min_width": null,
      "object_fit": null,
      "object_position": null,
      "order": null,
      "overflow": null,
      "overflow_x": null,
      "overflow_y": null,
      "padding": null,
      "right": null,
      "top": null,
      "visibility": null,
      "width": null
     }
    },
    "1ee536b039474b8ca73582a83d62fb25": {
     "model_module": "@jupyter-widgets/controls",
     "model_module_version": "1.5.0",
     "model_name": "FloatProgressModel",
     "state": {
      "_dom_classes": [],
      "_model_module": "@jupyter-widgets/controls",
      "_model_module_version": "1.5.0",
      "_model_name": "FloatProgressModel",
      "_view_count": null,
      "_view_module": "@jupyter-widgets/controls",
      "_view_module_version": "1.5.0",
      "_view_name": "ProgressView",
      "bar_style": "success",
      "description": "",
      "description_tooltip": null,
      "layout": "IPY_MODEL_c95dec800299440a9da63dae2a7331ad",
      "max": 3,
      "min": 0,
      "orientation": "horizontal",
      "style": "IPY_MODEL_ab939105dc2d4c2fa143385bee3ad9dc",
      "value": 3
     }
    },
    "251df420d291445aa046a6961506a606": {
     "model_module": "@jupyter-widgets/controls",
     "model_module_version": "1.5.0",
     "model_name": "HBoxModel",
     "state": {
      "_dom_classes": [],
      "_model_module": "@jupyter-widgets/controls",
      "_model_module_version": "1.5.0",
      "_model_name": "HBoxModel",
      "_view_count": null,
      "_view_module": "@jupyter-widgets/controls",
      "_view_module_version": "1.5.0",
      "_view_name": "HBoxView",
      "box_style": "",
      "children": [
       "IPY_MODEL_bfe0a297a102447d8560100c0443eb80",
       "IPY_MODEL_1ee536b039474b8ca73582a83d62fb25",
       "IPY_MODEL_3e8339576fe34240a85ad9a1d8954652"
      ],
      "layout": "IPY_MODEL_1b8ca1fe40e94b84aea3cf8b1db91ad9"
     }
    },
    "2b118a36205448c9bf1d9fde4b1e54b5": {
     "model_module": "@jupyter-widgets/base",
     "model_module_version": "1.2.0",
     "model_name": "LayoutModel",
     "state": {
      "_model_module": "@jupyter-widgets/base",
      "_model_module_version": "1.2.0",
      "_model_name": "LayoutModel",
      "_view_count": null,
      "_view_module": "@jupyter-widgets/base",
      "_view_module_version": "1.2.0",
      "_view_name": "LayoutView",
      "align_content": null,
      "align_items": null,
      "align_self": null,
      "border": null,
      "bottom": null,
      "display": null,
      "flex": null,
      "flex_flow": null,
      "grid_area": null,
      "grid_auto_columns": null,
      "grid_auto_flow": null,
      "grid_auto_rows": null,
      "grid_column": null,
      "grid_gap": null,
      "grid_row": null,
      "grid_template_areas": null,
      "grid_template_columns": null,
      "grid_template_rows": null,
      "height": null,
      "justify_content": null,
      "justify_items": null,
      "left": null,
      "margin": null,
      "max_height": null,
      "max_width": null,
      "min_height": null,
      "min_width": null,
      "object_fit": null,
      "object_position": null,
      "order": null,
      "overflow": null,
      "overflow_x": null,
      "overflow_y": null,
      "padding": null,
      "right": null,
      "top": null,
      "visibility": null,
      "width": null
     }
    },
    "364948ff7e404b7782fda58d64933105": {
     "model_module": "@jupyter-widgets/controls",
     "model_module_version": "1.5.0",
     "model_name": "DescriptionStyleModel",
     "state": {
      "_model_module": "@jupyter-widgets/controls",
      "_model_module_version": "1.5.0",
      "_model_name": "DescriptionStyleModel",
      "_view_count": null,
      "_view_module": "@jupyter-widgets/base",
      "_view_module_version": "1.2.0",
      "_view_name": "StyleView",
      "description_width": ""
     }
    },
    "3e8339576fe34240a85ad9a1d8954652": {
     "model_module": "@jupyter-widgets/controls",
     "model_module_version": "1.5.0",
     "model_name": "HTMLModel",
     "state": {
      "_dom_classes": [],
      "_model_module": "@jupyter-widgets/controls",
      "_model_module_version": "1.5.0",
      "_model_name": "HTMLModel",
      "_view_count": null,
      "_view_module": "@jupyter-widgets/controls",
      "_view_module_version": "1.5.0",
      "_view_name": "HTMLView",
      "description": "",
      "description_tooltip": null,
      "layout": "IPY_MODEL_2b118a36205448c9bf1d9fde4b1e54b5",
      "placeholder": "​",
      "style": "IPY_MODEL_364948ff7e404b7782fda58d64933105",
      "value": " 3/3 [00:00&lt;00:00,  7.44it/s]"
     }
    },
    "aa47ee3739c7472b855ef2752abaf6f3": {
     "model_module": "@jupyter-widgets/base",
     "model_module_version": "1.2.0",
     "model_name": "LayoutModel",
     "state": {
      "_model_module": "@jupyter-widgets/base",
      "_model_module_version": "1.2.0",
      "_model_name": "LayoutModel",
      "_view_count": null,
      "_view_module": "@jupyter-widgets/base",
      "_view_module_version": "1.2.0",
      "_view_name": "LayoutView",
      "align_content": null,
      "align_items": null,
      "align_self": null,
      "border": null,
      "bottom": null,
      "display": null,
      "flex": null,
      "flex_flow": null,
      "grid_area": null,
      "grid_auto_columns": null,
      "grid_auto_flow": null,
      "grid_auto_rows": null,
      "grid_column": null,
      "grid_gap": null,
      "grid_row": null,
      "grid_template_areas": null,
      "grid_template_columns": null,
      "grid_template_rows": null,
      "height": null,
      "justify_content": null,
      "justify_items": null,
      "left": null,
      "margin": null,
      "max_height": null,
      "max_width": null,
      "min_height": null,
      "min_width": null,
      "object_fit": null,
      "object_position": null,
      "order": null,
      "overflow": null,
      "overflow_x": null,
      "overflow_y": null,
      "padding": null,
      "right": null,
      "top": null,
      "visibility": null,
      "width": null
     }
    },
    "ab939105dc2d4c2fa143385bee3ad9dc": {
     "model_module": "@jupyter-widgets/controls",
     "model_module_version": "1.5.0",
     "model_name": "ProgressStyleModel",
     "state": {
      "_model_module": "@jupyter-widgets/controls",
      "_model_module_version": "1.5.0",
      "_model_name": "ProgressStyleModel",
      "_view_count": null,
      "_view_module": "@jupyter-widgets/base",
      "_view_module_version": "1.2.0",
      "_view_name": "StyleView",
      "bar_color": null,
      "description_width": ""
     }
    },
    "bfe0a297a102447d8560100c0443eb80": {
     "model_module": "@jupyter-widgets/controls",
     "model_module_version": "1.5.0",
     "model_name": "HTMLModel",
     "state": {
      "_dom_classes": [],
      "_model_module": "@jupyter-widgets/controls",
      "_model_module_version": "1.5.0",
      "_model_name": "HTMLModel",
      "_view_count": null,
      "_view_module": "@jupyter-widgets/controls",
      "_view_module_version": "1.5.0",
      "_view_name": "HTMLView",
      "description": "",
      "description_tooltip": null,
      "layout": "IPY_MODEL_aa47ee3739c7472b855ef2752abaf6f3",
      "placeholder": "​",
      "style": "IPY_MODEL_e738911c96124f11a35914ef483cb8fa",
      "value": "100%"
     }
    },
    "c95dec800299440a9da63dae2a7331ad": {
     "model_module": "@jupyter-widgets/base",
     "model_module_version": "1.2.0",
     "model_name": "LayoutModel",
     "state": {
      "_model_module": "@jupyter-widgets/base",
      "_model_module_version": "1.2.0",
      "_model_name": "LayoutModel",
      "_view_count": null,
      "_view_module": "@jupyter-widgets/base",
      "_view_module_version": "1.2.0",
      "_view_name": "LayoutView",
      "align_content": null,
      "align_items": null,
      "align_self": null,
      "border": null,
      "bottom": null,
      "display": null,
      "flex": null,
      "flex_flow": null,
      "grid_area": null,
      "grid_auto_columns": null,
      "grid_auto_flow": null,
      "grid_auto_rows": null,
      "grid_column": null,
      "grid_gap": null,
      "grid_row": null,
      "grid_template_areas": null,
      "grid_template_columns": null,
      "grid_template_rows": null,
      "height": null,
      "justify_content": null,
      "justify_items": null,
      "left": null,
      "margin": null,
      "max_height": null,
      "max_width": null,
      "min_height": null,
      "min_width": null,
      "object_fit": null,
      "object_position": null,
      "order": null,
      "overflow": null,
      "overflow_x": null,
      "overflow_y": null,
      "padding": null,
      "right": null,
      "top": null,
      "visibility": null,
      "width": null
     }
    },
    "e738911c96124f11a35914ef483cb8fa": {
     "model_module": "@jupyter-widgets/controls",
     "model_module_version": "1.5.0",
     "model_name": "DescriptionStyleModel",
     "state": {
      "_model_module": "@jupyter-widgets/controls",
      "_model_module_version": "1.5.0",
      "_model_name": "DescriptionStyleModel",
      "_view_count": null,
      "_view_module": "@jupyter-widgets/base",
      "_view_module_version": "1.2.0",
      "_view_name": "StyleView",
      "description_width": ""
     }
    }
   }
  }
 },
 "nbformat": 4,
 "nbformat_minor": 5
}
