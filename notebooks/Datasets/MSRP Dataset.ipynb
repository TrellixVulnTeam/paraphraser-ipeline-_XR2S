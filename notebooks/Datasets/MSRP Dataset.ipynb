{
 "cells": [
  {
   "cell_type": "markdown",
   "metadata": {
    "id": "dnGQ1mV2Ni82"
   },
   "source": [
    "# MSRP Dataset\n",
    "\n",
    "Author: Fatma Ben Ayed\n",
    "\n",
    "Copyright (C) 2021 Fatma Ben Ayed and DynaGroup i.T. GmbH"
   ]
  },
  {
   "cell_type": "code",
   "execution_count": null,
   "metadata": {
    "colab": {
     "base_uri": "https://localhost:8080/"
    },
    "id": "WqmZXODWnpJa",
    "outputId": "5fa99c47-c82d-4aec-dc8a-4a8ca03600eb"
   },
   "outputs": [
    {
     "name": "stdout",
     "output_type": "stream",
     "text": [
      "Mounted at /content/drive\n"
     ]
    }
   ],
   "source": [
    "from google.colab import drive\n",
    "drive.mount('/content/drive')"
   ]
  },
  {
   "cell_type": "code",
   "execution_count": null,
   "metadata": {
    "id": "cXz5wcmrn35z"
   },
   "outputs": [],
   "source": [
    "import numpy as np\n",
    "import pandas as pd"
   ]
  },
  {
   "cell_type": "markdown",
   "metadata": {
    "id": "-FrT3XPmu3Km"
   },
   "source": [
    "**Dataset**\n",
    "\n",
    "MRPC dataset a text file containing 5800 pairs of sentences which have been extracted from news sources on the web, along with human annotations indicating whether each pair captures a paraphrase/semantic equivalence relationship.\n",
    " * The column named Quality indicates whether the sentences are similar(1) or not (0). \n",
    " *\"#1 String\" and \"#2 String\" columns contain the sentences"
   ]
  },
  {
   "cell_type": "code",
   "execution_count": null,
   "metadata": {
    "id": "GTfE1LL1teb-"
   },
   "outputs": [],
   "source": [
    "with open('/content/drive/My Drive/Paraphrasing API/datasets/MSRP/msr_paraphrase_train.txt', \"r\") as file:\n",
    "  text = file.read()"
   ]
  },
  {
   "cell_type": "code",
   "execution_count": null,
   "metadata": {
    "colab": {
     "base_uri": "https://localhost:8080/"
    },
    "id": "ErLUTUnTR014",
    "outputId": "88a6b5f7-59df-43cb-8252-80bbe7cdd5d0"
   },
   "outputs": [
    {
     "data": {
      "text/plain": [
       "['\\ufeffQuality\\t#1 ID\\t#2 ID\\t#1 String\\t#2 String',\n",
       " '1\\t702876\\t702977\\tAmrozi accused his brother, whom he called \"the witness\", of deliberately distorting his evidence.\\tReferring to him as only \"the witness\", Amrozi accused his brother of deliberately distorting his evidence.',\n",
       " \"0\\t2108705\\t2108831\\tYucaipa owned Dominick's before selling the chain to Safeway in 1998 for $2.5 billion.\\tYucaipa bought Dominick's in 1995 for $693 million and sold it to Safeway for $1.8 billion in 1998.\",\n",
       " \"1\\t1330381\\t1330521\\tThey had published an advertisement on the Internet on June 10, offering the cargo for sale, he added.\\tOn June 10, the ship's owners had published an advertisement on the Internet, offering the explosives for sale.\"]"
      ]
     },
     "execution_count": 4,
     "metadata": {},
     "output_type": "execute_result"
    }
   ],
   "source": [
    "splitted_text = text.split('\\n')\n",
    "splitted_text[:4]"
   ]
  },
  {
   "cell_type": "code",
   "execution_count": null,
   "metadata": {
    "id": "tdpG0UOowA8D"
   },
   "outputs": [],
   "source": [
    "def extract_dataset(splitted_text):\n",
    "  s1=[]\n",
    "  s2=[]\n",
    "  quality=[]\n",
    "\n",
    "  # Ignore last sentence\n",
    "  for sentence in splitted_text:\n",
    "  value = sentence.split('\\t')\n",
    "  quality.append(value[0])\n",
    "  s1.append(value[3])\n",
    "  s2.append(value[4])\n",
    "\n",
    "  return pd.DataFrame({'Quality': quality, \"s1\": s1, \"s2\": s2})"
   ]
  },
  {
   "cell_type": "code",
   "execution_count": null,
   "metadata": {
    "colab": {
     "base_uri": "https://localhost:8080/",
     "height": 424
    },
    "id": "c7gUS1W5xTVd",
    "outputId": "00e98e09-0e43-4423-b021-88b020e4592c"
   },
   "outputs": [
    {
     "data": {
      "text/html": [
       "<div>\n",
       "<style scoped>\n",
       "    .dataframe tbody tr th:only-of-type {\n",
       "        vertical-align: middle;\n",
       "    }\n",
       "\n",
       "    .dataframe tbody tr th {\n",
       "        vertical-align: top;\n",
       "    }\n",
       "\n",
       "    .dataframe thead th {\n",
       "        text-align: right;\n",
       "    }\n",
       "</style>\n",
       "<table border=\"1\" class=\"dataframe\">\n",
       "  <thead>\n",
       "    <tr style=\"text-align: right;\">\n",
       "      <th></th>\n",
       "      <th>Quality</th>\n",
       "      <th>s1</th>\n",
       "      <th>s2</th>\n",
       "    </tr>\n",
       "  </thead>\n",
       "  <tbody>\n",
       "    <tr>\n",
       "      <th>0</th>\n",
       "      <td>﻿Quality</td>\n",
       "      <td>#1 String</td>\n",
       "      <td>#2 String</td>\n",
       "    </tr>\n",
       "    <tr>\n",
       "      <th>1</th>\n",
       "      <td>1</td>\n",
       "      <td>Amrozi accused his brother, whom he called \"th...</td>\n",
       "      <td>Referring to him as only \"the witness\", Amrozi...</td>\n",
       "    </tr>\n",
       "    <tr>\n",
       "      <th>2</th>\n",
       "      <td>0</td>\n",
       "      <td>Yucaipa owned Dominick's before selling the ch...</td>\n",
       "      <td>Yucaipa bought Dominick's in 1995 for $693 mil...</td>\n",
       "    </tr>\n",
       "    <tr>\n",
       "      <th>3</th>\n",
       "      <td>1</td>\n",
       "      <td>They had published an advertisement on the Int...</td>\n",
       "      <td>On June 10, the ship's owners had published an...</td>\n",
       "    </tr>\n",
       "    <tr>\n",
       "      <th>4</th>\n",
       "      <td>0</td>\n",
       "      <td>Around 0335 GMT, Tab shares were up 19 cents, ...</td>\n",
       "      <td>Tab shares jumped 20 cents, or 4.6%, to set a ...</td>\n",
       "    </tr>\n",
       "    <tr>\n",
       "      <th>...</th>\n",
       "      <td>...</td>\n",
       "      <td>...</td>\n",
       "      <td>...</td>\n",
       "    </tr>\n",
       "    <tr>\n",
       "      <th>4072</th>\n",
       "      <td>1</td>\n",
       "      <td>\"At this point, Mr. Brando announced: 'Somebod...</td>\n",
       "      <td>Brando said that \"somebody ought to put a bull...</td>\n",
       "    </tr>\n",
       "    <tr>\n",
       "      <th>4073</th>\n",
       "      <td>0</td>\n",
       "      <td>Martin, 58, will be freed today after serving ...</td>\n",
       "      <td>Martin served two thirds of a five-year senten...</td>\n",
       "    </tr>\n",
       "    <tr>\n",
       "      <th>4074</th>\n",
       "      <td>1</td>\n",
       "      <td>\"We have concluded that the outlook for price ...</td>\n",
       "      <td>In a statement, the ECB said the outlook for p...</td>\n",
       "    </tr>\n",
       "    <tr>\n",
       "      <th>4075</th>\n",
       "      <td>1</td>\n",
       "      <td>The notification was first reported Friday by ...</td>\n",
       "      <td>MSNBC.com first reported the CIA request on Fr...</td>\n",
       "    </tr>\n",
       "    <tr>\n",
       "      <th>4076</th>\n",
       "      <td>0</td>\n",
       "      <td>The 30-year bond US30YT=RR rose 22/32 for a yi...</td>\n",
       "      <td>The 30-year bond US30YT=RR grew 1-3/32 for a y...</td>\n",
       "    </tr>\n",
       "  </tbody>\n",
       "</table>\n",
       "<p>4077 rows × 3 columns</p>\n",
       "</div>"
      ],
      "text/plain": [
       "       Quality  ...                                                 s2\n",
       "0     ﻿Quality  ...                                          #2 String\n",
       "1            1  ...  Referring to him as only \"the witness\", Amrozi...\n",
       "2            0  ...  Yucaipa bought Dominick's in 1995 for $693 mil...\n",
       "3            1  ...  On June 10, the ship's owners had published an...\n",
       "4            0  ...  Tab shares jumped 20 cents, or 4.6%, to set a ...\n",
       "...        ...  ...                                                ...\n",
       "4072         1  ...  Brando said that \"somebody ought to put a bull...\n",
       "4073         0  ...  Martin served two thirds of a five-year senten...\n",
       "4074         1  ...  In a statement, the ECB said the outlook for p...\n",
       "4075         1  ...  MSNBC.com first reported the CIA request on Fr...\n",
       "4076         0  ...  The 30-year bond US30YT=RR grew 1-3/32 for a y...\n",
       "\n",
       "[4077 rows x 3 columns]"
      ]
     },
     "execution_count": 6,
     "metadata": {},
     "output_type": "execute_result"
    }
   ],
   "source": [
    "df = extract_dataset(splitted_text)\n",
    "df"
   ]
  },
  {
   "cell_type": "markdown",
   "metadata": {
    "id": "uBNuXFV8GE7L"
   },
   "source": [
    "Example of 2 sentences and their similaritiy"
   ]
  },
  {
   "cell_type": "code",
   "execution_count": null,
   "metadata": {
    "colab": {
     "base_uri": "https://localhost:8080/"
    },
    "id": "xdNgANUBGVrh",
    "outputId": "75ecfa52-527d-42de-ad39-6cf99951cba1"
   },
   "outputs": [
    {
     "data": {
      "text/plain": [
       "Quality                                                    1\n",
       "s1         Amrozi accused his brother, whom he called \"th...\n",
       "s2         Referring to him as only \"the witness\", Amrozi...\n",
       "Name: 1, dtype: object"
      ]
     },
     "execution_count": 7,
     "metadata": {},
     "output_type": "execute_result"
    }
   ],
   "source": [
    "df.iloc[1]"
   ]
  },
  {
   "cell_type": "code",
   "execution_count": null,
   "metadata": {
    "colab": {
     "base_uri": "https://localhost:8080/"
    },
    "id": "AQFaYd02HENb",
    "outputId": "6d9f207b-fcae-40e9-bdad-682f92b0febe"
   },
   "outputs": [
    {
     "name": "stdout",
     "output_type": "stream",
     "text": [
      "Amrozi accused his brother, whom he called \"the witness\", of deliberately distorting his evidence.\n",
      "Referring to him as only \"the witness\", Amrozi accused his brother of deliberately distorting his evidence.\n",
      "1\n"
     ]
    }
   ],
   "source": [
    "value = splitted_text[1].split('\\t')\n",
    "print(value[3])\n",
    "print(value[4])\n",
    "print(value[0])"
   ]
  },
  {
   "cell_type": "code",
   "execution_count": null,
   "metadata": {
    "colab": {
     "base_uri": "https://localhost:8080/"
    },
    "id": "s5wrKNYzJgv7",
    "outputId": "7e11e112-c9e8-4b5d-91a7-37cca1f9dc51"
   },
   "outputs": [
    {
     "name": "stdout",
     "output_type": "stream",
     "text": [
      "Number of Training records=4077\n"
     ]
    }
   ],
   "source": [
    "print(f\"Number of Training records = {len(df)}\")"
   ]
  },
  {
   "cell_type": "code",
   "execution_count": null,
   "metadata": {
    "id": "o2Tc0KQuO4Rd"
   },
   "outputs": [],
   "source": [
    "df.to_csv('/content/drive/My Drive/Paraphrasing API/datasets/MSRP/msrp-train.csv', encoding='utf-8', index=False)"
   ]
  },
  {
   "cell_type": "markdown",
   "metadata": {
    "id": "7raWWTLqcw1O"
   },
   "source": [
    "Test Dataset"
   ]
  },
  {
   "cell_type": "code",
   "execution_count": null,
   "metadata": {
    "id": "bgtrYSNQam7v"
   },
   "outputs": [],
   "source": [
    "with open('/content/drive/My Drive/Paraphrasing API/datasets/MSRP/msr_paraphrase_test.txt', \"r\") as file:\n",
    "  text = file.read()"
   ]
  },
  {
   "cell_type": "code",
   "execution_count": null,
   "metadata": {
    "colab": {
     "base_uri": "https://localhost:8080/",
     "height": 424
    },
    "id": "hhvkC4rJb-05",
    "outputId": "fb64e546-c42c-426d-9016-c6d36bfc972a"
   },
   "outputs": [
    {
     "data": {
      "text/html": [
       "<div>\n",
       "<style scoped>\n",
       "    .dataframe tbody tr th:only-of-type {\n",
       "        vertical-align: middle;\n",
       "    }\n",
       "\n",
       "    .dataframe tbody tr th {\n",
       "        vertical-align: top;\n",
       "    }\n",
       "\n",
       "    .dataframe thead th {\n",
       "        text-align: right;\n",
       "    }\n",
       "</style>\n",
       "<table border=\"1\" class=\"dataframe\">\n",
       "  <thead>\n",
       "    <tr style=\"text-align: right;\">\n",
       "      <th></th>\n",
       "      <th>Quality</th>\n",
       "      <th>s1</th>\n",
       "      <th>s2</th>\n",
       "    </tr>\n",
       "  </thead>\n",
       "  <tbody>\n",
       "    <tr>\n",
       "      <th>0</th>\n",
       "      <td>﻿Quality</td>\n",
       "      <td>#1 String</td>\n",
       "      <td>#2 String</td>\n",
       "    </tr>\n",
       "    <tr>\n",
       "      <th>1</th>\n",
       "      <td>1</td>\n",
       "      <td>PCCW's chief operating officer, Mike Butcher, ...</td>\n",
       "      <td>Current Chief Operating Officer Mike Butcher a...</td>\n",
       "    </tr>\n",
       "    <tr>\n",
       "      <th>2</th>\n",
       "      <td>1</td>\n",
       "      <td>The world's two largest automakers said their ...</td>\n",
       "      <td>Domestic sales at both GM and No. 2 Ford Motor...</td>\n",
       "    </tr>\n",
       "    <tr>\n",
       "      <th>3</th>\n",
       "      <td>1</td>\n",
       "      <td>According to the federal Centers for Disease C...</td>\n",
       "      <td>The Centers for Disease Control and Prevention...</td>\n",
       "    </tr>\n",
       "    <tr>\n",
       "      <th>4</th>\n",
       "      <td>0</td>\n",
       "      <td>A tropical storm rapidly developed in the Gulf...</td>\n",
       "      <td>A tropical storm rapidly developed in the Gulf...</td>\n",
       "    </tr>\n",
       "    <tr>\n",
       "      <th>...</th>\n",
       "      <td>...</td>\n",
       "      <td>...</td>\n",
       "      <td>...</td>\n",
       "    </tr>\n",
       "    <tr>\n",
       "      <th>1721</th>\n",
       "      <td>0</td>\n",
       "      <td>After Hughes refused to rehire Hernandez, he c...</td>\n",
       "      <td>Hernandez filed an Equal Employment Opportunit...</td>\n",
       "    </tr>\n",
       "    <tr>\n",
       "      <th>1722</th>\n",
       "      <td>0</td>\n",
       "      <td>There are 103 Democrats in the Assembly and 47...</td>\n",
       "      <td>Democrats dominate the Assembly while Republic...</td>\n",
       "    </tr>\n",
       "    <tr>\n",
       "      <th>1723</th>\n",
       "      <td>0</td>\n",
       "      <td>Bethany Hamilton remained in stable condition ...</td>\n",
       "      <td>Bethany, who remained in stable condition afte...</td>\n",
       "    </tr>\n",
       "    <tr>\n",
       "      <th>1724</th>\n",
       "      <td>1</td>\n",
       "      <td>Last week the power station’s US owners, AES C...</td>\n",
       "      <td>The news comes after Drax's American owner, AE...</td>\n",
       "    </tr>\n",
       "    <tr>\n",
       "      <th>1725</th>\n",
       "      <td>1</td>\n",
       "      <td>Sobig.F spreads when unsuspecting computer use...</td>\n",
       "      <td>The virus spreads when unsuspecting computer u...</td>\n",
       "    </tr>\n",
       "  </tbody>\n",
       "</table>\n",
       "<p>1726 rows × 3 columns</p>\n",
       "</div>"
      ],
      "text/plain": [
       "       Quality  ...                                                 s2\n",
       "0     ﻿Quality  ...                                          #2 String\n",
       "1            1  ...  Current Chief Operating Officer Mike Butcher a...\n",
       "2            1  ...  Domestic sales at both GM and No. 2 Ford Motor...\n",
       "3            1  ...  The Centers for Disease Control and Prevention...\n",
       "4            0  ...  A tropical storm rapidly developed in the Gulf...\n",
       "...        ...  ...                                                ...\n",
       "1721         0  ...  Hernandez filed an Equal Employment Opportunit...\n",
       "1722         0  ...  Democrats dominate the Assembly while Republic...\n",
       "1723         0  ...  Bethany, who remained in stable condition afte...\n",
       "1724         1  ...  The news comes after Drax's American owner, AE...\n",
       "1725         1  ...  The virus spreads when unsuspecting computer u...\n",
       "\n",
       "[1726 rows x 3 columns]"
      ]
     },
     "execution_count": 13,
     "metadata": {},
     "output_type": "execute_result"
    }
   ],
   "source": [
    "df = extract_dataset(text.split('\\n'))\n",
    "df_test"
   ]
  },
  {
   "cell_type": "code",
   "execution_count": null,
   "metadata": {
    "colab": {
     "base_uri": "https://localhost:8080/"
    },
    "id": "MU1ZhmRPcdy_",
    "outputId": "87a35861-afc1-4d83-c458-a2b1651bf764"
   },
   "outputs": [
    {
     "name": "stdout",
     "output_type": "stream",
     "text": [
      "Number of Training records = 1726\n"
     ]
    }
   ],
   "source": [
    "print(f\"Number of Training records = {len(df_test)}\")"
   ]
  },
  {
   "cell_type": "code",
   "execution_count": null,
   "metadata": {
    "id": "3hYerMJMci-3"
   },
   "outputs": [],
   "source": [
    "df.to_csv('/content/drive/My Drive/Paraphrasing API/datasets/MSRP/msrp-test.csv', encoding='utf-8', index=False)"
   ]
  }
 ],
 "metadata": {
  "colab": {
   "collapsed_sections": [],
   "name": "MSRP.ipynb",
   "provenance": []
  },
  "kernelspec": {
   "display_name": "Python 3",
   "language": "python",
   "name": "python3"
  },
  "language_info": {
   "codemirror_mode": {
    "name": "ipython",
    "version": 3
   },
   "file_extension": ".py",
   "mimetype": "text/x-python",
   "name": "python",
   "nbconvert_exporter": "python",
   "pygments_lexer": "ipython3",
   "version": "3.8.8"
  }
 },
 "nbformat": 4,
 "nbformat_minor": 1
}
