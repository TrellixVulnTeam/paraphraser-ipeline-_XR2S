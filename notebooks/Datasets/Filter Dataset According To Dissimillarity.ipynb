{
 "cells": [
  {
   "cell_type": "markdown",
   "metadata": {
    "id": "CtqDcuihW34B"
   },
   "source": [
    "Filter Dataset According to Dissimilarity\n",
    "\n",
    "Author: Fatma Ben Ayed\n",
    "\n",
    "Copyright (C) 2021 Fatma Ben Ayed and DynaGroup i.T. GmbH"
   ]
  },
  {
   "cell_type": "code",
   "execution_count": 1,
   "metadata": {
    "colab": {
     "base_uri": "https://localhost:8080/"
    },
    "id": "-JXgasE8JkFe",
    "outputId": "3ba28e6e-01e4-4015-996f-8b5505361e39"
   },
   "outputs": [
    {
     "name": "stdout",
     "output_type": "stream",
     "text": [
      "Mounted at /content/drive\n"
     ]
    }
   ],
   "source": [
    "from google.colab import drive\n",
    "drive.mount('/content/drive')"
   ]
  },
  {
   "cell_type": "code",
   "execution_count": 2,
   "metadata": {
    "id": "Rues2d4lUr4R"
   },
   "outputs": [],
   "source": [
    "!pip install sacrebleu > /dev/null\n",
    "!pip install rouge > /dev/null\n",
    "!pip install datasets > /dev/null\n",
    "!pip install rouge_score > /dev/null\n",
    "!pip install sentencepiece > /dev/null\n",
    "!pip install bert_score > /dev/null\n",
    "!pip install wget > /dev/null"
   ]
  },
  {
   "cell_type": "code",
   "execution_count": 25,
   "metadata": {
    "id": "Wt4ts31dV_fi"
   },
   "outputs": [],
   "source": [
    "import pandas as pd\n",
    "import nltk\n",
    "from sklearn.model_selection import train_test_split"
   ]
  },
  {
   "cell_type": "code",
   "execution_count": 3,
   "metadata": {
    "colab": {
     "base_uri": "https://localhost:8080/",
     "height": 98,
     "referenced_widgets": [
      "e936a44d67ea45ce8f92c7e4216fc803",
      "6ec2d92f51824dbf8df026eef28df305",
      "99a79a309b604689ab47d3097d1077fa",
      "ce0545aeb20549e89c406a9e1fe798e0",
      "c4d737c9624f43968586df3ccb5ac4b6",
      "094441787c59476cb02158c355eeb447",
      "cfef1eb8d2364642a6c5eda5c5310b85",
      "b9fbca8f3f7b4897adb62a751d36a5a9",
      "41cebc3321c44e49bb8cc3fe7294e087",
      "7777ecc9ec004fb7ac9f662ef3bcd6a5",
      "1fb70a20e41347b59ab3979d38bc0bd8",
      "ac098513a31740eeba61d978293fb0bb",
      "be58e61210a84c4489c54fccefe29a8c",
      "1e05aab5d17d431c8587d41cd0c6c08a",
      "68ad00bb9e1c448d8d88a4c4750fe9ce",
      "09db0b33b3ca434cb76cd81f4e5b0c8d",
      "fb8e97991edf41849d57603522f761d7",
      "66b8c27141e74c83826935b03d013535",
      "71970b7d2c684ee8aca4cc6e9d0b5d7b",
      "c27125021d814fee9d82472134b415bc",
      "cd973ed2e25b44a89ad974891328c753",
      "8d0135c595104427ad08db8a41aee09c"
     ]
    },
    "id": "VkOJV3asU3JM",
    "outputId": "aa2a481e-c8b4-4f59-a880-d7ac3376b433"
   },
   "outputs": [
    {
     "data": {
      "application/vnd.jupyter.widget-view+json": {
       "model_id": "e936a44d67ea45ce8f92c7e4216fc803",
       "version_major": 2,
       "version_minor": 0
      },
      "text/plain": [
       "Downloading:   0%|          | 0.00/2.17k [00:00<?, ?B/s]"
      ]
     },
     "metadata": {},
     "output_type": "display_data"
    },
    {
     "data": {
      "application/vnd.jupyter.widget-view+json": {
       "model_id": "ac098513a31740eeba61d978293fb0bb",
       "version_major": 2,
       "version_minor": 0
      },
      "text/plain": [
       "Downloading:   0%|          | 0.00/2.93k [00:00<?, ?B/s]"
      ]
     },
     "metadata": {},
     "output_type": "display_data"
    },
    {
     "name": "stdout",
     "output_type": "stream",
     "text": [
      "Your python interpreter: /usr/bin/python3\n"
     ]
    }
   ],
   "source": [
    "import sys\n",
    "sys.path.append(\"/content/drive/MyDrive/Paraphrasing API/src\")\n",
    "\n",
    "from our_metrics import Metrics\n",
    "\n",
    "the_metrics = Metrics()"
   ]
  },
  {
   "cell_type": "code",
   "execution_count": 4,
   "metadata": {
    "id": "VJW39VNNa0Mm"
   },
   "outputs": [],
   "source": [
    "# the_metrics.install_bleurt_model()"
   ]
  },
  {
   "cell_type": "code",
   "execution_count": 5,
   "metadata": {
    "colab": {
     "base_uri": "https://localhost:8080/",
     "height": 424
    },
    "id": "yCCtesNYJmju",
    "outputId": "ad5ddf20-d03f-45c4-80e2-1aaade595a31"
   },
   "outputs": [
    {
     "data": {
      "text/html": [
       "<div>\n",
       "<style scoped>\n",
       "    .dataframe tbody tr th:only-of-type {\n",
       "        vertical-align: middle;\n",
       "    }\n",
       "\n",
       "    .dataframe tbody tr th {\n",
       "        vertical-align: top;\n",
       "    }\n",
       "\n",
       "    .dataframe thead th {\n",
       "        text-align: right;\n",
       "    }\n",
       "</style>\n",
       "<table border=\"1\" class=\"dataframe\">\n",
       "  <thead>\n",
       "    <tr style=\"text-align: right;\">\n",
       "      <th></th>\n",
       "      <th>Unnamed: 0</th>\n",
       "      <th>sentence</th>\n",
       "      <th>paraphrase</th>\n",
       "    </tr>\n",
       "  </thead>\n",
       "  <tbody>\n",
       "    <tr>\n",
       "      <th>0</th>\n",
       "      <td>0</td>\n",
       "      <td>For the first time in league history , Gary Ga...</td>\n",
       "      <td>For the first time in the history of the leagu...</td>\n",
       "    </tr>\n",
       "    <tr>\n",
       "      <th>1</th>\n",
       "      <td>1</td>\n",
       "      <td>Currently Rozova is contracted with Wilhelmina...</td>\n",
       "      <td>Rozova is currently signed with Wilhelmina Mod...</td>\n",
       "    </tr>\n",
       "    <tr>\n",
       "      <th>2</th>\n",
       "      <td>2</td>\n",
       "      <td>The work was concluded in 2003 in his fifth , ...</td>\n",
       "      <td>The work was completed in his fifth in 2003 , ...</td>\n",
       "    </tr>\n",
       "    <tr>\n",
       "      <th>3</th>\n",
       "      <td>3</td>\n",
       "      <td>How do small scale industries differ from larg...</td>\n",
       "      <td>What are some unique characteristics of large ...</td>\n",
       "    </tr>\n",
       "    <tr>\n",
       "      <th>4</th>\n",
       "      <td>4</td>\n",
       "      <td>In 2014 , the festival was once more held at t...</td>\n",
       "      <td>In 2014 , the festival was held again in the S...</td>\n",
       "    </tr>\n",
       "    <tr>\n",
       "      <th>...</th>\n",
       "      <td>...</td>\n",
       "      <td>...</td>\n",
       "      <td>...</td>\n",
       "    </tr>\n",
       "    <tr>\n",
       "      <th>45806</th>\n",
       "      <td>45806</td>\n",
       "      <td>Both Iran and Saudi Arabia rejected the use of...</td>\n",
       "      <td>Both Iran and Saudi Arabia rejected the use of...</td>\n",
       "    </tr>\n",
       "    <tr>\n",
       "      <th>45807</th>\n",
       "      <td>45807</td>\n",
       "      <td>What are the safety precautions on handling sh...</td>\n",
       "      <td>What are the safety precautions on handling sh...</td>\n",
       "    </tr>\n",
       "    <tr>\n",
       "      <th>45808</th>\n",
       "      <td>45808</td>\n",
       "      <td>The Total Total Evaporation is The Radiators '...</td>\n",
       "      <td>Total Evaporation is the fourth album by The R...</td>\n",
       "    </tr>\n",
       "    <tr>\n",
       "      <th>45809</th>\n",
       "      <td>45809</td>\n",
       "      <td>He is mentioned twice in Aleister Crowley 's n...</td>\n",
       "      <td>He is mentioned twice in Aleister Crowley 's n...</td>\n",
       "    </tr>\n",
       "    <tr>\n",
       "      <th>45810</th>\n",
       "      <td>45810</td>\n",
       "      <td>There was once a Nottingham railway station on...</td>\n",
       "      <td>Once upon a time there was a Nottingham railwa...</td>\n",
       "    </tr>\n",
       "  </tbody>\n",
       "</table>\n",
       "<p>45811 rows × 3 columns</p>\n",
       "</div>"
      ],
      "text/plain": [
       "       Unnamed: 0  ...                                         paraphrase\n",
       "0               0  ...  For the first time in the history of the leagu...\n",
       "1               1  ...  Rozova is currently signed with Wilhelmina Mod...\n",
       "2               2  ...  The work was completed in his fifth in 2003 , ...\n",
       "3               3  ...  What are some unique characteristics of large ...\n",
       "4               4  ...  In 2014 , the festival was held again in the S...\n",
       "...           ...  ...                                                ...\n",
       "45806       45806  ...  Both Iran and Saudi Arabia rejected the use of...\n",
       "45807       45807  ...  What are the safety precautions on handling sh...\n",
       "45808       45808  ...  Total Evaporation is the fourth album by The R...\n",
       "45809       45809  ...  He is mentioned twice in Aleister Crowley 's n...\n",
       "45810       45810  ...  Once upon a time there was a Nottingham railwa...\n",
       "\n",
       "[45811 rows x 3 columns]"
      ]
     },
     "execution_count": 5,
     "metadata": {},
     "output_type": "execute_result"
    }
   ],
   "source": [
    "df = pd.read_csv(\"/content/drive/MyDrive/Paraphrasing API/datasets/eneko/reduced_raw_text.csv\")\n",
    "df"
   ]
  },
  {
   "cell_type": "code",
   "execution_count": 7,
   "metadata": {
    "id": "bymgM-kOP3bP"
   },
   "outputs": [],
   "source": [
    "df.sentence = df.sentence.astype(str)\n",
    "df.paraphrase = df.paraphrase.astype(str)"
   ]
  },
  {
   "cell_type": "code",
   "execution_count": 8,
   "metadata": {
    "id": "SpIffaUUKunV"
   },
   "outputs": [],
   "source": [
    "input1 = df.iloc[1, 1]\n",
    "output1 = df.iloc[1, 2]"
   ]
  },
  {
   "cell_type": "code",
   "execution_count": 14,
   "metadata": {
    "id": "VXO2u5wxM_if"
   },
   "outputs": [],
   "source": [
    "def get_translation_table():\n",
    "  # Punctuations according to python\n",
    "  punctuations = '!\"#$%&\\'()*+,-./:;<=>?@[\\\\]^_`{|}~'\n",
    "\n",
    "  # Good symbols that should not be removed\n",
    "  good_symbols = '\\'`-'\n",
    "\n",
    "  # Bad punctuation that should be removed\n",
    "  bad_punctuations = punctuations.translate(\"\".maketrans(\"\", \"\", good_symbols))\n",
    "  \n",
    "  return \"\".maketrans(bad_punctuations, ' '*len(bad_punctuations))\n",
    "  \n",
    "translation_table = get_translation_table()\n",
    "\n",
    "def tokenize_text_for_diversity(text):\n",
    "  # Remove bad punctuation\n",
    "  text = text.translate(translation_table)\n",
    "  return text.lower().strip().split()\n",
    "\n",
    "def tokenize_for_diversity(input, output):\n",
    "  assert (type(input) == type(output))\n",
    "\n",
    "  if type(input) == str:\n",
    "    return tokenize_text_for_diversity(input), tokenize_text_for_diversity(output)\n",
    "  \n",
    "  # Input and output are batches\n",
    "  input_batch = [tokenize_text_for_diversity(text) for text in input]\n",
    "  output_batch = [tokenize_text_for_diversity(text) for text in output]\n",
    "  return input_batch, output_batch"
   ]
  },
  {
   "cell_type": "code",
   "execution_count": 15,
   "metadata": {
    "id": "2Sm8dMytXhzp"
   },
   "outputs": [],
   "source": [
    "input_tok, output_tok = tokenize_for_diversity(input1, output1)"
   ]
  },
  {
   "cell_type": "code",
   "execution_count": 16,
   "metadata": {
    "colab": {
     "base_uri": "https://localhost:8080/"
    },
    "id": "FAQarYnrjrvC",
    "outputId": "30cd1d7c-1a60-4aba-85f1-670b6b4c31fa"
   },
   "outputs": [
    {
     "data": {
      "text/plain": [
       "['rozova',\n",
       " 'is',\n",
       " 'currently',\n",
       " 'signed',\n",
       " 'with',\n",
       " 'wilhelmina',\n",
       " 'models',\n",
       " 'in',\n",
       " 'hong',\n",
       " 'kong',\n",
       " 'and',\n",
       " 'style',\n",
       " 'international',\n",
       " 'management',\n",
       " 'in',\n",
       " 'new',\n",
       " 'york']"
      ]
     },
     "execution_count": 16,
     "metadata": {},
     "output_type": "execute_result"
    }
   ],
   "source": [
    "output_tok"
   ]
  },
  {
   "cell_type": "code",
   "execution_count": 17,
   "metadata": {
    "colab": {
     "base_uri": "https://localhost:8080/"
    },
    "id": "0e5R18yJjfP3",
    "outputId": "6dbd2194-925c-45c5-84a3-5450f1f08716"
   },
   "outputs": [
    {
     "name": "stdout",
     "output_type": "stream",
     "text": [
      "0.9411764705882353\n"
     ]
    }
   ],
   "source": [
    "BLEUscore = nltk.translate.bleu_score.sentence_bleu([input_tok], output_tok, weights = [1])\n",
    "print(BLEUscore)"
   ]
  },
  {
   "cell_type": "code",
   "execution_count": 20,
   "metadata": {
    "id": "EmYTLqFpYESs"
   },
   "outputs": [],
   "source": [
    "diverse_dataset = []\n",
    "for i in range(len(df)):\n",
    "    sentence = df.iloc[i,1]\n",
    "    paraphrase = df.iloc[i,2]\n",
    "    input_tok, output_tok = tokenize_for_diversity(sentence, paraphrase)\n",
    "    BLEUscore = nltk.translate.bleu_score.sentence_bleu([input_tok], output_tok, weights = [1])\n",
    "    if (BLEUscore < 0.8):\n",
    "       diverse_dataset.append([sentence, paraphrase])"
   ]
  },
  {
   "cell_type": "code",
   "execution_count": 21,
   "metadata": {
    "colab": {
     "base_uri": "https://localhost:8080/",
     "height": 424
    },
    "id": "QkR9lCuWoF8p",
    "outputId": "cc640ad4-d42a-45c3-9641-8431b9da0ef4"
   },
   "outputs": [
    {
     "data": {
      "text/html": [
       "<div>\n",
       "<style scoped>\n",
       "    .dataframe tbody tr th:only-of-type {\n",
       "        vertical-align: middle;\n",
       "    }\n",
       "\n",
       "    .dataframe tbody tr th {\n",
       "        vertical-align: top;\n",
       "    }\n",
       "\n",
       "    .dataframe thead th {\n",
       "        text-align: right;\n",
       "    }\n",
       "</style>\n",
       "<table border=\"1\" class=\"dataframe\">\n",
       "  <thead>\n",
       "    <tr style=\"text-align: right;\">\n",
       "      <th></th>\n",
       "      <th>sentence</th>\n",
       "      <th>paraphrase</th>\n",
       "    </tr>\n",
       "  </thead>\n",
       "  <tbody>\n",
       "    <tr>\n",
       "      <th>0</th>\n",
       "      <td>How do small scale industries differ from larg...</td>\n",
       "      <td>What are some unique characteristics of large ...</td>\n",
       "    </tr>\n",
       "    <tr>\n",
       "      <th>1</th>\n",
       "      <td>What is your New Year’s Resolution(s) for 2017?</td>\n",
       "      <td>What's your New Year's resolution for 2017?</td>\n",
       "    </tr>\n",
       "    <tr>\n",
       "      <th>2</th>\n",
       "      <td>Helicopters hovered throughout the day over th...</td>\n",
       "      <td>Helicopters hovered over al-Khalidiya into the...</td>\n",
       "    </tr>\n",
       "    <tr>\n",
       "      <th>3</th>\n",
       "      <td>Is it possible to gain height after 20?</td>\n",
       "      <td>How can I increase in height after 20 years?</td>\n",
       "    </tr>\n",
       "    <tr>\n",
       "      <th>4</th>\n",
       "      <td>What are all the govt jobs for mechanical engi...</td>\n",
       "      <td>What are the government jobs for a mechanical ...</td>\n",
       "    </tr>\n",
       "    <tr>\n",
       "      <th>...</th>\n",
       "      <td>...</td>\n",
       "      <td>...</td>\n",
       "    </tr>\n",
       "    <tr>\n",
       "      <th>15307</th>\n",
       "      <td>Is Hillary Clinton a war hawk?</td>\n",
       "      <td>Why does Hillary Clinton have so hawkish forei...</td>\n",
       "    </tr>\n",
       "    <tr>\n",
       "      <th>15308</th>\n",
       "      <td>The document stated: \"This report does not att...</td>\n",
       "      <td>The report released Monday simply says , This ...</td>\n",
       "    </tr>\n",
       "    <tr>\n",
       "      <th>15309</th>\n",
       "      <td>The U.S. Supreme Court has previously ruled th...</td>\n",
       "      <td>The Supreme Court long ago held that students ...</td>\n",
       "    </tr>\n",
       "    <tr>\n",
       "      <th>15310</th>\n",
       "      <td>What's your favorite movies and why?</td>\n",
       "      <td>What are some of your favorite movies?</td>\n",
       "    </tr>\n",
       "    <tr>\n",
       "      <th>15311</th>\n",
       "      <td>What does Gary Johnson have to do to have a ch...</td>\n",
       "      <td>Does Gary Johnson stand a chance of being elec...</td>\n",
       "    </tr>\n",
       "  </tbody>\n",
       "</table>\n",
       "<p>15312 rows × 2 columns</p>\n",
       "</div>"
      ],
      "text/plain": [
       "                                                sentence                                         paraphrase\n",
       "0      How do small scale industries differ from larg...  What are some unique characteristics of large ...\n",
       "1        What is your New Year’s Resolution(s) for 2017?        What's your New Year's resolution for 2017?\n",
       "2      Helicopters hovered throughout the day over th...  Helicopters hovered over al-Khalidiya into the...\n",
       "3                Is it possible to gain height after 20?       How can I increase in height after 20 years?\n",
       "4      What are all the govt jobs for mechanical engi...  What are the government jobs for a mechanical ...\n",
       "...                                                  ...                                                ...\n",
       "15307                     Is Hillary Clinton a war hawk?  Why does Hillary Clinton have so hawkish forei...\n",
       "15308  The document stated: \"This report does not att...  The report released Monday simply says , This ...\n",
       "15309  The U.S. Supreme Court has previously ruled th...  The Supreme Court long ago held that students ...\n",
       "15310               What's your favorite movies and why?             What are some of your favorite movies?\n",
       "15311  What does Gary Johnson have to do to have a ch...  Does Gary Johnson stand a chance of being elec...\n",
       "\n",
       "[15312 rows x 2 columns]"
      ]
     },
     "execution_count": 21,
     "metadata": {},
     "output_type": "execute_result"
    }
   ],
   "source": [
    "df_diverse = pd.DataFrame(diverse_dataset, columns=[\"sentence\", \"paraphrase\"])\n",
    "df_diverse"
   ]
  },
  {
   "cell_type": "code",
   "execution_count": 22,
   "metadata": {
    "id": "T_zTs5ZMoUFH"
   },
   "outputs": [],
   "source": [
    "def remove_end_spaces(string):\n",
    "    return \"\".join(string.rstrip())"
   ]
  },
  {
   "cell_type": "code",
   "execution_count": 24,
   "metadata": {
    "colab": {
     "base_uri": "https://localhost:8080/",
     "height": 424
    },
    "id": "VZ35c0VKVhkX",
    "outputId": "300d8c40-f64e-491e-90a8-11cf33631700"
   },
   "outputs": [
    {
     "data": {
      "text/html": [
       "<div>\n",
       "<style scoped>\n",
       "    .dataframe tbody tr th:only-of-type {\n",
       "        vertical-align: middle;\n",
       "    }\n",
       "\n",
       "    .dataframe tbody tr th {\n",
       "        vertical-align: top;\n",
       "    }\n",
       "\n",
       "    .dataframe thead th {\n",
       "        text-align: right;\n",
       "    }\n",
       "</style>\n",
       "<table border=\"1\" class=\"dataframe\">\n",
       "  <thead>\n",
       "    <tr style=\"text-align: right;\">\n",
       "      <th></th>\n",
       "      <th>sentence</th>\n",
       "      <th>paraphrase</th>\n",
       "    </tr>\n",
       "  </thead>\n",
       "  <tbody>\n",
       "    <tr>\n",
       "      <th>0</th>\n",
       "      <td>How do small scale industries differ from larg...</td>\n",
       "      <td>What are some unique characteristics of large ...</td>\n",
       "    </tr>\n",
       "    <tr>\n",
       "      <th>1</th>\n",
       "      <td>What is your New Year’s Resolution(s) for 2017?</td>\n",
       "      <td>What's your New Year's resolution for 2017?</td>\n",
       "    </tr>\n",
       "    <tr>\n",
       "      <th>2</th>\n",
       "      <td>Helicopters hovered throughout the day over th...</td>\n",
       "      <td>Helicopters hovered over al-Khalidiya into the...</td>\n",
       "    </tr>\n",
       "    <tr>\n",
       "      <th>3</th>\n",
       "      <td>Is it possible to gain height after 20?</td>\n",
       "      <td>How can I increase in height after 20 years?</td>\n",
       "    </tr>\n",
       "    <tr>\n",
       "      <th>4</th>\n",
       "      <td>What are all the govt jobs for mechanical engi...</td>\n",
       "      <td>What are the government jobs for a mechanical ...</td>\n",
       "    </tr>\n",
       "    <tr>\n",
       "      <th>...</th>\n",
       "      <td>...</td>\n",
       "      <td>...</td>\n",
       "    </tr>\n",
       "    <tr>\n",
       "      <th>15307</th>\n",
       "      <td>Is Hillary Clinton a war hawk?</td>\n",
       "      <td>Why does Hillary Clinton have so hawkish forei...</td>\n",
       "    </tr>\n",
       "    <tr>\n",
       "      <th>15308</th>\n",
       "      <td>The document stated: \"This report does not att...</td>\n",
       "      <td>The report released Monday simply says , This ...</td>\n",
       "    </tr>\n",
       "    <tr>\n",
       "      <th>15309</th>\n",
       "      <td>The U.S. Supreme Court has previously ruled th...</td>\n",
       "      <td>The Supreme Court long ago held that students ...</td>\n",
       "    </tr>\n",
       "    <tr>\n",
       "      <th>15310</th>\n",
       "      <td>What's your favorite movies and why?</td>\n",
       "      <td>What are some of your favorite movies?</td>\n",
       "    </tr>\n",
       "    <tr>\n",
       "      <th>15311</th>\n",
       "      <td>What does Gary Johnson have to do to have a ch...</td>\n",
       "      <td>Does Gary Johnson stand a chance of being elec...</td>\n",
       "    </tr>\n",
       "  </tbody>\n",
       "</table>\n",
       "<p>15312 rows × 2 columns</p>\n",
       "</div>"
      ],
      "text/plain": [
       "                                                sentence                                         paraphrase\n",
       "0      How do small scale industries differ from larg...  What are some unique characteristics of large ...\n",
       "1        What is your New Year’s Resolution(s) for 2017?        What's your New Year's resolution for 2017?\n",
       "2      Helicopters hovered throughout the day over th...  Helicopters hovered over al-Khalidiya into the...\n",
       "3                Is it possible to gain height after 20?       How can I increase in height after 20 years?\n",
       "4      What are all the govt jobs for mechanical engi...  What are the government jobs for a mechanical ...\n",
       "...                                                  ...                                                ...\n",
       "15307                     Is Hillary Clinton a war hawk?  Why does Hillary Clinton have so hawkish forei...\n",
       "15308  The document stated: \"This report does not att...  The report released Monday simply says , This ...\n",
       "15309  The U.S. Supreme Court has previously ruled th...  The Supreme Court long ago held that students ...\n",
       "15310               What's your favorite movies and why?             What are some of your favorite movies?\n",
       "15311  What does Gary Johnson have to do to have a ch...  Does Gary Johnson stand a chance of being elec...\n",
       "\n",
       "[15312 rows x 2 columns]"
      ]
     },
     "execution_count": 24,
     "metadata": {},
     "output_type": "execute_result"
    }
   ],
   "source": [
    "diverse_dataset = []\n",
    "for i in range(len(df_diverse)):\n",
    "    s1 = remove_end_spaces(df_diverse.iloc[i, 0])\n",
    "    s2 = remove_end_spaces(df_diverse.iloc[i, 1])\n",
    "    diverse_dataset.append([s1, s2])\n",
    "\n",
    "df_diverse2 = pd.DataFrame(diverse_dataset, columns=[\"sentence\", \"paraphrase\"])\n",
    "df_diverse2"
   ]
  },
  {
   "cell_type": "code",
   "execution_count": null,
   "metadata": {
    "id": "16YWXhggq8dk"
   },
   "outputs": [],
   "source": [
    "df_diverse2.to_csv('dataset.csv')"
   ]
  },
  {
   "cell_type": "code",
   "execution_count": null,
   "metadata": {
    "id": "uaN4OzFkL0oS"
   },
   "outputs": [],
   "source": [
    "df = pd.read_csv(\"/content/drive/MyDrive/Paraphrasing API/datasets/Eneko_diverseDataset/dataset.csv\")"
   ]
  },
  {
   "cell_type": "code",
   "execution_count": null,
   "metadata": {
    "id": "Al2RfQ8wL6Li"
   },
   "outputs": [],
   "source": [
    "df_train, df_val = train_test_split(df, train_size=0.8, shuffle=True)"
   ]
  },
  {
   "cell_type": "code",
   "execution_count": null,
   "metadata": {
    "id": "r7R28G2eRu5C"
   },
   "outputs": [],
   "source": [
    "df_train.to_csv(\"/content/drive/MyDrive/Paraphrasing API/datasets/Eneko_diverseDataset/diverse_train.csv\")\n",
    "df_val.to_csv(\"/content/drive/MyDrive/Paraphrasing API/datasets/Eneko_diverseDataset/diverse_val.csv\")"
   ]
  }
 ],
 "metadata": {
  "colab": {
   "collapsed_sections": [],
   "name": "Filter Dataset According To Dissimillarity.ipynb",
   "provenance": []
  },
  "kernelspec": {
   "display_name": "Python 3",
   "language": "python",
   "name": "python3"
  },
  "language_info": {
   "codemirror_mode": {
    "name": "ipython",
    "version": 3
   },
   "file_extension": ".py",
   "mimetype": "text/x-python",
   "name": "python",
   "nbconvert_exporter": "python",
   "pygments_lexer": "ipython3",
   "version": "3.8.8"
  },
  "widgets": {
   "application/vnd.jupyter.widget-state+json": {
    "094441787c59476cb02158c355eeb447": {
     "model_module": "@jupyter-widgets/controls",
     "model_module_version": "1.5.0",
     "model_name": "DescriptionStyleModel",
     "state": {
      "_model_module": "@jupyter-widgets/controls",
      "_model_module_version": "1.5.0",
      "_model_name": "DescriptionStyleModel",
      "_view_count": null,
      "_view_module": "@jupyter-widgets/base",
      "_view_module_version": "1.2.0",
      "_view_name": "StyleView",
      "description_width": ""
     }
    },
    "09db0b33b3ca434cb76cd81f4e5b0c8d": {
     "model_module": "@jupyter-widgets/controls",
     "model_module_version": "1.5.0",
     "model_name": "HTMLModel",
     "state": {
      "_dom_classes": [],
      "_model_module": "@jupyter-widgets/controls",
      "_model_module_version": "1.5.0",
      "_model_name": "HTMLModel",
      "_view_count": null,
      "_view_module": "@jupyter-widgets/controls",
      "_view_module_version": "1.5.0",
      "_view_name": "HTMLView",
      "description": "",
      "description_tooltip": null,
      "layout": "IPY_MODEL_8d0135c595104427ad08db8a41aee09c",
      "placeholder": "​",
      "style": "IPY_MODEL_cd973ed2e25b44a89ad974891328c753",
      "value": " 8.15k/? [00:00&lt;00:00, 229kB/s]"
     }
    },
    "1e05aab5d17d431c8587d41cd0c6c08a": {
     "model_module": "@jupyter-widgets/controls",
     "model_module_version": "1.5.0",
     "model_name": "HTMLModel",
     "state": {
      "_dom_classes": [],
      "_model_module": "@jupyter-widgets/controls",
      "_model_module_version": "1.5.0",
      "_model_name": "HTMLModel",
      "_view_count": null,
      "_view_module": "@jupyter-widgets/controls",
      "_view_module_version": "1.5.0",
      "_view_name": "HTMLView",
      "description": "",
      "description_tooltip": null,
      "layout": "IPY_MODEL_66b8c27141e74c83826935b03d013535",
      "placeholder": "​",
      "style": "IPY_MODEL_fb8e97991edf41849d57603522f761d7",
      "value": "Downloading: "
     }
    },
    "1fb70a20e41347b59ab3979d38bc0bd8": {
     "model_module": "@jupyter-widgets/base",
     "model_module_version": "1.2.0",
     "model_name": "LayoutModel",
     "state": {
      "_model_module": "@jupyter-widgets/base",
      "_model_module_version": "1.2.0",
      "_model_name": "LayoutModel",
      "_view_count": null,
      "_view_module": "@jupyter-widgets/base",
      "_view_module_version": "1.2.0",
      "_view_name": "LayoutView",
      "align_content": null,
      "align_items": null,
      "align_self": null,
      "border": null,
      "bottom": null,
      "display": null,
      "flex": null,
      "flex_flow": null,
      "grid_area": null,
      "grid_auto_columns": null,
      "grid_auto_flow": null,
      "grid_auto_rows": null,
      "grid_column": null,
      "grid_gap": null,
      "grid_row": null,
      "grid_template_areas": null,
      "grid_template_columns": null,
      "grid_template_rows": null,
      "height": null,
      "justify_content": null,
      "justify_items": null,
      "left": null,
      "margin": null,
      "max_height": null,
      "max_width": null,
      "min_height": null,
      "min_width": null,
      "object_fit": null,
      "object_position": null,
      "order": null,
      "overflow": null,
      "overflow_x": null,
      "overflow_y": null,
      "padding": null,
      "right": null,
      "top": null,
      "visibility": null,
      "width": null
     }
    },
    "41cebc3321c44e49bb8cc3fe7294e087": {
     "model_module": "@jupyter-widgets/base",
     "model_module_version": "1.2.0",
     "model_name": "LayoutModel",
     "state": {
      "_model_module": "@jupyter-widgets/base",
      "_model_module_version": "1.2.0",
      "_model_name": "LayoutModel",
      "_view_count": null,
      "_view_module": "@jupyter-widgets/base",
      "_view_module_version": "1.2.0",
      "_view_name": "LayoutView",
      "align_content": null,
      "align_items": null,
      "align_self": null,
      "border": null,
      "bottom": null,
      "display": null,
      "flex": null,
      "flex_flow": null,
      "grid_area": null,
      "grid_auto_columns": null,
      "grid_auto_flow": null,
      "grid_auto_rows": null,
      "grid_column": null,
      "grid_gap": null,
      "grid_row": null,
      "grid_template_areas": null,
      "grid_template_columns": null,
      "grid_template_rows": null,
      "height": null,
      "justify_content": null,
      "justify_items": null,
      "left": null,
      "margin": null,
      "max_height": null,
      "max_width": null,
      "min_height": null,
      "min_width": null,
      "object_fit": null,
      "object_position": null,
      "order": null,
      "overflow": null,
      "overflow_x": null,
      "overflow_y": null,
      "padding": null,
      "right": null,
      "top": null,
      "visibility": null,
      "width": null
     }
    },
    "66b8c27141e74c83826935b03d013535": {
     "model_module": "@jupyter-widgets/base",
     "model_module_version": "1.2.0",
     "model_name": "LayoutModel",
     "state": {
      "_model_module": "@jupyter-widgets/base",
      "_model_module_version": "1.2.0",
      "_model_name": "LayoutModel",
      "_view_count": null,
      "_view_module": "@jupyter-widgets/base",
      "_view_module_version": "1.2.0",
      "_view_name": "LayoutView",
      "align_content": null,
      "align_items": null,
      "align_self": null,
      "border": null,
      "bottom": null,
      "display": null,
      "flex": null,
      "flex_flow": null,
      "grid_area": null,
      "grid_auto_columns": null,
      "grid_auto_flow": null,
      "grid_auto_rows": null,
      "grid_column": null,
      "grid_gap": null,
      "grid_row": null,
      "grid_template_areas": null,
      "grid_template_columns": null,
      "grid_template_rows": null,
      "height": null,
      "justify_content": null,
      "justify_items": null,
      "left": null,
      "margin": null,
      "max_height": null,
      "max_width": null,
      "min_height": null,
      "min_width": null,
      "object_fit": null,
      "object_position": null,
      "order": null,
      "overflow": null,
      "overflow_x": null,
      "overflow_y": null,
      "padding": null,
      "right": null,
      "top": null,
      "visibility": null,
      "width": null
     }
    },
    "68ad00bb9e1c448d8d88a4c4750fe9ce": {
     "model_module": "@jupyter-widgets/controls",
     "model_module_version": "1.5.0",
     "model_name": "FloatProgressModel",
     "state": {
      "_dom_classes": [],
      "_model_module": "@jupyter-widgets/controls",
      "_model_module_version": "1.5.0",
      "_model_name": "FloatProgressModel",
      "_view_count": null,
      "_view_module": "@jupyter-widgets/controls",
      "_view_module_version": "1.5.0",
      "_view_name": "ProgressView",
      "bar_style": "success",
      "description": "",
      "description_tooltip": null,
      "layout": "IPY_MODEL_c27125021d814fee9d82472134b415bc",
      "max": 2933,
      "min": 0,
      "orientation": "horizontal",
      "style": "IPY_MODEL_71970b7d2c684ee8aca4cc6e9d0b5d7b",
      "value": 2933
     }
    },
    "6ec2d92f51824dbf8df026eef28df305": {
     "model_module": "@jupyter-widgets/base",
     "model_module_version": "1.2.0",
     "model_name": "LayoutModel",
     "state": {
      "_model_module": "@jupyter-widgets/base",
      "_model_module_version": "1.2.0",
      "_model_name": "LayoutModel",
      "_view_count": null,
      "_view_module": "@jupyter-widgets/base",
      "_view_module_version": "1.2.0",
      "_view_name": "LayoutView",
      "align_content": null,
      "align_items": null,
      "align_self": null,
      "border": null,
      "bottom": null,
      "display": null,
      "flex": null,
      "flex_flow": null,
      "grid_area": null,
      "grid_auto_columns": null,
      "grid_auto_flow": null,
      "grid_auto_rows": null,
      "grid_column": null,
      "grid_gap": null,
      "grid_row": null,
      "grid_template_areas": null,
      "grid_template_columns": null,
      "grid_template_rows": null,
      "height": null,
      "justify_content": null,
      "justify_items": null,
      "left": null,
      "margin": null,
      "max_height": null,
      "max_width": null,
      "min_height": null,
      "min_width": null,
      "object_fit": null,
      "object_position": null,
      "order": null,
      "overflow": null,
      "overflow_x": null,
      "overflow_y": null,
      "padding": null,
      "right": null,
      "top": null,
      "visibility": null,
      "width": null
     }
    },
    "71970b7d2c684ee8aca4cc6e9d0b5d7b": {
     "model_module": "@jupyter-widgets/controls",
     "model_module_version": "1.5.0",
     "model_name": "ProgressStyleModel",
     "state": {
      "_model_module": "@jupyter-widgets/controls",
      "_model_module_version": "1.5.0",
      "_model_name": "ProgressStyleModel",
      "_view_count": null,
      "_view_module": "@jupyter-widgets/base",
      "_view_module_version": "1.2.0",
      "_view_name": "StyleView",
      "bar_color": null,
      "description_width": ""
     }
    },
    "7777ecc9ec004fb7ac9f662ef3bcd6a5": {
     "model_module": "@jupyter-widgets/controls",
     "model_module_version": "1.5.0",
     "model_name": "DescriptionStyleModel",
     "state": {
      "_model_module": "@jupyter-widgets/controls",
      "_model_module_version": "1.5.0",
      "_model_name": "DescriptionStyleModel",
      "_view_count": null,
      "_view_module": "@jupyter-widgets/base",
      "_view_module_version": "1.2.0",
      "_view_name": "StyleView",
      "description_width": ""
     }
    },
    "8d0135c595104427ad08db8a41aee09c": {
     "model_module": "@jupyter-widgets/base",
     "model_module_version": "1.2.0",
     "model_name": "LayoutModel",
     "state": {
      "_model_module": "@jupyter-widgets/base",
      "_model_module_version": "1.2.0",
      "_model_name": "LayoutModel",
      "_view_count": null,
      "_view_module": "@jupyter-widgets/base",
      "_view_module_version": "1.2.0",
      "_view_name": "LayoutView",
      "align_content": null,
      "align_items": null,
      "align_self": null,
      "border": null,
      "bottom": null,
      "display": null,
      "flex": null,
      "flex_flow": null,
      "grid_area": null,
      "grid_auto_columns": null,
      "grid_auto_flow": null,
      "grid_auto_rows": null,
      "grid_column": null,
      "grid_gap": null,
      "grid_row": null,
      "grid_template_areas": null,
      "grid_template_columns": null,
      "grid_template_rows": null,
      "height": null,
      "justify_content": null,
      "justify_items": null,
      "left": null,
      "margin": null,
      "max_height": null,
      "max_width": null,
      "min_height": null,
      "min_width": null,
      "object_fit": null,
      "object_position": null,
      "order": null,
      "overflow": null,
      "overflow_x": null,
      "overflow_y": null,
      "padding": null,
      "right": null,
      "top": null,
      "visibility": null,
      "width": null
     }
    },
    "99a79a309b604689ab47d3097d1077fa": {
     "model_module": "@jupyter-widgets/controls",
     "model_module_version": "1.5.0",
     "model_name": "HTMLModel",
     "state": {
      "_dom_classes": [],
      "_model_module": "@jupyter-widgets/controls",
      "_model_module_version": "1.5.0",
      "_model_name": "HTMLModel",
      "_view_count": null,
      "_view_module": "@jupyter-widgets/controls",
      "_view_module_version": "1.5.0",
      "_view_name": "HTMLView",
      "description": "",
      "description_tooltip": null,
      "layout": "IPY_MODEL_cfef1eb8d2364642a6c5eda5c5310b85",
      "placeholder": "​",
      "style": "IPY_MODEL_094441787c59476cb02158c355eeb447",
      "value": "Downloading: "
     }
    },
    "ac098513a31740eeba61d978293fb0bb": {
     "model_module": "@jupyter-widgets/controls",
     "model_module_version": "1.5.0",
     "model_name": "HBoxModel",
     "state": {
      "_dom_classes": [],
      "_model_module": "@jupyter-widgets/controls",
      "_model_module_version": "1.5.0",
      "_model_name": "HBoxModel",
      "_view_count": null,
      "_view_module": "@jupyter-widgets/controls",
      "_view_module_version": "1.5.0",
      "_view_name": "HBoxView",
      "box_style": "",
      "children": [
       "IPY_MODEL_1e05aab5d17d431c8587d41cd0c6c08a",
       "IPY_MODEL_68ad00bb9e1c448d8d88a4c4750fe9ce",
       "IPY_MODEL_09db0b33b3ca434cb76cd81f4e5b0c8d"
      ],
      "layout": "IPY_MODEL_be58e61210a84c4489c54fccefe29a8c"
     }
    },
    "b9fbca8f3f7b4897adb62a751d36a5a9": {
     "model_module": "@jupyter-widgets/controls",
     "model_module_version": "1.5.0",
     "model_name": "ProgressStyleModel",
     "state": {
      "_model_module": "@jupyter-widgets/controls",
      "_model_module_version": "1.5.0",
      "_model_name": "ProgressStyleModel",
      "_view_count": null,
      "_view_module": "@jupyter-widgets/base",
      "_view_module_version": "1.2.0",
      "_view_name": "StyleView",
      "bar_color": null,
      "description_width": ""
     }
    },
    "be58e61210a84c4489c54fccefe29a8c": {
     "model_module": "@jupyter-widgets/base",
     "model_module_version": "1.2.0",
     "model_name": "LayoutModel",
     "state": {
      "_model_module": "@jupyter-widgets/base",
      "_model_module_version": "1.2.0",
      "_model_name": "LayoutModel",
      "_view_count": null,
      "_view_module": "@jupyter-widgets/base",
      "_view_module_version": "1.2.0",
      "_view_name": "LayoutView",
      "align_content": null,
      "align_items": null,
      "align_self": null,
      "border": null,
      "bottom": null,
      "display": null,
      "flex": null,
      "flex_flow": null,
      "grid_area": null,
      "grid_auto_columns": null,
      "grid_auto_flow": null,
      "grid_auto_rows": null,
      "grid_column": null,
      "grid_gap": null,
      "grid_row": null,
      "grid_template_areas": null,
      "grid_template_columns": null,
      "grid_template_rows": null,
      "height": null,
      "justify_content": null,
      "justify_items": null,
      "left": null,
      "margin": null,
      "max_height": null,
      "max_width": null,
      "min_height": null,
      "min_width": null,
      "object_fit": null,
      "object_position": null,
      "order": null,
      "overflow": null,
      "overflow_x": null,
      "overflow_y": null,
      "padding": null,
      "right": null,
      "top": null,
      "visibility": null,
      "width": null
     }
    },
    "c27125021d814fee9d82472134b415bc": {
     "model_module": "@jupyter-widgets/base",
     "model_module_version": "1.2.0",
     "model_name": "LayoutModel",
     "state": {
      "_model_module": "@jupyter-widgets/base",
      "_model_module_version": "1.2.0",
      "_model_name": "LayoutModel",
      "_view_count": null,
      "_view_module": "@jupyter-widgets/base",
      "_view_module_version": "1.2.0",
      "_view_name": "LayoutView",
      "align_content": null,
      "align_items": null,
      "align_self": null,
      "border": null,
      "bottom": null,
      "display": null,
      "flex": null,
      "flex_flow": null,
      "grid_area": null,
      "grid_auto_columns": null,
      "grid_auto_flow": null,
      "grid_auto_rows": null,
      "grid_column": null,
      "grid_gap": null,
      "grid_row": null,
      "grid_template_areas": null,
      "grid_template_columns": null,
      "grid_template_rows": null,
      "height": null,
      "justify_content": null,
      "justify_items": null,
      "left": null,
      "margin": null,
      "max_height": null,
      "max_width": null,
      "min_height": null,
      "min_width": null,
      "object_fit": null,
      "object_position": null,
      "order": null,
      "overflow": null,
      "overflow_x": null,
      "overflow_y": null,
      "padding": null,
      "right": null,
      "top": null,
      "visibility": null,
      "width": null
     }
    },
    "c4d737c9624f43968586df3ccb5ac4b6": {
     "model_module": "@jupyter-widgets/controls",
     "model_module_version": "1.5.0",
     "model_name": "HTMLModel",
     "state": {
      "_dom_classes": [],
      "_model_module": "@jupyter-widgets/controls",
      "_model_module_version": "1.5.0",
      "_model_name": "HTMLModel",
      "_view_count": null,
      "_view_module": "@jupyter-widgets/controls",
      "_view_module_version": "1.5.0",
      "_view_name": "HTMLView",
      "description": "",
      "description_tooltip": null,
      "layout": "IPY_MODEL_1fb70a20e41347b59ab3979d38bc0bd8",
      "placeholder": "​",
      "style": "IPY_MODEL_7777ecc9ec004fb7ac9f662ef3bcd6a5",
      "value": " 5.61k/? [00:00&lt;00:00, 120kB/s]"
     }
    },
    "cd973ed2e25b44a89ad974891328c753": {
     "model_module": "@jupyter-widgets/controls",
     "model_module_version": "1.5.0",
     "model_name": "DescriptionStyleModel",
     "state": {
      "_model_module": "@jupyter-widgets/controls",
      "_model_module_version": "1.5.0",
      "_model_name": "DescriptionStyleModel",
      "_view_count": null,
      "_view_module": "@jupyter-widgets/base",
      "_view_module_version": "1.2.0",
      "_view_name": "StyleView",
      "description_width": ""
     }
    },
    "ce0545aeb20549e89c406a9e1fe798e0": {
     "model_module": "@jupyter-widgets/controls",
     "model_module_version": "1.5.0",
     "model_name": "FloatProgressModel",
     "state": {
      "_dom_classes": [],
      "_model_module": "@jupyter-widgets/controls",
      "_model_module_version": "1.5.0",
      "_model_name": "FloatProgressModel",
      "_view_count": null,
      "_view_module": "@jupyter-widgets/controls",
      "_view_module_version": "1.5.0",
      "_view_name": "ProgressView",
      "bar_style": "success",
      "description": "",
      "description_tooltip": null,
      "layout": "IPY_MODEL_41cebc3321c44e49bb8cc3fe7294e087",
      "max": 2170,
      "min": 0,
      "orientation": "horizontal",
      "style": "IPY_MODEL_b9fbca8f3f7b4897adb62a751d36a5a9",
      "value": 2170
     }
    },
    "cfef1eb8d2364642a6c5eda5c5310b85": {
     "model_module": "@jupyter-widgets/base",
     "model_module_version": "1.2.0",
     "model_name": "LayoutModel",
     "state": {
      "_model_module": "@jupyter-widgets/base",
      "_model_module_version": "1.2.0",
      "_model_name": "LayoutModel",
      "_view_count": null,
      "_view_module": "@jupyter-widgets/base",
      "_view_module_version": "1.2.0",
      "_view_name": "LayoutView",
      "align_content": null,
      "align_items": null,
      "align_self": null,
      "border": null,
      "bottom": null,
      "display": null,
      "flex": null,
      "flex_flow": null,
      "grid_area": null,
      "grid_auto_columns": null,
      "grid_auto_flow": null,
      "grid_auto_rows": null,
      "grid_column": null,
      "grid_gap": null,
      "grid_row": null,
      "grid_template_areas": null,
      "grid_template_columns": null,
      "grid_template_rows": null,
      "height": null,
      "justify_content": null,
      "justify_items": null,
      "left": null,
      "margin": null,
      "max_height": null,
      "max_width": null,
      "min_height": null,
      "min_width": null,
      "object_fit": null,
      "object_position": null,
      "order": null,
      "overflow": null,
      "overflow_x": null,
      "overflow_y": null,
      "padding": null,
      "right": null,
      "top": null,
      "visibility": null,
      "width": null
     }
    },
    "e936a44d67ea45ce8f92c7e4216fc803": {
     "model_module": "@jupyter-widgets/controls",
     "model_module_version": "1.5.0",
     "model_name": "HBoxModel",
     "state": {
      "_dom_classes": [],
      "_model_module": "@jupyter-widgets/controls",
      "_model_module_version": "1.5.0",
      "_model_name": "HBoxModel",
      "_view_count": null,
      "_view_module": "@jupyter-widgets/controls",
      "_view_module_version": "1.5.0",
      "_view_name": "HBoxView",
      "box_style": "",
      "children": [
       "IPY_MODEL_99a79a309b604689ab47d3097d1077fa",
       "IPY_MODEL_ce0545aeb20549e89c406a9e1fe798e0",
       "IPY_MODEL_c4d737c9624f43968586df3ccb5ac4b6"
      ],
      "layout": "IPY_MODEL_6ec2d92f51824dbf8df026eef28df305"
     }
    },
    "fb8e97991edf41849d57603522f761d7": {
     "model_module": "@jupyter-widgets/controls",
     "model_module_version": "1.5.0",
     "model_name": "DescriptionStyleModel",
     "state": {
      "_model_module": "@jupyter-widgets/controls",
      "_model_module_version": "1.5.0",
      "_model_name": "DescriptionStyleModel",
      "_view_count": null,
      "_view_module": "@jupyter-widgets/base",
      "_view_module_version": "1.2.0",
      "_view_name": "StyleView",
      "description_width": ""
     }
    }
   }
  }
 },
 "nbformat": 4,
 "nbformat_minor": 1
}
