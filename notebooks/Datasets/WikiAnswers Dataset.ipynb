{
 "cells": [
  {
   "cell_type": "markdown",
   "metadata": {
    "id": "iij_h3FjLkuS"
   },
   "source": [
    "# WikiAnswers dataset\n",
    " \n",
    "Authors: Flora Geske\n",
    "\n",
    "Copyright (C) 2021 Flora Geske and DynaGroup i.T. GmbH"
   ]
  },
  {
   "cell_type": "markdown",
   "metadata": {
    "id": "U1LejlrxdyP7"
   },
   "source": [
    "+------------------------------------+\n",
    "| WikiAnswers Paraphrase Dataset 1.0 |\n",
    "+------------------------------------+\n",
    "\n",
    "Authors:\n",
    "\n",
    "    Anthony Fader (afader@cs.washington.edu)\n",
    "    Luke Zettlemoyer\n",
    "    Oren Etzioni\n",
    "\n",
    "This file describes the WikiAnswers Paraphrase Dataset. The dataset contains \n",
    "approximately 18 million word-aligned {question1, question2} pairs. \n",
    "\n",
    "If you use this data in your research, please use the following citation:\n",
    "\n",
    "@inproceedings{Fader13,\n",
    "    author    = {Anthony Fader and Luke Zettlemoyer and Oren Etzioni},\n",
    "    title     = {{Paraphrase-Driven Learning for Open Question Answering}},\n",
    "    booktitle = {Proceedings of the 51st Annual Meeting of the Association for \n",
    "                 Computational Linguistics},\n",
    "    year      = {2013}\n",
    "}\n",
    "\n",
    "+------------+\n",
    "| Background |\n",
    "+------------+\n",
    "\n",
    "WikiAnswers (http://wiki.answers.com) is a website where users can post \n",
    "questions and answers about almost any topic. A unique feature is that users\n",
    "can tag two questions as equivalent and merge them together. For example,\n",
    "here is a page listing the revisions to \"What is the date of birth for Malia \n",
    "Obama?\" \n",
    "\n",
    "    http://wiki.answers.com/Q/Special:Changes&cv=question:What_is_the_date_of_birth_for_Malia_Obama\n",
    "\n",
    "We crawled these pages over a period of a month in 2012 and scraped the \n",
    "paraphrases from pages like the one above. \n",
    "\n",
    "This dataset contains these paraphrases, their word alignments, and basic \n",
    "NLP processed versions of the questions (tokenization, tagging, and \n",
    "lemmatization). There are about 2.5 million distinct questions and \n",
    "18 million distinct paraphrase pairs.\n",
    "\n",
    "Here is some example data:\n",
    "\n",
    "    question: \n",
    "        \n",
    "    What are the green blobs in plant cells?\n",
    "\n",
    "    paraphrases (lemmatized):\n",
    "\n",
    "        a green substance in the plant cell be the ?\n",
    "        be cytoplasm a green cell part in certain plant cell ?\n",
    "        package of green coloring in plant cell ?\n",
    "        part of the plant cell where the cell get it green color ?\n",
    "        the green part in a plant be call ?\n",
    "        the green part of a plant cell ?\n",
    "        the part of the plant cell that make the plant green be call ?\n",
    "        what be green part call ?\n",
    "        what be green part in plant cell ?\n",
    "        what be the green body in a plant cell ?\n",
    "        what be the green machine within a plant cell ?\n",
    "        what be the green part of a plant cell ?\n",
    "        what be the green part of plant cell ?\n",
    "        what be the green substance in plant cell ?\n",
    "        what be the name of the green thing in the plant cell ?\n",
    "        what be the part of plant cell that give it green color ?\n",
    "        what be the part of the cell that produce the green color of the plant ?\n",
    "        what be the part of the plant cell that make the green color ?\n",
    "        what be to part of the plant cell ?\n",
    "        what cell part do plant have that enable the plant to be give a green color ?\n",
    "        what in a plant cell that be green ?\n",
    "        what part of the cell be large and green ?\n",
    "        what part of the plant cell turn it green ?\n",
    "\n",
    "\n",
    "+---------------+\n",
    "| questions.txt |\n",
    "+---------------+\n",
    "\n",
    "The file questions.txt contains four tab-separated columns of text in the form\n",
    "(question, tokens, pos-tags, lemmas). For example:\n",
    "\n",
    "    question: Are liposaccharides protiens?\n",
    "    tokens:   Are liposaccharides protiens ?\n",
    "    pos-tags: VBP NNS NNS .\n",
    "    lemmas:   be liposaccharide protien ?\n",
    "\n",
    "The tokens, pos-tags, and lemmas were produced using the Stanford CoreNLP \n",
    "tools. The code and models used are: stanford-corenlp-1.3.4.jar and \n",
    "stanford-corenlp-1.3.4-models.jar. The properties used were:\n",
    "\n",
    "    annotators = tokenize,ssplit,pos,lemma\n",
    "    ssplit.eolonly = true\n",
    "    \n",
    "\n",
    "+---------------------+\n",
    "| word_alignments.txt |\n",
    "+---------------------+\n",
    "\n",
    "The file word_alignments.txt contains three tab-separated columns of text\n",
    "in the form (question1, question2, word-alignments). Each question column is a\n",
    "space-separated list of lemmatized tokens. The word-alignment column is a \n",
    "space-separated list of word-index alignments. Here is an example record:\n",
    "\n",
    "    question1:       how many people live in racine ?\n",
    "    question2:       what be the population of racine ?\n",
    "    word-alignments: 0-0 1-1 2-2 2-3 3-3 4-4 5-5 6-6\n",
    "\n",
    "This record corresponds to the following word alignment:\n",
    "\n",
    "         0    1     2     3       4    5    6\n",
    "        how  many people live     in racine ?\n",
    "         |    |     | \\   |       |    |    |\n",
    "         |    |     |  \\  |       |    |    |\n",
    "         |    |     |   \\ |       |    |    |\n",
    "        what  be   the population of racine ?\n",
    "         0    1     2      3      4    5    6\n",
    "\n",
    "Each word alignment pair is in the form i-j, where i is the index in question1\n",
    "and j is the index in question2. The indexes start at 0. Some words may not be\n",
    "aligned to any word.\n",
    "\n",
    "The paraphrases in word_alignments.txt appear in both orders, (q1, q2, w) and\n",
    "(q2, q1, w'). \n",
    "\n",
    "The word-alignments were created using MGIZA++, called via Moses. The input\n",
    "corpus to MGIZA++ was (q1, q2) and (q2, q1) for each paraphrase. The command\n",
    "to create the alignments is:\n",
    "\n",
    "    perl $MOSES/scripts/training/train-model.perl \\\n",
    "        -mgiza \\\n",
    "        -mgiza-cpus 8 \\\n",
    "        -alignment grow-diag-final-and \\\n",
    "        -reordering msd-bidirectional-fe \\\n",
    "        --score-options='--GoodTuring' \\\n",
    "        --extract-options='--IncludeSentenceId' \\\n",
    "        -parallel\n"
   ]
  },
  {
   "cell_type": "code",
   "execution_count": null,
   "metadata": {
    "colab": {
     "base_uri": "https://localhost:8080/"
    },
    "id": "UepkiK2A1Exk",
    "outputId": "5b241e62-9770-4e44-c654-604413706983"
   },
   "outputs": [
    {
     "name": "stdout",
     "output_type": "stream",
     "text": [
      "Mounted at /content/drive\n"
     ]
    }
   ],
   "source": [
    "from google.colab import drive\n",
    "drive.mount('/content/drive')"
   ]
  },
  {
   "cell_type": "code",
   "execution_count": null,
   "metadata": {
    "id": "-IpQZjHPkf0K"
   },
   "outputs": [],
   "source": [
    "import numpy as np\n",
    "import pandas as pd"
   ]
  },
  {
   "cell_type": "code",
   "execution_count": null,
   "metadata": {
    "id": "1Jy1-J961GPE"
   },
   "outputs": [],
   "source": [
    "data = open('drive/My Drive/Paraphrasing API/datasets/wikianswers/word_alignments.txt', \"r\")"
   ]
  },
  {
   "cell_type": "code",
   "execution_count": null,
   "metadata": {
    "colab": {
     "base_uri": "https://localhost:8080/"
    },
    "id": "oF6nsvF1yQ43",
    "outputId": "f8045263-2ac5-477e-c5fb-c27b1df452b4"
   },
   "outputs": [
    {
     "name": "stdout",
     "output_type": "stream",
     "text": [
      "' 1922 '' caliber 126.1930 ?\twhat be the value of a sear 22 ?\t4-3 4-4 4-5 1-6 2-6 4-6 3-7 4-7 5-8\n",
      "' 1922 '' caliber 126.1930 ?\twhat be the value of a sear model 1 22 caliber rifle ?\t2-0 4-3 4-4 4-5 4-6 4-7 4-8 4-9 3-10 4-10 4-11 5-12\n",
      "' 1922 '' caliber 126.1930 ?\twhat be the value of a sears roebuick 22 caliber rifle 126.19320 ?\t4-3 4-4 4-5 4-6 4-7 4-8 3-9 4-10 0-11 1-11 2-11 3-11 4-11 5-12\n",
      "' 5 '10 inch in cm ?\t5 ' 10 how many cm ?\t1-0 0-1 2-2 3-3 5-4 4-5 5-5 6-6\n",
      "' 5 '10 inch in cm ?\t5 '10 be equal to how many centimeter ?\t1-0 0-1 1-1 2-1 3-1 4-2 4-3 5-4 5-5 5-6 5-7 6-8\n",
      "' 5 '10 inch in cm ?\t5 foot 10 inch be how many centimeter ?\t1-0 0-1 2-2 3-3 4-4 5-5 5-6 5-7 6-8\n",
      "' 5 '10 inch in cm ?\t5 foot 10 inch be what in meter and centimeter ?\t1-0 0-1 2-2 2-3 3-3 4-6 5-9 6-10\n",
      "' 5 '10 inch in cm ?\t5 foot 10 inch be what in metre and centimeter ?\t1-0 0-1 2-2 2-3 3-3 4-6 5-9 6-10\n",
      "' 5 '10 inch in cm ?\t5 foot 10 inch be what in metre and centimetre ?\t1-0 0-1 2-2 2-3 3-3 4-6 5-9 6-10\n",
      "' 5 '10 inch in cm ?\t5 foot 10 inch equal cm ?\t1-0 0-1 2-2 3-3 4-4 5-5 6-6\n",
      "' 5 '10 inch in cm ?\t5 foot 10 inch equal how many centimeter ?\t1-0 0-1 2-2 3-3 4-4 5-5 5-6 5-7 6-8\n",
      "' 5 '10 inch in cm ?\t5 foot 10 inch equal to how many cm ?\t1-0 0-1 2-2 3-3 4-4 4-5 5-6 5-7 5-8 6-9\n",
      "' 5 '10 inch in cm ?\t5 foot 10 inch in cm ?\t1-0 0-1 2-2 3-3 4-4 5-5 6-6\n",
      "' 5 '10 inch in cm ?\t5 foot 9 '' be how mant cm ?\t1-0 0-1 2-6 3-7 4-7 5-7 6-8\n",
      "' 5 '10 inch in cm ?\t5 foot and ten inch be equal to how many centimeter ?\t0-0 1-0 2-1 2-2 2-3 3-4 4-5 4-6 5-7 5-8 5-9 5-10 6-11\n",
      "' 5 '10 inch in cm ?\t5ft 10 in cm ?\t0-0 1-0 2-0 2-1 4-2 3-3 5-3 6-4\n",
      "' 5 '10 inch in cm ?\thow convert 5 '10 to centimeter ?\t3-1 2-2 0-3 1-3 2-3 3-3 4-4 5-5 6-6\n",
      "' 5 '10 inch in cm ?\thow many centemeter be 5 ' 10 ?\t5-1 3-2 5-2 4-3 1-4 2-4 2-5 2-6 6-7\n",
      "' 5 '10 inch in cm ?\thow many centemeter in 5 foot 10 inch ?\t6-0 5-1 5-2 4-3 1-4 2-5 2-6 3-7 6-8\n",
      "' 5 '10 inch in cm ?\thow many centimeter be 5 ' 10feet ?\t0-2 1-4 2-4 2-5 2-6 3-6 4-6 5-6 6-7\n",
      "' 5 '10 inch in cm ?\thow many centimeter be 5.10 ?\t3-2 4-3 0-4 1-4 2-4 3-4 4-4 5-4 6-5\n",
      "' 5 '10 inch in cm ?\thow many centimeter be ther in 5 foot and 10 inch ?\t5-1 5-2 5-3 1-6 2-6 0-7 2-7 2-8 2-9 3-10 4-11 6-11\n",
      "' 5 '10 inch in cm ?\thow many centimeter be there in 5 foot and 10 inch ?\t5-0 5-1 5-2 5-3 5-4 4-5 1-6 0-7 2-8 2-9 3-10 6-11\n",
      "' 5 '10 inch in cm ?\thow many centimeter be un 5 ft and 10 inch ?\t5-1 5-2 4-3 2-4 1-5 2-5 0-6 2-6 2-7 2-8 3-9 6-10\n",
      "' 5 '10 inch in cm ?\thow many centimeter equal to 5 ft and 10 inch ?\t6-0 5-1 5-2 4-3 5-3 4-4 1-5 0-6 2-7 2-8 3-9 6-10\n",
      "' 5 '10 inch in cm ?\thow many centimeter in 5 ft 10 in ?\t5-1 5-2 6-3 1-4 2-4 0-5 2-5 2-6 4-7 6-8\n",
      "' 5 '10 inch in cm ?\thow many centimetre be 5 foot 10 inch ?\t6-0 5-1 5-2 4-3 1-4 0-5 2-6 3-7 6-8\n",
      "' 5 '10 inch in cm ?\thow many centimetre be there in 5 foot 10 inch ?\t5-0 5-1 5-2 5-3 5-4 4-5 1-6 0-7 2-8 3-9 6-10\n",
      "' 5 '10 inch in cm ?\thow many centimetre be thre in 5 foot 10 inch ?\t5-1 5-2 5-3 1-6 2-6 0-7 2-7 2-8 3-9 4-10 6-10\n",
      "' 5 '10 inch in cm ?\thow many santimeter be 5 '10 foot ?\t5-1 4-3 1-4 2-4 2-5 3-5 2-6 6-7\n",
      "' 5 '10 inch in cm ?\thow much be 30 foot in cm ?\t0-3 1-3 2-3 2-4 3-4 4-5 5-6 6-7\n",
      "' 5 '10 inch in cm ?\thow much be 5 '10 in centimeter ?\t2-3 0-4 1-4 2-4 3-4 4-5 5-6 6-7\n",
      "' 5 '10 inch in cm ?\thow much be 5 '10 inch ?\t2-3 0-4 1-4 2-4 3-5 4-6 6-6\n",
      "' 5 '10 inch in cm ?\thow much be 5 foot 10 in cm ?\t1-3 2-3 0-4 2-4 2-5 4-6 3-7 5-7 6-8\n",
      "' 5 '10 inch in cm ?\tmany centimeter in 5 ' 10 ?\t3-0 3-1 5-1 4-2 1-3 0-4 2-5 6-6\n",
      "' 5 '10 inch in cm ?\twhat 5 foot 10 inch in centimetre ?\t1-0 1-1 2-1 0-2 2-2 2-3 3-4 4-5 5-6 6-7\n",
      "' 5 '10 inch in cm ?\twhat be 5 ' 10 in centimetre ?\t1-0 1-1 1-2 2-2 0-3 2-3 2-4 4-5 3-6 5-6 6-7\n",
      "' 5 '10 inch in cm ?\twhat be 5 '10 in centimeter ?\t1-0 1-1 2-2 0-3 1-3 2-3 3-3 4-4 5-5 6-6\n",
      "' 5 '10 inch in cm ?\twhat be 5 foot 10 in cm 's ?\t1-0 1-1 1-2 2-2 0-3 2-3 2-4 4-5 3-6 5-6 5-7 6-8\n",
      "' 5 '10 inch in cm ?\twhat be 5 foot 10 in cm ?\t1-0 1-1 1-2 2-2 0-3 2-3 2-4 4-5 3-6 5-6 6-7\n",
      "' 5 '10 inch in cm ?\twhat be 5 foot 10 inch in cm ?\t1-0 1-1 1-2 2-2 0-3 2-3 2-4 3-5 4-6 5-7 6-8\n",
      "' 5 '10 inch in cm ?\twhat be 5 foot 11 in cm ?\t1-0 1-1 0-2 1-2 2-2 2-3 3-3 2-4 4-5 5-6 6-7\n",
      "' 5 '10 inch in cm ?\twhat be 5 foot and 10 inch in centimetre ?\t1-0 1-1 1-2 2-2 0-3 2-3 2-4 2-5 3-6 4-7 5-8 6-9\n",
      "' 5 '10 inch in cm ?\twhat be 5foot10 in cm ?\t1-0 1-1 0-2 1-2 2-2 3-2 4-3 5-4 6-5\n",
      "' 5 '10 inch in cm ?\twhat be the height in centimeter of a person who be 5 foot 10 inch tall ?\t5-3 4-4 5-5 6-6 6-7 2-8 2-9 1-10 1-11 0-12 2-13 3-14 2-15 6-16\n",
      "' 600mb ' in all category ?\ta 600 mb movie be equal to how long ?\t1-0 1-1 0-2 1-2 2-2 1-3 4-4 3-6 6-9\n",
      "' 600mb ' in all category ?\thow many hour be a 600mb movie ?\t3-3 0-5 1-5 2-5 1-6 6-7\n",
      "' 600mb ' in all category ?\thow many hour do a movie director have ?\t4-1 1-4 0-5 1-5 1-6 1-7 2-7 3-8 6-8\n",
      "' 600mb ' in all category ?\thow many hour of movie do 16gb usb take ?\t3-3 4-4 4-5 0-6 1-6 2-6 5-6 1-7 1-8 6-9\n",
      "' 600mb ' in all category ?\thow many mb in a 3 hour movie ?\t1-0 1-1 0-2 1-2 2-2 3-3 4-7 6-8\n",
      "' 600mb ' in all category ?\thow many min in 600mb ?\t3-3 0-4 1-4 2-4 4-4 5-4 6-5\n",
      "' 600mb ' in all category ?\thow much be 600mb ?\t3-2 0-3 1-3 2-3 4-3 5-3 6-4\n",
      "' a beautiful mind ' be write by ?\ta beatiful mind director ?\t1-0 2-1 3-2 4-2 3-3 8-4\n",
      "' a beautiful mind ' be write by ?\ta beautiful mind director ?\t1-0 2-1 3-2 4-2 3-3 8-4\n",
      "' a beautiful mind ' be write by ?\tfive defencse mechanism use in beautiful mind ?\t0-1 7-4 2-5 3-6 8-7\n",
      "' a beautiful mind ' be write by ?\twhich director direct a beautiful mind ?\t0-2 1-3 2-4 3-5 4-5 6-5 7-5 8-6\n",
      "' a beautiful mind ' be write by ?\twho direct ` beautiful mind ' ?\t2-0 0-1 1-1 3-1 3-2 2-3 3-4 6-4 7-4 4-5 5-5 8-6\n",
      "' a beautiful mind ' be write by ?\twho direct a beautiful mind ?\t0-1 1-2 2-3 3-4 4-4 6-4 7-4 8-5\n",
      "' a beautiful mind ' be write by ?\twho direct beautiful mind ?\t2-0 0-1 1-1 2-2 3-3 4-3 6-3 7-3 8-4\n",
      "' a beautiful mind ' be write by ?\twho direct movie a beautiful mind ?\t5-0 0-1 1-3 2-4 3-5 4-5 6-5 7-5 8-6\n",
      "' a beautiful mind ' be write by ?\twho direct the movie a beautiful mind ?\t0-1 1-4 2-5 3-6 4-6 6-6 7-6 8-7\n",
      "' a beautiful mind ' be write by ?\twho direct the movie beautiful mind ?\t0-1 1-2 3-3 2-4 3-5 4-5 6-5 7-5 8-6\n",
      "' a young lizard ' ?\thow do lizard raise there young ?\t3-2 2-3 3-4 1-5 2-5 4-5 5-6\n",
      "' a young lizard ' ?\thow do we call the young of lizard ?\t0-3 1-4 2-5 4-6 3-7 5-8\n",
      "' a young lizard ' ?\thow youn lizard be call ?\t1-0 0-1 2-1 3-1 4-1 3-2 4-3 5-5\n",
      "' a young lizard ' ?\twhat be call bby lizard ?\t1-0 2-1 2-2 2-3 3-3 4-3 3-4 5-5\n",
      "' a young lizard ' ?\twhat be lizard baby call ?\t0-2 3-2 1-3 2-3 2-4 4-4 5-5\n",
      "' a young lizard ' ?\twhat be lizard offspring call ?\t0-2 3-2 1-3 2-3 2-4 4-4 5-5\n",
      "' a young lizard ' ?\twhat be the name of young lizard ?\t0-1 1-5 2-5 3-6 4-7 5-7\n",
      "' a young lizard ' ?\twhat be the young lizard call ?\t0-1 1-2 2-3 3-4 2-5 4-5 5-6\n",
      "' a young lizard ' ?\twhat be the young of a lizard ?\t0-1 1-2 2-3 2-5 3-6 5-7\n",
      "' a young lizard ' ?\twhat be the young of a lizard call ?\t1-2 0-3 2-3 2-5 3-6 2-7 4-7 5-8\n",
      "' a young lizard ' ?\twhat be the young of lizard call ?\t2-2 0-3 1-3 2-3 3-5 2-6 4-6 5-7\n",
      "' a young lizard ' ?\twhat be the young of the lizard call ?\t1-2 0-3 1-3 2-3 4-4 4-5 3-6 2-7 5-8\n",
      "' a young lizard ' ?\twhat be the young one of lizard know as ?\t0-1 1-2 2-3 2-4 3-6 4-7 4-8 5-9\n",
      "' a young lizard ' ?\twhat be young lizard call ?\t1-0 2-1 0-2 1-2 2-2 3-3 4-4 5-5\n",
      "' a young lizard ' ?\twhat be young of lizard call ?\t0-2 1-2 2-2 3-4 2-5 4-5 5-6\n",
      "' a young lizard ' ?\twhat be young sand lizard call ?\t1-0 2-1 0-2 2-2 1-3 3-4 4-5 5-6\n",
      "' a young lizard ' ?\twhat do you call a baby lizzard ?\t1-0 1-1 1-2 0-3 1-4 2-5 3-6 4-6 5-7\n",
      "' a young lizard ' ?\twhat do you call a young lizard ?\t1-0 1-1 1-2 0-3 1-4 2-5 3-6 4-7 5-7\n",
      "' a young lizard ' ?\twhat do you call by baby lizard ?\t0-1 1-2 0-3 0-4 1-5 2-5 3-6 4-7 5-7\n",
      "' a young lizard ' ?\twhat lizard young be call ?\t3-1 2-2 4-2 2-3 0-4 2-4 1-5 5-5\n",
      "' a young lizard ' ?\tyoung of a lizard call ?\t2-0 0-1 1-2 3-3 2-4 4-4 5-5\n",
      "' a young lizard ' ?\tyoung one of lizard ?\t0-0 2-0 1-1 2-1 3-3 5-4\n",
      "' canada 's tallest mountain ?\tthe most tallest mountain in canada ?\t2-0 2-1 3-1 3-2 4-3 0-4 5-4 1-5 5-6\n",
      "' canada 's tallest mountain ?\twhat be the smallest and tallest mountain in canada ?\t2-1 3-5 4-6 0-7 5-7 1-8 5-9\n",
      "' canada 's tallest mountain ?\twhat be the tallest mountain be canada ?\t2-2 3-3 4-4 4-5 1-6 0-7 5-7\n",
      "' endeavour ' be the four wheeler launch by ?\thow many people be on board the endeavor ?\t3-3 1-4 1-5 1-6 4-6 0-7 1-7 2-7 5-7 6-7 7-7 8-8 9-8\n",
      "' endeavour ' be the four wheeler launch by ?\thow many room do the endeavour have ?\t3-3 4-4 0-5 1-5 2-5 5-5 6-5 7-5 8-5 1-6 9-7\n",
      "' endeavour ' be the four wheeler launch by ?\thow much do the endeavor coast ' ?\t3-2 4-3 0-4 1-4 2-4 5-4 6-4 7-4 1-5 1-6 8-6 9-7\n",
      "' endeavour ' be the four wheeler launch by ?\thow much money do the endeavour cost ?\t3-3 4-4 0-5 1-5 2-5 5-5 6-5 7-5 8-5 1-6 9-7\n",
      "' endeavour ' be the four wheeler launch by ?\twhat do nasa do to resarch and accomplishment of altainschanllengercolimbiadiscorevyand endeavor ?\t4-0 3-1 5-6 8-8 0-9 1-9 2-9 1-10 9-11\n",
      "' endeavour ' be the four wheeler launch by ?\twhat happen to endeavour ?\t1-1 1-2 0-3 1-3 2-3 5-3 6-3 7-3 8-3 4-4 9-4\n",
      "' endeavour ' be the four wheeler launch by ?\twhen be endeavour 1st launch ?\t3-1 0-2 1-2 2-2 4-2 5-2 6-2 1-3 7-4 8-4 9-5\n",
      "' endeavour ' be the four wheeler launch by ?\twhen be endeavour last launch ?\t3-1 0-2 1-2 2-2 4-2 5-2 6-2 1-3 7-4 8-4 9-5\n",
      "' endeavour ' be the four wheeler launch by ?\twhen be endeavour launch ?\t3-1 0-2 1-2 2-2 4-2 5-2 6-2 7-3 8-3 9-4\n",
      "' endeavour ' be the four wheeler launch by ?\twhen be endeavur launch ?\t3-1 0-2 1-2 2-2 4-2 5-2 6-2 7-3 8-3 9-4\n",
      "' endeavour ' be the four wheeler launch by ?\twhen be the endeavor lached ?\t3-1 4-2 0-3 1-3 1-4 2-4 5-4 6-4 7-4 8-4 9-5\n",
      "' endeavour ' be the four wheeler launch by ?\twhen be the endeavor make ?\t3-1 4-2 0-3 1-3 2-3 5-3 6-3 7-3 1-4 8-4 9-5\n",
      "' endeavour ' be the four wheeler launch by ?\twhen the endeavour be launch ?\t1-0 1-1 0-2 1-2 2-2 4-2 5-2 6-2 3-3 7-4 8-4 9-5\n"
     ]
    }
   ],
   "source": [
    "N = 100\n",
    "with open('drive/My Drive/Paraphrasing API/datasets/wikianswers/word_alignments.txt', \"r\") as file:  # the a opens it in append mode\n",
    "    for i in range(N):\n",
    "        line = next(file).strip()\n",
    "        print(line)"
   ]
  },
  {
   "cell_type": "code",
   "execution_count": null,
   "metadata": {
    "id": "bDQM09FazYqs"
   },
   "outputs": [],
   "source": [
    "df = pd.DataFrame()\n",
    "for chunk in pd.read_table(data, header=None, names=['q1', 'q2', 'alignment'], chunksize=100000):\n",
    "    df = pd.concat([df, chunk], ignore_index=True)"
   ]
  },
  {
   "cell_type": "code",
   "execution_count": null,
   "metadata": {
    "colab": {
     "base_uri": "https://localhost:8080/"
    },
    "id": "ZKuTT9mZv__X",
    "outputId": "a5ac17dd-acfa-4cff-89a3-c6d2614fd5e9"
   },
   "outputs": [
    {
     "name": "stdout",
     "output_type": "stream",
     "text": [
      "                              q1                                                 q2\n",
      "0   ' 1922 '' caliber 126.1930 ?                   what be the value of a sear 22 ?\n",
      "1   ' 1922 '' caliber 126.1930 ?  what be the value of a sear model 1 22 caliber...\n",
      "2   ' 1922 '' caliber 126.1930 ?  what be the value of a sears roebuick 22 calib...\n",
      "3           ' 5 '10 inch in cm ?                               5 ' 10 how many cm ?\n",
      "4           ' 5 '10 inch in cm ?            5 '10 be equal to how many centimeter ?\n",
      "5           ' 5 '10 inch in cm ?            5 foot 10 inch be how many centimeter ?\n",
      "6           ' 5 '10 inch in cm ?   5 foot 10 inch be what in meter and centimeter ?\n",
      "7           ' 5 '10 inch in cm ?   5 foot 10 inch be what in metre and centimeter ?\n",
      "8           ' 5 '10 inch in cm ?   5 foot 10 inch be what in metre and centimetre ?\n",
      "9           ' 5 '10 inch in cm ?                          5 foot 10 inch equal cm ?\n",
      "10          ' 5 '10 inch in cm ?         5 foot 10 inch equal how many centimeter ?\n",
      "11          ' 5 '10 inch in cm ?              5 foot 10 inch equal to how many cm ?\n",
      "12          ' 5 '10 inch in cm ?                             5 foot 10 inch in cm ?\n",
      "13          ' 5 '10 inch in cm ?                       5 foot 9 '' be how mant cm ?\n",
      "14          ' 5 '10 inch in cm ?  5 foot and ten inch be equal to how many centi...\n",
      "15          ' 5 '10 inch in cm ?                                     5ft 10 in cm ?\n",
      "16          ' 5 '10 inch in cm ?                  how convert 5 '10 to centimeter ?\n",
      "17          ' 5 '10 inch in cm ?                    how many centemeter be 5 ' 10 ?\n",
      "18          ' 5 '10 inch in cm ?            how many centemeter in 5 foot 10 inch ?\n",
      "19          ' 5 '10 inch in cm ?                how many centimeter be 5 ' 10feet ?\n",
      "20          ' 5 '10 inch in cm ?                      how many centimeter be 5.10 ?\n",
      "21          ' 5 '10 inch in cm ?  how many centimeter be ther in 5 foot and 10 i...\n",
      "22          ' 5 '10 inch in cm ?  how many centimeter be there in 5 foot and 10 ...\n",
      "23          ' 5 '10 inch in cm ?       how many centimeter be un 5 ft and 10 inch ?\n",
      "24          ' 5 '10 inch in cm ?    how many centimeter equal to 5 ft and 10 inch ?\n",
      "25          ' 5 '10 inch in cm ?                how many centimeter in 5 ft 10 in ?\n",
      "26          ' 5 '10 inch in cm ?            how many centimetre be 5 foot 10 inch ?\n",
      "27          ' 5 '10 inch in cm ?   how many centimetre be there in 5 foot 10 inch ?\n",
      "28          ' 5 '10 inch in cm ?    how many centimetre be thre in 5 foot 10 inch ?\n",
      "29          ' 5 '10 inch in cm ?                how many santimeter be 5 '10 foot ?\n",
      "30          ' 5 '10 inch in cm ?                        how much be 30 foot in cm ?\n",
      "31          ' 5 '10 inch in cm ?                  how much be 5 '10 in centimeter ?\n",
      "32          ' 5 '10 inch in cm ?                           how much be 5 '10 inch ?\n",
      "33          ' 5 '10 inch in cm ?                      how much be 5 foot 10 in cm ?\n",
      "34          ' 5 '10 inch in cm ?                        many centimeter in 5 ' 10 ?\n",
      "35          ' 5 '10 inch in cm ?                what 5 foot 10 inch in centimetre ?\n",
      "36          ' 5 '10 inch in cm ?                     what be 5 ' 10 in centimetre ?\n",
      "37          ' 5 '10 inch in cm ?                      what be 5 '10 in centimeter ?\n",
      "38          ' 5 '10 inch in cm ?                       what be 5 foot 10 in cm 's ?\n",
      "39          ' 5 '10 inch in cm ?                          what be 5 foot 10 in cm ?\n",
      "40          ' 5 '10 inch in cm ?                     what be 5 foot 10 inch in cm ?\n",
      "41          ' 5 '10 inch in cm ?                          what be 5 foot 11 in cm ?\n",
      "42          ' 5 '10 inch in cm ?         what be 5 foot and 10 inch in centimetre ?\n",
      "43          ' 5 '10 inch in cm ?                            what be 5foot10 in cm ?\n",
      "44          ' 5 '10 inch in cm ?  what be the height in centimeter of a person w...\n",
      "45   ' 600mb ' in all category ?              a 600 mb movie be equal to how long ?\n",
      "46   ' 600mb ' in all category ?                   how many hour be a 600mb movie ?\n",
      "47   ' 600mb ' in all category ?           how many hour do a movie director have ?\n",
      "48   ' 600mb ' in all category ?          how many hour of movie do 16gb usb take ?\n",
      "49   ' 600mb ' in all category ?                    how many mb in a 3 hour movie ?\n"
     ]
    }
   ],
   "source": [
    "print(df[['q1', 'q2']].head(50))"
   ]
  },
  {
   "cell_type": "code",
   "execution_count": null,
   "metadata": {
    "colab": {
     "base_uri": "https://localhost:8080/"
    },
    "id": "vXXlEorBxDs0",
    "outputId": "3b9b676f-b29d-4f48-8d81-c3beb29e99f7"
   },
   "outputs": [
    {
     "data": {
      "text/plain": [
       "35291308"
      ]
     },
     "execution_count": 44,
     "metadata": {},
     "output_type": "execute_result"
    }
   ],
   "source": [
    "len(df)"
   ]
  },
  {
   "cell_type": "code",
   "execution_count": null,
   "metadata": {
    "colab": {
     "base_uri": "https://localhost:8080/",
     "height": 417
    },
    "id": "R5Ga-HWO2t3r",
    "outputId": "bd0d8063-107d-4660-f990-8a2e70701891"
   },
   "outputs": [
    {
     "data": {
      "text/html": [
       "<div>\n",
       "<style scoped>\n",
       "    .dataframe tbody tr th:only-of-type {\n",
       "        vertical-align: middle;\n",
       "    }\n",
       "\n",
       "    .dataframe tbody tr th {\n",
       "        vertical-align: top;\n",
       "    }\n",
       "\n",
       "    .dataframe thead th {\n",
       "        text-align: right;\n",
       "    }\n",
       "</style>\n",
       "<table border=\"1\" class=\"dataframe\">\n",
       "  <thead>\n",
       "    <tr style=\"text-align: right;\">\n",
       "      <th></th>\n",
       "      <th>q1</th>\n",
       "      <th>q2</th>\n",
       "      <th>alignment</th>\n",
       "    </tr>\n",
       "  </thead>\n",
       "  <tbody>\n",
       "    <tr>\n",
       "      <th>0</th>\n",
       "      <td>' 1922 '' caliber 126.1930 ?</td>\n",
       "      <td>what be the value of a sear 22 ?</td>\n",
       "      <td>4-3 4-4 4-5 1-6 2-6 4-6 3-7 4-7 5-8</td>\n",
       "    </tr>\n",
       "    <tr>\n",
       "      <th>1</th>\n",
       "      <td>' 1922 '' caliber 126.1930 ?</td>\n",
       "      <td>what be the value of a sear model 1 22 caliber...</td>\n",
       "      <td>2-0 4-3 4-4 4-5 4-6 4-7 4-8 4-9 3-10 4-10 4-11...</td>\n",
       "    </tr>\n",
       "    <tr>\n",
       "      <th>2</th>\n",
       "      <td>' 1922 '' caliber 126.1930 ?</td>\n",
       "      <td>what be the value of a sears roebuick 22 calib...</td>\n",
       "      <td>4-3 4-4 4-5 4-6 4-7 4-8 3-9 4-10 0-11 1-11 2-1...</td>\n",
       "    </tr>\n",
       "    <tr>\n",
       "      <th>3</th>\n",
       "      <td>' 5 '10 inch in cm ?</td>\n",
       "      <td>5 ' 10 how many cm ?</td>\n",
       "      <td>1-0 0-1 2-2 3-3 5-4 4-5 5-5 6-6</td>\n",
       "    </tr>\n",
       "    <tr>\n",
       "      <th>4</th>\n",
       "      <td>' 5 '10 inch in cm ?</td>\n",
       "      <td>5 '10 be equal to how many centimeter ?</td>\n",
       "      <td>1-0 0-1 1-1 2-1 3-1 4-2 4-3 5-4 5-5 5-6 5-7 6-8</td>\n",
       "    </tr>\n",
       "    <tr>\n",
       "      <th>...</th>\n",
       "      <td>...</td>\n",
       "      <td>...</td>\n",
       "      <td>...</td>\n",
       "    </tr>\n",
       "    <tr>\n",
       "      <th>35291304</th>\n",
       "      <td>zygote produce seed in a plant ?</td>\n",
       "      <td>why plant produce seed ?</td>\n",
       "      <td>4-0 5-0 5-1 0-2 1-2 2-3 3-4 6-4</td>\n",
       "    </tr>\n",
       "    <tr>\n",
       "      <th>35291305</th>\n",
       "      <td>zylinder in isuzu ?</td>\n",
       "      <td>how many zylinder isuzu d-max engine ?</td>\n",
       "      <td>0-0 0-1 0-2 2-3 1-4 0-5 3-6</td>\n",
       "    </tr>\n",
       "    <tr>\n",
       "      <th>35291306</th>\n",
       "      <td>zyrtec facial sweating ?</td>\n",
       "      <td>can excess facial sweating trigger rosacea ?</td>\n",
       "      <td>1-0 2-1 1-2 2-3 1-4 0-5 3-6</td>\n",
       "    </tr>\n",
       "    <tr>\n",
       "      <th>35291307</th>\n",
       "      <td>zyrtec facial sweating ?</td>\n",
       "      <td>how can you prevent facial sweating ?</td>\n",
       "      <td>0-1 0-2 1-3 0-4 1-4 2-5 3-6</td>\n",
       "    </tr>\n",
       "    <tr>\n",
       "      <th>35291308</th>\n",
       "      <td>zyrtec facial sweating ?</td>\n",
       "      <td>how do you control facial sweating ?</td>\n",
       "      <td>1-1 1-2 2-3 0-4 1-4 2-5 3-6</td>\n",
       "    </tr>\n",
       "  </tbody>\n",
       "</table>\n",
       "<p>35291309 rows × 3 columns</p>\n",
       "</div>"
      ],
      "text/plain": [
       "                                        q1  ...                                          alignment\n",
       "0             ' 1922 '' caliber 126.1930 ?  ...                4-3 4-4 4-5 1-6 2-6 4-6 3-7 4-7 5-8\n",
       "1             ' 1922 '' caliber 126.1930 ?  ...  2-0 4-3 4-4 4-5 4-6 4-7 4-8 4-9 3-10 4-10 4-11...\n",
       "2             ' 1922 '' caliber 126.1930 ?  ...  4-3 4-4 4-5 4-6 4-7 4-8 3-9 4-10 0-11 1-11 2-1...\n",
       "3                     ' 5 '10 inch in cm ?  ...                    1-0 0-1 2-2 3-3 5-4 4-5 5-5 6-6\n",
       "4                     ' 5 '10 inch in cm ?  ...    1-0 0-1 1-1 2-1 3-1 4-2 4-3 5-4 5-5 5-6 5-7 6-8\n",
       "...                                    ...  ...                                                ...\n",
       "35291304  zygote produce seed in a plant ?  ...                    4-0 5-0 5-1 0-2 1-2 2-3 3-4 6-4\n",
       "35291305               zylinder in isuzu ?  ...                        0-0 0-1 0-2 2-3 1-4 0-5 3-6\n",
       "35291306          zyrtec facial sweating ?  ...                        1-0 2-1 1-2 2-3 1-4 0-5 3-6\n",
       "35291307          zyrtec facial sweating ?  ...                        0-1 0-2 1-3 0-4 1-4 2-5 3-6\n",
       "35291308          zyrtec facial sweating ?  ...                        1-1 1-2 2-3 0-4 1-4 2-5 3-6\n",
       "\n",
       "[35291309 rows x 3 columns]"
      ]
     },
     "execution_count": 7,
     "metadata": {},
     "output_type": "execute_result"
    }
   ],
   "source": [
    "df"
   ]
  },
  {
   "cell_type": "code",
   "execution_count": null,
   "metadata": {
    "id": "eR2k9iQQiV3e"
   },
   "outputs": [],
   "source": [
    "df.to_csv('/content/drive/My Drive/Paraphrasing API/datasets/combine_datasets/WikiAnswers.csv', encoding='utf-8', index=False)"
   ]
  }
 ],
 "metadata": {
  "colab": {
   "collapsed_sections": [],
   "name": "WikiAnswers.ipynb",
   "provenance": []
  },
  "kernelspec": {
   "display_name": "Python 3",
   "language": "python",
   "name": "python3"
  },
  "language_info": {
   "codemirror_mode": {
    "name": "ipython",
    "version": 3
   },
   "file_extension": ".py",
   "mimetype": "text/x-python",
   "name": "python",
   "nbconvert_exporter": "python",
   "pygments_lexer": "ipython3",
   "version": "3.8.8"
  }
 },
 "nbformat": 4,
 "nbformat_minor": 1
}
